{
 "cells": [
  {
   "cell_type": "markdown",
   "metadata": {},
   "source": [
    "# This notebook explores the Energy Preserving Neural Network Idea!\n",
    "-------------------------------------------------------------------------------------------------------------------\n",
    "# Dataset used => MNIST\n",
    "-------------------------------------------------------------------------------------------------------------------\n",
    "# Technology used => TensorFlow"
   ]
  },
  {
   "cell_type": "markdown",
   "metadata": {},
   "source": [
    "## This network has only one hidden layer, but more number of neurons in the hidden layer"
   ]
  },
  {
   "cell_type": "markdown",
   "metadata": {},
   "source": [
    "### This network is only two layers deep: With a single hidden layer"
   ]
  },
  {
   "cell_type": "code",
   "execution_count": 1,
   "metadata": {},
   "outputs": [],
   "source": [
    "# import all the required packages: \n",
    "# packages used for processing: \n",
    "from __future__ import print_function # making backward compatible\n",
    "\n",
    "import matplotlib.pyplot as plt # for visualization\n",
    "import numpy as np\n",
    "\n",
    "# THE TensorFlow framework\n",
    "import tensorflow as tf\n",
    "# use the tensorflow's archived version of the MNIST dataset\n",
    "from tensorflow.examples.tutorials.mnist import input_data\n",
    "\n",
    "# for operating system related stuff\n",
    "import os\n",
    "import sys # for memory usage of objects\n",
    "from subprocess import check_output\n",
    "\n",
    "# to plot the images inline\n",
    "%matplotlib inline"
   ]
  },
  {
   "cell_type": "code",
   "execution_count": 2,
   "metadata": {},
   "outputs": [],
   "source": [
    "# Input data files are available in the \"../Data/\" directory.\n",
    "\n",
    "def exec_command(cmd):\n",
    "    '''\n",
    "        function to execute a shell command and see it's \n",
    "        output in the python console\n",
    "        @params\n",
    "        cmd = the command to be executed along with the arguments\n",
    "              ex: ['ls', '../input']\n",
    "    '''\n",
    "    print(check_output(cmd).decode(\"utf8\"))"
   ]
  },
  {
   "cell_type": "code",
   "execution_count": 3,
   "metadata": {},
   "outputs": [
    {
     "name": "stdout",
     "output_type": "stream",
     "text": [
      "Data\n",
      "Error_analysis\n",
      "LICENSE\n",
      "Literature_survey\n",
      "Models\n",
      "README.md\n",
      "Res\n",
      "Scripts\n",
      "\n"
     ]
    }
   ],
   "source": [
    "# check the structure of the project directory\n",
    "exec_command(['ls', '../..'])"
   ]
  },
  {
   "cell_type": "code",
   "execution_count": 4,
   "metadata": {},
   "outputs": [],
   "source": [
    "# set a seed value for the script\n",
    "seed_value = 3"
   ]
  },
  {
   "cell_type": "code",
   "execution_count": 5,
   "metadata": {},
   "outputs": [],
   "source": [
    "np.random.seed(seed_value) # set this seed for a device independant consistent behaviour"
   ]
  },
  {
   "cell_type": "code",
   "execution_count": 6,
   "metadata": {},
   "outputs": [],
   "source": [
    "''' Set the constants for the script '''\n",
    "\n",
    "# various paths of the files\n",
    "base_data_path = \"../../Data\" # the data path\n",
    "\n",
    "base_model_path = \"../../Models/IDEA_3\"\n",
    "\n",
    "# constant values for the script\n",
    "num_digits = 10 # This is defined. There are 10 labels for 10 digits\n",
    "img_dim = 28 # images are 28 x 28 sized\n",
    "num_channels = 1 # images are grayscale"
   ]
  },
  {
   "cell_type": "code",
   "execution_count": 7,
   "metadata": {},
   "outputs": [],
   "source": [
    "# Hyper parameters for tweaking.\n",
    "# =================================================================================================================\n",
    "training_batch_size = 64 # 64 images in each batch\n",
    "no_of_epochs = 50\n",
    "\n",
    "\n",
    "# network architecture related parameters:\n",
    "''' Note that the number of layers will be fixed. you can tweak the number of hidden neurons in these layers: '''\n",
    "num_hidden_lay_1 = 1024\n",
    "num_hidden_lay_2 = num_digits\n",
    "\n",
    "# learning rate required for other optimizers:\n",
    "learning_rate = 3e-4 # lolz! the karpathy constant\n",
    "# ================================================================================================================="
   ]
  },
  {
   "cell_type": "code",
   "execution_count": 8,
   "metadata": {},
   "outputs": [
    {
     "name": "stdout",
     "output_type": "stream",
     "text": [
      "Extracting ../../Data/MNIST_data/train-images-idx3-ubyte.gz\n",
      "Extracting ../../Data/MNIST_data/train-labels-idx1-ubyte.gz\n",
      "Extracting ../../Data/MNIST_data/t10k-images-idx3-ubyte.gz\n",
      "Extracting ../../Data/MNIST_data/t10k-labels-idx1-ubyte.gz\n"
     ]
    }
   ],
   "source": [
    "mnist = input_data.read_data_sets(os.path.join(base_data_path, \"MNIST_data\"), seed=seed_value, one_hot=True)"
   ]
  },
  {
   "cell_type": "code",
   "execution_count": 9,
   "metadata": {},
   "outputs": [],
   "source": [
    "train_X = mnist.train.images; train_Y = mnist.train.labels\n",
    "dev_X = mnist.validation.images; dev_Y = mnist.validation.labels\n",
    "test_X = mnist.test.images; test_Y = mnist.test.labels"
   ]
  },
  {
   "cell_type": "code",
   "execution_count": 10,
   "metadata": {},
   "outputs": [
    {
     "name": "stdout",
     "output_type": "stream",
     "text": [
      "Training Data shapes:  (55000, 784) (55000, 10)\n",
      "Development Data shapes:  (5000, 784) (5000, 10)\n",
      "Test Data shapes:  (10000, 784) (10000, 10)\n"
     ]
    }
   ],
   "source": [
    "# print all the shapes:\n",
    "print(\"Training Data shapes: \", train_X.shape, train_Y.shape)\n",
    "print(\"Development Data shapes: \", dev_X.shape, dev_Y.shape)\n",
    "print(\"Test Data shapes: \", test_X.shape, test_Y.shape)"
   ]
  },
  {
   "cell_type": "code",
   "execution_count": 11,
   "metadata": {},
   "outputs": [],
   "source": [
    "# define the total_train_examples, total_dev_examples and the total_test_examples using the above arrays\n",
    "total_train_examples = train_X.shape[0]\n",
    "total_dev_examples = dev_X.shape[0]\n",
    "total_test_examples = test_X.shape[0]\n",
    "input_dimension = train_X.shape[1]"
   ]
  },
  {
   "cell_type": "code",
   "execution_count": 12,
   "metadata": {},
   "outputs": [
    {
     "name": "stdout",
     "output_type": "stream",
     "text": [
      "Training_data_size = 55000\n",
      "Development_data_size = 5000\n",
      "Test_data_size = 10000\n",
      "Input data dimensions = 784\n"
     ]
    }
   ],
   "source": [
    "# just double checking if all the values are correct:\n",
    "print(\"Training_data_size =\", total_train_examples)\n",
    "print(\"Development_data_size =\", total_dev_examples)\n",
    "print(\"Test_data_size =\", total_test_examples)\n",
    "print(\"Input data dimensions =\", input_dimension)"
   ]
  },
  {
   "cell_type": "code",
   "execution_count": 13,
   "metadata": {},
   "outputs": [
    {
     "data": {
      "image/png": "[encoded data removed]",
      "text/plain": [
       "<matplotlib.figure.Figure at 0x7f78f45e7650>"
      ]
     },
     "metadata": {},
     "output_type": "display_data"
    }
   ],
   "source": [
    "''' Randomized cell: Behaviour changes upon running multiple times '''\n",
    "\n",
    "random_index = np.random.randint(total_train_examples)\n",
    "\n",
    "# bring the random image from the training data\n",
    "random_image = train_X[random_index].reshape((img_dim, img_dim))\n",
    "label_for_random_image = np.argmax(train_Y[random_index])\n",
    "\n",
    "# display this random image:\n",
    "plt.figure().suptitle(\"Image for digit: \" + str(label_for_random_image))\n",
    "plt.imshow(random_image);"
   ]
  },
  {
   "cell_type": "markdown",
   "metadata": {},
   "source": [
    "## Experimentation: "
   ]
  },
  {
   "cell_type": "markdown",
   "metadata": {},
   "source": [
    "In this notebook, I'll compare three different versions of neural networks. First is the usual neural network that uses batch_normalization and ReLU's everywhere. Second is the scattering network that fully preserves the energy (norm) of the input vector. Third is the hybrid of the two. "
   ]
  },
  {
   "cell_type": "code",
   "execution_count": 14,
   "metadata": {},
   "outputs": [],
   "source": [
    "tf.reset_default_graph()"
   ]
  },
  {
   "cell_type": "code",
   "execution_count": 15,
   "metadata": {},
   "outputs": [],
   "source": [
    "# define the placeholders for the model:\n",
    "with tf.name_scope(\"Input_Placeholders\"):\n",
    "    tf_input_images = tf.placeholder(tf.float32, shape=(None, input_dimension), name=\"input_images\")\n",
    "    tf_input_labels = tf.placeholder(tf.float32, shape=(None, num_digits), name=\"input_labels\")\n",
    "    \n",
    "    # add input images summary:\n",
    "    input_image_summary = tf.summary.image(\"Input_images\", \n",
    "                                    tf.reshape(tf_input_images, shape=(-1, img_dim, img_dim, num_channels)))"
   ]
  },
  {
   "cell_type": "markdown",
   "metadata": {},
   "source": [
    "define the three layers for the modified neural network:"
   ]
  },
  {
   "cell_type": "code",
   "execution_count": 16,
   "metadata": {},
   "outputs": [],
   "source": [
    "# define the first layer: \n",
    "with tf.variable_scope(\"layer_1\"):\n",
    "    # create the matrix variable\n",
    "    lay_1_connections = tf.get_variable(\"lay1_connections\", shape=(num_hidden_lay_1, input_dimension), \n",
    "                                    dtype=tf.float32, initializer=tf.truncated_normal_initializer(seed=seed_value))\n",
    "    \n",
    "    with tf.name_scope(\"transformed_weights\"):\n",
    "        transformed_lay_1_connections = tf.nn.softmax(lay_1_connections, dim=0, name=\"softmax\")\n",
    "    \n",
    "    # define the outputs of the layer1:\n",
    "    lay_1_out = tf.matmul(transformed_lay_1_connections, \n",
    "                                        tf.transpose(tf_input_images)) # This is a simple matmul! no biases req.\n",
    "    \n",
    "    # add histogram summary over the lay_1_connections:\n",
    "    lay_1_connections_summary = tf.summary.histogram(\"lay_1_connections\", lay_1_connections)"
   ]
  },
  {
   "cell_type": "code",
   "execution_count": 17,
   "metadata": {},
   "outputs": [
    {
     "name": "stdout",
     "output_type": "stream",
     "text": [
      "Layer_1 output: Tensor(\"layer_1/MatMul:0\", shape=(1024, ?), dtype=float32)\n"
     ]
    }
   ],
   "source": [
    "# print the tensor shape of the lay_1_out\n",
    "print(\"Layer_1 output:\", lay_1_out)"
   ]
  },
  {
   "cell_type": "code",
   "execution_count": 18,
   "metadata": {},
   "outputs": [],
   "source": [
    "# define the second layer: \n",
    "with tf.variable_scope(\"layer_2\"):\n",
    "    # create the matrix variable\n",
    "    lay_2_connections = tf.get_variable(\"lay2_connections\", shape=(num_hidden_lay_2, num_hidden_lay_1), \n",
    "                                    dtype=tf.float32, initializer=tf.truncated_normal_initializer(seed=seed_value))\n",
    "    \n",
    "    with tf.name_scope(\"transformed_weights\"):\n",
    "        transformed_lay_2_connections = tf.nn.softmax(lay_2_connections, dim=0, name=\"softmax\")\n",
    "    \n",
    "    # define the outputs of the layer2:\n",
    "    lay_2_out = tf.matmul(transformed_lay_2_connections, \n",
    "                                        lay_1_out) # This is a simple matmul! no biases req.\n",
    "    \n",
    "    lay_2_connections_summary = tf.summary.histogram(\"lay_2_connections\", lay_2_connections)"
   ]
  },
  {
   "cell_type": "code",
   "execution_count": 19,
   "metadata": {},
   "outputs": [
    {
     "name": "stdout",
     "output_type": "stream",
     "text": [
      "Layer_2 output: Tensor(\"layer_2/MatMul:0\", shape=(10, ?), dtype=float32)\n"
     ]
    }
   ],
   "source": [
    "# print the tensor shape of the lay_2_out\n",
    "print(\"Layer_2 output:\", lay_2_out)"
   ]
  },
  {
   "cell_type": "code",
   "execution_count": 20,
   "metadata": {},
   "outputs": [],
   "source": [
    "# define the predictions obtained from these computations:\n",
    "with tf.name_scope(\"Predictions\"):\n",
    "    predictions = tf.nn.softmax(tf.transpose(lay_2_out))"
   ]
  },
  {
   "cell_type": "code",
   "execution_count": 21,
   "metadata": {},
   "outputs": [
    {
     "name": "stdout",
     "output_type": "stream",
     "text": [
      "Predictions: Tensor(\"Predictions/Softmax:0\", shape=(?, 10), dtype=float32)\n"
     ]
    }
   ],
   "source": [
    "# print the shape of the predictions:\n",
    "print(\"Predictions:\", predictions)"
   ]
  },
  {
   "cell_type": "markdown",
   "metadata": {},
   "source": [
    "define the loss for optimization:"
   ]
  },
  {
   "cell_type": "code",
   "execution_count": 22,
   "metadata": {},
   "outputs": [],
   "source": [
    "# loss definition:\n",
    "with tf.name_scope(\"Loss\"):\n",
    "    loss = tf.reduce_mean(tf.nn.softmax_cross_entropy_with_logits(logits=tf.transpose(lay_2_out), \n",
    "                                                                              labels=tf_input_labels))\n",
    "    \n",
    "    # attach a scalar summary over this:\n",
    "    loss_summary = tf.summary.scalar(\"Loss\", loss)"
   ]
  },
  {
   "cell_type": "code",
   "execution_count": 23,
   "metadata": {},
   "outputs": [],
   "source": [
    "# define the accuracy calculation module:\n",
    "with tf.name_scope(\"Accuracy\"):\n",
    "    correct = tf.equal(tf.argmax(predictions, axis=-1), tf.argmax(tf_input_labels, axis=-1))\n",
    "    accuracy = tf.reduce_mean(tf.cast(correct, dtype=tf.float32))\n",
    "    \n",
    "    # attach a scalar summary for the accuracy calculates\n",
    "    accuracy_summary = tf.summary.scalar(\"Accuracy\", accuracy)"
   ]
  },
  {
   "cell_type": "code",
   "execution_count": 24,
   "metadata": {},
   "outputs": [],
   "source": [
    "# define the trainer of the operation\n",
    "with tf.name_scope(\"Trainer\"):\n",
    "    train_step = tf.train.AdamOptimizer(learning_rate).minimize(loss)"
   ]
  },
  {
   "cell_type": "code",
   "execution_count": 25,
   "metadata": {},
   "outputs": [],
   "source": [
    "# define the tensorflow errands\n",
    "with tf.name_scope(\"Errands\"):\n",
    "    init = tf.global_variables_initializer()\n",
    "    all_summaries = tf.summary.merge_all()"
   ]
  },
  {
   "cell_type": "markdown",
   "metadata": {},
   "source": [
    "### Start the session to train the model"
   ]
  },
  {
   "cell_type": "code",
   "execution_count": null,
   "metadata": {},
   "outputs": [],
   "source": [
    "# define the model to train: \n",
    "model_name = \"Model_fully_energy_preserving_1_deep_1024_wide\"\n",
    "# generate the model saving path:\n",
    "model_save_path = os.path.join(base_model_path, model_name)"
   ]
  },
  {
   "cell_type": "code",
   "execution_count": null,
   "metadata": {
    "scrolled": false
   },
   "outputs": [
    {
     "name": "stdout",
     "output_type": "stream",
     "text": [
      "Starting the training process . . .\n",
      "epoch = 0 \tcost = 2.0741\n",
      "accuracy = 0.286428052326\n",
      "Obtained Dev accuracy =  0.5148\n",
      "epoch = 1 \tcost = 1.86008\n",
      "accuracy = 0.660925387574\n",
      "Obtained Dev accuracy =  0.7192\n",
      "epoch = 2 \tcost = 1.63675\n",
      "accuracy = 0.74320494186\n",
      "Obtained Dev accuracy =  0.7656\n",
      "epoch = 3 \tcost = 1.41663\n",
      "accuracy = 0.768798449636\n",
      "Obtained Dev accuracy =  0.78\n",
      "epoch = 4 \tcost = 1.21733\n",
      "accuracy = 0.78515625\n",
      "Obtained Dev accuracy =  0.792\n",
      "epoch = 5 \tcost = 1.04806\n",
      "accuracy = 0.797414001961\n",
      "Obtained Dev accuracy =  0.805\n",
      "epoch = 6 \tcost = 0.908554\n",
      "accuracy = 0.808236434085\n",
      "Obtained Dev accuracy =  0.8188\n",
      "epoch = 7 \tcost = 0.794435\n",
      "accuracy = 0.816460755814\n",
      "Obtained Dev accuracy =  0.8284\n",
      "epoch = 8 \tcost = 0.700835\n",
      "accuracy = 0.82289244186\n",
      "Obtained Dev accuracy =  0.8366\n",
      "epoch = 9 \tcost = 0.6236\n",
      "accuracy = 0.829342296512\n",
      "Obtained Dev accuracy =  0.8422\n",
      "epoch = 10 \tcost = 0.559453\n",
      "accuracy = 0.834284156977\n",
      "Obtained Dev accuracy =  0.847\n",
      "epoch = 11 \tcost = 0.505851\n",
      "accuracy = 0.83933502907\n",
      "Obtained Dev accuracy =  0.8514\n",
      "epoch = 12 \tcost = 0.460817\n",
      "accuracy = 0.84324127907\n",
      "Obtained Dev accuracy =  0.8548\n"
     ]
    }
   ],
   "source": [
    "with tf.Session() as sess:\n",
    "    \n",
    "    # create a tensorboard writer\n",
    "    tensorboard_writer = tf.summary.FileWriter(logdir=model_save_path, graph=sess.graph, filename_suffix=\".bot\")\n",
    "    \n",
    "    # create a saver\n",
    "    saver = tf.train.Saver(max_to_keep=3)\n",
    "    \n",
    "    # restore the session if the checkpoint exists:\n",
    "    if(os.path.isfile(os.path.join(model_save_path, \"checkpoint\"))):\n",
    "        saver.restore(sess, tf.train.latest_checkpoint(model_save_path))\n",
    "    \n",
    "    else: # initialize all the variables:\n",
    "        sess.run(init)\n",
    "    \n",
    "    global_step = 0\n",
    "    print(\"Starting the training process . . .\")\n",
    "    for epoch in range(no_of_epochs):\n",
    "        \n",
    "        # run through the batches of the data:\n",
    "        accuracies = [] # initialize this to an empty list\n",
    "        for batch in range(int(np.ceil(float(total_train_examples) / training_batch_size))):\n",
    "            start = batch * training_batch_size; end = start + training_batch_size\n",
    "            \n",
    "            # extract the relevant data:\n",
    "            batch_data_X = train_X[start: end]\n",
    "            batch_data_Y = train_Y[start: end]\n",
    "        \n",
    "            # This is batch gradient descent:\n",
    "            _, cost, acc, sums = sess.run([train_step, loss, accuracy, all_summaries], \n",
    "                                                    feed_dict={tf_input_images: batch_data_X, \n",
    "                                                              tf_input_labels: batch_data_Y})\n",
    "            \n",
    "            # append the acc to the accuracies list\n",
    "            accuracies.append(acc)\n",
    "            \n",
    "            # save the summarys\n",
    "            tensorboard_writer.add_summary(sums, global_step)\n",
    "            \n",
    "            # increment the global step \n",
    "            global_step += 1\n",
    "            \n",
    "        print(\"epoch =\", epoch, \"\\tcost =\", cost)\n",
    "        \n",
    "        # evaluate the accuracy of the training epoch:\n",
    "        print(\"accuracy =\", sum(accuracies) / len(accuracies))\n",
    "        \n",
    "        # evaluate the dev-set accuracy: \n",
    "        dev_acc = sess.run(accuracy, feed_dict={tf_input_images: dev_X, tf_input_labels: dev_Y})\n",
    "        print(\"Obtained Dev accuracy = \", dev_acc)\n",
    "        \n",
    "        # save the model after every epoch\n",
    "        saver.save(sess, os.path.join(model_save_path, model_name), global_step=(epoch + 10))\n",
    "        \n",
    "    print(\"Training complete . . .\")\n",
    "    \n",
    "    # Once, the training is complete:\n",
    "    # print the test accuracy:\n",
    "    test_acc = sess.run(accuracy, feed_dict={tf_input_images: test_X, tf_input_labels: test_Y})\n",
    "    print(\"Obtained Test accuracy = \", test_acc)"
   ]
  }
 ],
 "metadata": {
  "kernelspec": {
   "display_name": "Python 2",
   "language": "python",
   "name": "python2"
  },
  "language_info": {
   "codemirror_mode": {
    "name": "ipython",
    "version": 2
   },
   "file_extension": ".py",
   "mimetype": "text/x-python",
   "name": "python",
   "nbconvert_exporter": "python",
   "pygments_lexer": "ipython2",
   "version": "2.7.12"
  }
 },
 "nbformat": 4,
 "nbformat_minor": 2
}
