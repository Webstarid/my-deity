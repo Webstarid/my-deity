{
 "cells": [
  {
   "cell_type": "markdown",
   "metadata": {},
   "source": [
    "# This is my first idea for going towards the hybrid architecture that I am looking to achieve. So, according to this idea, I am going to check if it works on the MNIST dataset or not.\n",
    "-------------------------------------------------------------------------------------------------------------------\n",
    "# Technology used: Tensorflow"
   ]
  },
  {
   "cell_type": "markdown",
   "metadata": {},
   "source": [
    "I start with the usual utility cells for this task"
   ]
  },
  {
   "cell_type": "code",
   "execution_count": 1,
   "metadata": {
    "collapsed": true
   },
   "outputs": [],
   "source": [
    "# packages used for machine learning\n",
    "import tensorflow as tf\n",
    "\n",
    "# packages used for processing: \n",
    "import matplotlib.pyplot as plt # for visualization\n",
    "import numpy as np\n",
    "\n",
    "# for operating system related stuff\n",
    "import os\n",
    "import sys # for memory usage of objects\n",
    "from subprocess import check_output\n",
    "\n",
    "# import pandas for reading the csv files\n",
    "import pandas as pd\n",
    "\n",
    "# to plot the images inline\n",
    "%matplotlib inline"
   ]
  },
  {
   "cell_type": "code",
   "execution_count": 2,
   "metadata": {
    "collapsed": true
   },
   "outputs": [],
   "source": [
    "# Input data files are available in the \"../Data/\" directory.\n",
    "\n",
    "def exec_command(cmd):\n",
    "    '''\n",
    "        function to execute a shell command and see it's \n",
    "        output in the python console\n",
    "        @params\n",
    "        cmd = the command to be executed along with the arguments\n",
    "              ex: ['ls', '../input']\n",
    "    '''\n",
    "    print(check_output(cmd).decode(\"utf8\"))"
   ]
  },
  {
   "cell_type": "code",
   "execution_count": 3,
   "metadata": {
    "collapsed": false
   },
   "outputs": [
    {
     "name": "stdout",
     "output_type": "stream",
     "text": [
      "Data\n",
      "LICENSE\n",
      "Literature_survey\n",
      "Models\n",
      "README.md\n",
      "Scripts\n",
      "\n"
     ]
    }
   ],
   "source": [
    "# check the structure of the project directory\n",
    "exec_command(['ls', '../..'])"
   ]
  },
  {
   "cell_type": "code",
   "execution_count": 4,
   "metadata": {
    "collapsed": true
   },
   "outputs": [],
   "source": [
    "''' Set the constants for the script '''\n",
    "\n",
    "# various paths of the files\n",
    "data_path = \"../../Data\" # the data path\n",
    "\n",
    "dataset = \"MNIST\"\n",
    "\n",
    "data_files = {\n",
    "    'train': os.path.join(data_path, dataset, \"train.csv\"),\n",
    "    'test' : os.path.join(data_path, dataset, \"test.csv\")\n",
    "}\n",
    "\n",
    "base_model_path = '../../Models'\n",
    "\n",
    "current_model_path = os.path.join(base_model_path, \"IDEA_1\")\n",
    "\n",
    "model_path_name = os.path.join(current_model_path, \"Model15\")\n",
    "\n",
    "# constant values:\n",
    "highest_pixel_value = 255\n",
    "train_percentage = 95\n",
    "num_classes = 10\n",
    "no_of_epochs = 500\n",
    "batch_size = 64\n",
    "hidden_neurons = 512"
   ]
  },
  {
   "cell_type": "markdown",
   "metadata": {},
   "source": [
    "# Let's load in the data:\n",
    "-------------------------------------------------------------------------------------------------------------------\n",
    "## and perform some basic preprocessing on it"
   ]
  },
  {
   "cell_type": "code",
   "execution_count": 5,
   "metadata": {
    "collapsed": true
   },
   "outputs": [],
   "source": [
    "raw_data = pd.read_csv(data_files['train'])"
   ]
  },
  {
   "cell_type": "code",
   "execution_count": 6,
   "metadata": {
    "collapsed": false
   },
   "outputs": [
    {
     "name": "stdout",
     "output_type": "stream",
     "text": [
      "784 42000\n"
     ]
    }
   ],
   "source": [
    "n_features = len(raw_data.columns) - 1\n",
    "n_examples = len(raw_data.label)\n",
    "print n_features, n_examples"
   ]
  },
  {
   "cell_type": "code",
   "execution_count": 7,
   "metadata": {
    "collapsed": false
   },
   "outputs": [
    {
     "data": {
      "text/html": [
       "<div>\n",
       "<table border=\"1\" class=\"dataframe\">\n",
       "  <thead>\n",
       "    <tr style=\"text-align: right;\">\n",
       "      <th></th>\n",
       "      <th>label</th>\n",
       "      <th>pixel0</th>\n",
       "      <th>pixel1</th>\n",
       "      <th>pixel2</th>\n",
       "      <th>pixel3</th>\n",
       "      <th>pixel4</th>\n",
       "      <th>pixel5</th>\n",
       "      <th>pixel6</th>\n",
       "      <th>pixel7</th>\n",
       "      <th>pixel8</th>\n",
       "      <th>...</th>\n",
       "      <th>pixel774</th>\n",
       "      <th>pixel775</th>\n",
       "      <th>pixel776</th>\n",
       "      <th>pixel777</th>\n",
       "      <th>pixel778</th>\n",
       "      <th>pixel779</th>\n",
       "      <th>pixel780</th>\n",
       "      <th>pixel781</th>\n",
       "      <th>pixel782</th>\n",
       "      <th>pixel783</th>\n",
       "    </tr>\n",
       "  </thead>\n",
       "  <tbody>\n",
       "    <tr>\n",
       "      <th>0</th>\n",
       "      <td>1</td>\n",
       "      <td>0</td>\n",
       "      <td>0</td>\n",
       "      <td>0</td>\n",
       "      <td>0</td>\n",
       "      <td>0</td>\n",
       "      <td>0</td>\n",
       "      <td>0</td>\n",
       "      <td>0</td>\n",
       "      <td>0</td>\n",
       "      <td>...</td>\n",
       "      <td>0</td>\n",
       "      <td>0</td>\n",
       "      <td>0</td>\n",
       "      <td>0</td>\n",
       "      <td>0</td>\n",
       "      <td>0</td>\n",
       "      <td>0</td>\n",
       "      <td>0</td>\n",
       "      <td>0</td>\n",
       "      <td>0</td>\n",
       "    </tr>\n",
       "    <tr>\n",
       "      <th>1</th>\n",
       "      <td>0</td>\n",
       "      <td>0</td>\n",
       "      <td>0</td>\n",
       "      <td>0</td>\n",
       "      <td>0</td>\n",
       "      <td>0</td>\n",
       "      <td>0</td>\n",
       "      <td>0</td>\n",
       "      <td>0</td>\n",
       "      <td>0</td>\n",
       "      <td>...</td>\n",
       "      <td>0</td>\n",
       "      <td>0</td>\n",
       "      <td>0</td>\n",
       "      <td>0</td>\n",
       "      <td>0</td>\n",
       "      <td>0</td>\n",
       "      <td>0</td>\n",
       "      <td>0</td>\n",
       "      <td>0</td>\n",
       "      <td>0</td>\n",
       "    </tr>\n",
       "    <tr>\n",
       "      <th>2</th>\n",
       "      <td>1</td>\n",
       "      <td>0</td>\n",
       "      <td>0</td>\n",
       "      <td>0</td>\n",
       "      <td>0</td>\n",
       "      <td>0</td>\n",
       "      <td>0</td>\n",
       "      <td>0</td>\n",
       "      <td>0</td>\n",
       "      <td>0</td>\n",
       "      <td>...</td>\n",
       "      <td>0</td>\n",
       "      <td>0</td>\n",
       "      <td>0</td>\n",
       "      <td>0</td>\n",
       "      <td>0</td>\n",
       "      <td>0</td>\n",
       "      <td>0</td>\n",
       "      <td>0</td>\n",
       "      <td>0</td>\n",
       "      <td>0</td>\n",
       "    </tr>\n",
       "    <tr>\n",
       "      <th>3</th>\n",
       "      <td>4</td>\n",
       "      <td>0</td>\n",
       "      <td>0</td>\n",
       "      <td>0</td>\n",
       "      <td>0</td>\n",
       "      <td>0</td>\n",
       "      <td>0</td>\n",
       "      <td>0</td>\n",
       "      <td>0</td>\n",
       "      <td>0</td>\n",
       "      <td>...</td>\n",
       "      <td>0</td>\n",
       "      <td>0</td>\n",
       "      <td>0</td>\n",
       "      <td>0</td>\n",
       "      <td>0</td>\n",
       "      <td>0</td>\n",
       "      <td>0</td>\n",
       "      <td>0</td>\n",
       "      <td>0</td>\n",
       "      <td>0</td>\n",
       "    </tr>\n",
       "    <tr>\n",
       "      <th>4</th>\n",
       "      <td>0</td>\n",
       "      <td>0</td>\n",
       "      <td>0</td>\n",
       "      <td>0</td>\n",
       "      <td>0</td>\n",
       "      <td>0</td>\n",
       "      <td>0</td>\n",
       "      <td>0</td>\n",
       "      <td>0</td>\n",
       "      <td>0</td>\n",
       "      <td>...</td>\n",
       "      <td>0</td>\n",
       "      <td>0</td>\n",
       "      <td>0</td>\n",
       "      <td>0</td>\n",
       "      <td>0</td>\n",
       "      <td>0</td>\n",
       "      <td>0</td>\n",
       "      <td>0</td>\n",
       "      <td>0</td>\n",
       "      <td>0</td>\n",
       "    </tr>\n",
       "    <tr>\n",
       "      <th>5</th>\n",
       "      <td>0</td>\n",
       "      <td>0</td>\n",
       "      <td>0</td>\n",
       "      <td>0</td>\n",
       "      <td>0</td>\n",
       "      <td>0</td>\n",
       "      <td>0</td>\n",
       "      <td>0</td>\n",
       "      <td>0</td>\n",
       "      <td>0</td>\n",
       "      <td>...</td>\n",
       "      <td>0</td>\n",
       "      <td>0</td>\n",
       "      <td>0</td>\n",
       "      <td>0</td>\n",
       "      <td>0</td>\n",
       "      <td>0</td>\n",
       "      <td>0</td>\n",
       "      <td>0</td>\n",
       "      <td>0</td>\n",
       "      <td>0</td>\n",
       "    </tr>\n",
       "    <tr>\n",
       "      <th>6</th>\n",
       "      <td>7</td>\n",
       "      <td>0</td>\n",
       "      <td>0</td>\n",
       "      <td>0</td>\n",
       "      <td>0</td>\n",
       "      <td>0</td>\n",
       "      <td>0</td>\n",
       "      <td>0</td>\n",
       "      <td>0</td>\n",
       "      <td>0</td>\n",
       "      <td>...</td>\n",
       "      <td>0</td>\n",
       "      <td>0</td>\n",
       "      <td>0</td>\n",
       "      <td>0</td>\n",
       "      <td>0</td>\n",
       "      <td>0</td>\n",
       "      <td>0</td>\n",
       "      <td>0</td>\n",
       "      <td>0</td>\n",
       "      <td>0</td>\n",
       "    </tr>\n",
       "    <tr>\n",
       "      <th>7</th>\n",
       "      <td>3</td>\n",
       "      <td>0</td>\n",
       "      <td>0</td>\n",
       "      <td>0</td>\n",
       "      <td>0</td>\n",
       "      <td>0</td>\n",
       "      <td>0</td>\n",
       "      <td>0</td>\n",
       "      <td>0</td>\n",
       "      <td>0</td>\n",
       "      <td>...</td>\n",
       "      <td>0</td>\n",
       "      <td>0</td>\n",
       "      <td>0</td>\n",
       "      <td>0</td>\n",
       "      <td>0</td>\n",
       "      <td>0</td>\n",
       "      <td>0</td>\n",
       "      <td>0</td>\n",
       "      <td>0</td>\n",
       "      <td>0</td>\n",
       "    </tr>\n",
       "    <tr>\n",
       "      <th>8</th>\n",
       "      <td>5</td>\n",
       "      <td>0</td>\n",
       "      <td>0</td>\n",
       "      <td>0</td>\n",
       "      <td>0</td>\n",
       "      <td>0</td>\n",
       "      <td>0</td>\n",
       "      <td>0</td>\n",
       "      <td>0</td>\n",
       "      <td>0</td>\n",
       "      <td>...</td>\n",
       "      <td>0</td>\n",
       "      <td>0</td>\n",
       "      <td>0</td>\n",
       "      <td>0</td>\n",
       "      <td>0</td>\n",
       "      <td>0</td>\n",
       "      <td>0</td>\n",
       "      <td>0</td>\n",
       "      <td>0</td>\n",
       "      <td>0</td>\n",
       "    </tr>\n",
       "    <tr>\n",
       "      <th>9</th>\n",
       "      <td>3</td>\n",
       "      <td>0</td>\n",
       "      <td>0</td>\n",
       "      <td>0</td>\n",
       "      <td>0</td>\n",
       "      <td>0</td>\n",
       "      <td>0</td>\n",
       "      <td>0</td>\n",
       "      <td>0</td>\n",
       "      <td>0</td>\n",
       "      <td>...</td>\n",
       "      <td>0</td>\n",
       "      <td>0</td>\n",
       "      <td>0</td>\n",
       "      <td>0</td>\n",
       "      <td>0</td>\n",
       "      <td>0</td>\n",
       "      <td>0</td>\n",
       "      <td>0</td>\n",
       "      <td>0</td>\n",
       "      <td>0</td>\n",
       "    </tr>\n",
       "  </tbody>\n",
       "</table>\n",
       "<p>10 rows × 785 columns</p>\n",
       "</div>"
      ],
      "text/plain": [
       "   label  pixel0  pixel1  pixel2  pixel3  pixel4  pixel5  pixel6  pixel7  \\\n",
       "0      1       0       0       0       0       0       0       0       0   \n",
       "1      0       0       0       0       0       0       0       0       0   \n",
       "2      1       0       0       0       0       0       0       0       0   \n",
       "3      4       0       0       0       0       0       0       0       0   \n",
       "4      0       0       0       0       0       0       0       0       0   \n",
       "5      0       0       0       0       0       0       0       0       0   \n",
       "6      7       0       0       0       0       0       0       0       0   \n",
       "7      3       0       0       0       0       0       0       0       0   \n",
       "8      5       0       0       0       0       0       0       0       0   \n",
       "9      3       0       0       0       0       0       0       0       0   \n",
       "\n",
       "   pixel8    ...     pixel774  pixel775  pixel776  pixel777  pixel778  \\\n",
       "0       0    ...            0         0         0         0         0   \n",
       "1       0    ...            0         0         0         0         0   \n",
       "2       0    ...            0         0         0         0         0   \n",
       "3       0    ...            0         0         0         0         0   \n",
       "4       0    ...            0         0         0         0         0   \n",
       "5       0    ...            0         0         0         0         0   \n",
       "6       0    ...            0         0         0         0         0   \n",
       "7       0    ...            0         0         0         0         0   \n",
       "8       0    ...            0         0         0         0         0   \n",
       "9       0    ...            0         0         0         0         0   \n",
       "\n",
       "   pixel779  pixel780  pixel781  pixel782  pixel783  \n",
       "0         0         0         0         0         0  \n",
       "1         0         0         0         0         0  \n",
       "2         0         0         0         0         0  \n",
       "3         0         0         0         0         0  \n",
       "4         0         0         0         0         0  \n",
       "5         0         0         0         0         0  \n",
       "6         0         0         0         0         0  \n",
       "7         0         0         0         0         0  \n",
       "8         0         0         0         0         0  \n",
       "9         0         0         0         0         0  \n",
       "\n",
       "[10 rows x 785 columns]"
      ]
     },
     "execution_count": 7,
     "metadata": {},
     "output_type": "execute_result"
    }
   ],
   "source": [
    "raw_data.head(10)"
   ]
  },
  {
   "cell_type": "code",
   "execution_count": 8,
   "metadata": {
    "collapsed": true
   },
   "outputs": [],
   "source": [
    "labels = np.array(raw_data['label'])"
   ]
  },
  {
   "cell_type": "code",
   "execution_count": 9,
   "metadata": {
    "collapsed": false
   },
   "outputs": [
    {
     "data": {
      "text/plain": [
       "(42000,)"
      ]
     },
     "execution_count": 9,
     "metadata": {},
     "output_type": "execute_result"
    }
   ],
   "source": [
    "labels.shape"
   ]
  },
  {
   "cell_type": "code",
   "execution_count": 10,
   "metadata": {
    "collapsed": true
   },
   "outputs": [],
   "source": [
    "# extract the data from the remaining raw_data\n",
    "features = np.ndarray((n_features, n_examples), dtype=np.float32)\n",
    "\n",
    "count = 0 # initialize from zero\n",
    "for pixel in raw_data.columns[1:]:\n",
    "    feature_slice = np.array(raw_data[pixel])\n",
    "    features[count, :] = feature_slice\n",
    "    count += 1 # increment count"
   ]
  },
  {
   "cell_type": "code",
   "execution_count": 11,
   "metadata": {
    "collapsed": false
   },
   "outputs": [
    {
     "data": {
      "text/plain": [
       "(784, 42000)"
      ]
     },
     "execution_count": 11,
     "metadata": {},
     "output_type": "execute_result"
    }
   ],
   "source": [
    "features.shape"
   ]
  },
  {
   "cell_type": "code",
   "execution_count": 12,
   "metadata": {
    "collapsed": true
   },
   "outputs": [],
   "source": [
    "# normalize the pixel data by dividing the values by the highest_pixel_value\n",
    "features = features / highest_pixel_value"
   ]
  },
  {
   "cell_type": "code",
   "execution_count": 13,
   "metadata": {
    "collapsed": false
   },
   "outputs": [
    {
     "data": {
      "text/plain": [
       "<matplotlib.image.AxesImage at 0x7feead9fb710>"
      ]
     },
     "execution_count": 13,
     "metadata": {},
     "output_type": "execute_result"
    },
    {
     "data": {
      "image/png": "[encoded data removed]",
      "text/plain": [
       "<matplotlib.figure.Figure at 0x7feeadb9c290>"
      ]
     },
     "metadata": {},
     "output_type": "display_data"
    }
   ],
   "source": [
    "plt.imshow((features[:, 9]).reshape((28, 28)))"
   ]
  },
  {
   "cell_type": "markdown",
   "metadata": {},
   "source": [
    "# use the function to generate the train_dev split\n",
    "-------------------------------------------------------------------------------------------------------------------\n",
    "link -> https://github.com/akanimax/machine-learning-helpers/blob/master/training/data_setup.py"
   ]
  },
  {
   "cell_type": "code",
   "execution_count": 14,
   "metadata": {
    "collapsed": true
   },
   "outputs": [],
   "source": [
    "# shuffle the data using a random permutation\n",
    "perm = np.random.permutation(n_examples)\n",
    "features = features[:, perm]\n",
    "labels = labels[perm]"
   ]
  },
  {
   "cell_type": "code",
   "execution_count": 26,
   "metadata": {
    "collapsed": false
   },
   "outputs": [
    {
     "data": {
      "text/plain": [
       "<matplotlib.image.AxesImage at 0x7feead1034d0>"
      ]
     },
     "execution_count": 26,
     "metadata": {},
     "output_type": "execute_result"
    },
    {
     "data": {
      "image/png": "[encoded data removed]",
      "text/plain": [
       "<matplotlib.figure.Figure at 0x7feead1f3910>"
      ]
     },
     "metadata": {},
     "output_type": "display_data"
    }
   ],
   "source": [
    "random_index = np.random.randint(n_examples)\n",
    "random_image = features[:, random_index].reshape((28, 28))\n",
    "# use plt to plot the image\n",
    "plt.figure().suptitle(\"Label of the image: \" + str(labels[random_index]))\n",
    "plt.imshow(random_image)"
   ]
  },
  {
   "cell_type": "code",
   "execution_count": 27,
   "metadata": {
    "collapsed": true
   },
   "outputs": [],
   "source": [
    "# function to split the data into train - dev sets:\n",
    "def split_train_dev(X, Y, train_percentage):\n",
    "    '''\n",
    "        function to split the given data into two small datasets (train - dev)\n",
    "        @param\n",
    "        X, Y => the data to be split\n",
    "        (** Make sure the train dimension is the first one)\n",
    "        train_percentage => the percentage which should be in the training set.\n",
    "        (**this should be in 100% not decimal)\n",
    "        @return => train_X, train_Y, test_X, test_Y\n",
    "    '''\n",
    "    m_examples = len(X)\n",
    "    assert train_percentage < 100, \"Train percentage cannot be greater than 100! NOOB!\"\n",
    "    partition_point = int((m_examples * (float(train_percentage) / 100)) + 0.5) # 0.5 is added for rounding\n",
    "\n",
    "    # construct the train_X, train_Y, test_X, test_Y sets:\n",
    "    train_X = X[: partition_point]; train_Y = Y[: partition_point]\n",
    "    test_X  = X[partition_point: ]; test_Y  = Y[partition_point: ]\n",
    "\n",
    "    assert len(train_X) + len(test_X) == m_examples, \"Something wrong in X splitting\"\n",
    "    assert len(train_Y) + len(test_Y) == m_examples, \"Something wrong in Y splitting\"\n",
    "\n",
    "    # return the constructed sets\n",
    "\n",
    "    return train_X, train_Y, test_X, test_Y"
   ]
  },
  {
   "cell_type": "code",
   "execution_count": 28,
   "metadata": {
    "collapsed": true
   },
   "outputs": [],
   "source": [
    "train_X, train_Y, test_X, test_Y = split_train_dev(features.T, labels, train_percentage)"
   ]
  },
  {
   "cell_type": "code",
   "execution_count": 29,
   "metadata": {
    "collapsed": false
   },
   "outputs": [
    {
     "data": {
      "text/plain": [
       "((39900, 784), (39900,), (2100, 784), (2100,))"
      ]
     },
     "execution_count": 29,
     "metadata": {},
     "output_type": "execute_result"
    }
   ],
   "source": [
    "train_X.shape, train_Y.shape, test_X.shape, test_Y.shape"
   ]
  },
  {
   "cell_type": "code",
   "execution_count": 30,
   "metadata": {
    "collapsed": false
   },
   "outputs": [
    {
     "data": {
      "text/plain": [
       "((784, 39900), (784, 2100))"
      ]
     },
     "execution_count": 30,
     "metadata": {},
     "output_type": "execute_result"
    }
   ],
   "source": [
    "train_X = train_X.T; test_X = test_X.T\n",
    "train_X.shape, test_X.shape"
   ]
  },
  {
   "cell_type": "code",
   "execution_count": 38,
   "metadata": {
    "collapsed": false,
    "scrolled": true
   },
   "outputs": [
    {
     "data": {
      "text/plain": [
       "<matplotlib.image.AxesImage at 0x7feeac2f2350>"
      ]
     },
     "execution_count": 38,
     "metadata": {},
     "output_type": "execute_result"
    },
    {
     "data": {
      "image/png": "[encoded data removed]",
      "text/plain": [
       "<matplotlib.figure.Figure at 0x7feeacc22d50>"
      ]
     },
     "metadata": {},
     "output_type": "display_data"
    }
   ],
   "source": [
    "# check by plotting some image\n",
    "random_index = np.random.randint(train_X.shape[-1])\n",
    "random_image = train_X[:, random_index].reshape((28, 28))\n",
    "# use plt to plot the image\n",
    "plt.figure().suptitle(\"Label of the image: \" + str(train_Y[random_index]))\n",
    "plt.imshow(random_image)"
   ]
  },
  {
   "cell_type": "markdown",
   "metadata": {},
   "source": [
    "# Point to reset from here onwards: "
   ]
  },
  {
   "cell_type": "code",
   "execution_count": 39,
   "metadata": {
    "collapsed": true
   },
   "outputs": [],
   "source": [
    "# defining the Tensorflow graph for this task:\n",
    "tf.reset_default_graph() # reset the graph here:"
   ]
  },
  {
   "cell_type": "code",
   "execution_count": 40,
   "metadata": {
    "collapsed": true
   },
   "outputs": [],
   "source": [
    "# define the placeholders:\n",
    "tf_input_pixels = tf.placeholder(tf.float32, shape=(n_features, None))\n",
    "tf_integer_labels = tf.placeholder(tf.int32, shape=(None,))"
   ]
  },
  {
   "cell_type": "code",
   "execution_count": 41,
   "metadata": {
    "collapsed": true
   },
   "outputs": [],
   "source": [
    "# image shaped pixels for the input_pixels:\n",
    "tf_input_images = tf.reshape(tf.transpose(tf_input_pixels), shape=(-1, 28, 28, 1))\n",
    "input_image_summary = tf.summary.image(\"input_image\", tf_input_images)"
   ]
  },
  {
   "cell_type": "code",
   "execution_count": 42,
   "metadata": {
    "collapsed": false
   },
   "outputs": [
    {
     "data": {
      "text/plain": [
       "<tf.Tensor 'one_hot:0' shape=(10, ?) dtype=float32>"
      ]
     },
     "execution_count": 42,
     "metadata": {},
     "output_type": "execute_result"
    }
   ],
   "source": [
    "# define the one hot encoded version fo the integer_labels\n",
    "tf_one_hot_encoded_labels = tf.one_hot(tf_integer_labels, depth=num_classes, axis=0)\n",
    "tf_one_hot_encoded_labels"
   ]
  },
  {
   "cell_type": "code",
   "execution_count": 43,
   "metadata": {
    "collapsed": false
   },
   "outputs": [],
   "source": [
    "# define the layer 0 biases:\n",
    "lay_0_b = tf.get_variable(\"layer_0_biases\", shape=(n_features, 1), initializer=tf.zeros_initializer())\n",
    "\n",
    "\n",
    "# layer 1 weights \n",
    "lay_1_W = tf.get_variable(\"layer_1_weights\", shape=(hidden_neurons, n_features), \n",
    "                              dtype=tf.float32, initializer=tf.contrib.layers.xavier_initializer())\n",
    "lay_1_b = tf.get_variable(\"layer_1_biases\", shape=(hidden_neurons, 1), \n",
    "                            dtype=tf.float32, initializer=tf.zeros_initializer())\n",
    "\n",
    "# layer 2 weights\n",
    "lay_2_W = tf.get_variable(\"layer_2_weights\", shape=(hidden_neurons, hidden_neurons), \n",
    "                              dtype=tf.float32, initializer=tf.contrib.layers.xavier_initializer())\n",
    "lay_2_b = tf.get_variable(\"layer_2_biases\", shape=(hidden_neurons, 1), \n",
    "                            dtype=tf.float32, initializer=tf.zeros_initializer())\n",
    "\n",
    "# layer 3 weights\n",
    "lay_3_W = tf.get_variable(\"layer_3_weights\", shape=(hidden_neurons, hidden_neurons), \n",
    "                              dtype=tf.float32, initializer=tf.contrib.layers.xavier_initializer())\n",
    "lay_3_b = tf.get_variable(\"layer_3_biases\", shape=(hidden_neurons, 1), \n",
    "                            dtype=tf.float32, initializer=tf.zeros_initializer())\n",
    "\n",
    "# layer 4 weights\n",
    "lay_4_W = tf.get_variable(\"layer_4_weights\", shape=(hidden_neurons, hidden_neurons), \n",
    "                              dtype=tf.float32, initializer=tf.contrib.layers.xavier_initializer())\n",
    "lay_4_b = tf.get_variable(\"layer_4_biases\", shape=(hidden_neurons, 1), \n",
    "                            dtype=tf.float32, initializer=tf.zeros_initializer())\n",
    "\n",
    "# layer 5 weights\n",
    "lay_5_W = tf.get_variable(\"layer_5_weights\", shape=(hidden_neurons, hidden_neurons), \n",
    "                              dtype=tf.float32, initializer=tf.contrib.layers.xavier_initializer())\n",
    "lay_5_b = tf.get_variable(\"layer_5_biases\", shape=(hidden_neurons, 1), \n",
    "                            dtype=tf.float32, initializer=tf.zeros_initializer())\n",
    "\n",
    "# layer 6 weights\n",
    "lay_6_W = tf.get_variable(\"layer_6_weights\", shape=(num_classes, hidden_neurons), \n",
    "                              dtype=tf.float32, initializer=tf.contrib.layers.xavier_initializer())\n",
    "lay_6_b = tf.get_variable(\"layer_6_biases\", shape=(num_classes, 1), \n",
    "                            dtype=tf.float32, initializer=tf.zeros_initializer())\n",
    "\n",
    "# ''' Following are the backward layers '''\n",
    "\n",
    "# # layer 1 weights\n",
    "# back_lay_1_W = tf.get_variable(\"back_layer_1_weights\", shape=(hidden_neurons, num_classes), \n",
    "#                               dtype=tf.float32, initializer=tf.contrib.layers.xavier_initializer())\n",
    "# back_lay_1_b = tf.get_variable(\"back_layer_1_biases\", shape=(hidden_neurons, 1), \n",
    "#                             dtype=tf.float32, initializer=tf.zeros_initializer())\n",
    "\n",
    "# # layer 2 weights\n",
    "# back_lay_2_W = tf.get_variable(\"back_layer_2_weights\", shape=(hidden_neurons, hidden_neurons), \n",
    "#                               dtype=tf.float32, initializer=tf.contrib.layers.xavier_initializer())\n",
    "# back_lay_2_b = tf.get_variable(\"back_layer_2_biases\", shape=(hidden_neurons, 1), \n",
    "#                             dtype=tf.float32, initializer=tf.zeros_initializer())\n",
    "\n",
    "# # layer 3 weights\n",
    "# back_lay_3_W = tf.get_variable(\"back_layer_3_weights\", shape=(hidden_neurons, hidden_neurons), \n",
    "#                               dtype=tf.float32, initializer=tf.contrib.layers.xavier_initializer())\n",
    "# back_lay_3_b = tf.get_variable(\"back_layer_3_biases\", shape=(hidden_neurons, 1), \n",
    "#                             dtype=tf.float32, initializer=tf.zeros_initializer())\n",
    "\n",
    "# # layer 4 weights\n",
    "# back_lay_4_W = tf.get_variable(\"back_layer_4_weights\", shape=(hidden_neurons, hidden_neurons), \n",
    "#                               dtype=tf.float32, initializer=tf.contrib.layers.xavier_initializer())\n",
    "# back_lay_4_b = tf.get_variable(\"back_layer_4_biases\", shape=(hidden_neurons, 1), \n",
    "#                             dtype=tf.float32, initializer=tf.zeros_initializer())\n",
    "\n",
    "# # layer 5 weights\n",
    "# back_lay_5_W = tf.get_variable(\"back_layer_5_weights\", shape=(hidden_neurons, hidden_neurons), \n",
    "#                               dtype=tf.float32, initializer=tf.contrib.layers.xavier_initializer())\n",
    "# back_lay_5_b = tf.get_variable(\"back_layer_5_biases\", shape=(hidden_neurons, 1), \n",
    "#                             dtype=tf.float32, initializer=tf.zeros_initializer())\n",
    "\n",
    "# # layer 6 weights\n",
    "# back_lay_6_W = tf.get_variable(\"back_layer_6_weights\", shape=(n_features, hidden_neurons), \n",
    "#                               dtype=tf.float32, initializer=tf.contrib.layers.xavier_initializer())\n",
    "# back_lay_6_b = tf.get_variable(\"back_layer_6_biases\", shape=(n_features, 1), \n",
    "#                             dtype=tf.float32, initializer=tf.zeros_initializer())"
   ]
  },
  {
   "cell_type": "markdown",
   "metadata": {},
   "source": [
    "# define the forward computation:"
   ]
  },
  {
   "cell_type": "code",
   "execution_count": 44,
   "metadata": {
    "collapsed": false
   },
   "outputs": [],
   "source": [
    "# forward computation:\n",
    "z1 = tf.matmul(lay_1_W, tf_input_pixels) + lay_1_b\n",
    "a1 = tf.abs(z1)\n",
    "\n",
    "z2 = tf.matmul(lay_2_W, a1) + lay_2_b\n",
    "a2 = tf.abs(z2)\n",
    "\n",
    "z3 = tf.matmul(lay_3_W, a2) + lay_3_b\n",
    "a3 = tf.abs(z3) \n",
    "\n",
    "z4 = tf.matmul(lay_4_W, a3) + lay_4_b\n",
    "a4 = tf.abs(z4) \n",
    "\n",
    "z5 = tf.matmul(lay_5_W, a4) + lay_5_b\n",
    "a5 = tf.abs(z5) \n",
    "\n",
    "z6 = tf.matmul(lay_6_W, a5) + lay_6_b\n",
    "a6 = tf.abs(z6)"
   ]
  },
  {
   "cell_type": "markdown",
   "metadata": {},
   "source": [
    "# define the backward computation:"
   ]
  },
  {
   "cell_type": "code",
   "execution_count": 45,
   "metadata": {
    "collapsed": true
   },
   "outputs": [],
   "source": [
    "# in the backward computations, there are no actiavtion functions\n",
    "y_in_back = a6\n",
    "\n",
    "a1_back = tf.abs(tf.matmul(tf.transpose(lay_6_W), y_in_back) + lay_5_b)\n",
    "a2_back = tf.abs(tf.matmul(tf.transpose(lay_5_W), a1_back) + lay_4_b)\n",
    "a3_back = tf.abs(tf.matmul(tf.transpose(lay_4_W), a2_back) + lay_3_b)\n",
    "a4_back = tf.abs(tf.matmul(tf.transpose(lay_3_W), a3_back) + lay_2_b)\n",
    "a5_back = tf.abs(tf.matmul(tf.transpose(lay_2_W), a4_back) + lay_1_b)\n",
    "a6_back = tf.abs(tf.matmul(tf.transpose(lay_1_W), a5_back) + lay_0_b)"
   ]
  },
  {
   "cell_type": "code",
   "execution_count": 46,
   "metadata": {
    "collapsed": false
   },
   "outputs": [
    {
     "data": {
      "text/plain": [
       "<tf.Tensor 'Abs_5:0' shape=(10, ?) dtype=float32>"
      ]
     },
     "execution_count": 46,
     "metadata": {},
     "output_type": "execute_result"
    }
   ],
   "source": [
    "y_in_back"
   ]
  },
  {
   "cell_type": "code",
   "execution_count": 47,
   "metadata": {
    "collapsed": true
   },
   "outputs": [],
   "source": [
    "in_back_vector = tf.placeholder(tf.float32, shape=(num_classes, None))"
   ]
  },
  {
   "cell_type": "code",
   "execution_count": 48,
   "metadata": {
    "collapsed": true
   },
   "outputs": [],
   "source": [
    "# computations for obtaining predictions: \n",
    "pred1_back = tf.abs(tf.matmul(tf.transpose(lay_6_W), in_back_vector) + lay_5_b)\n",
    "pred2_back = tf.abs(tf.matmul(tf.transpose(lay_5_W), pred1_back) + lay_4_b)\n",
    "pred3_back = tf.abs(tf.matmul(tf.transpose(lay_4_W), pred2_back) + lay_3_b)\n",
    "pred4_back = tf.abs(tf.matmul(tf.transpose(lay_3_W), pred3_back) + lay_2_b)\n",
    "pred5_back = tf.abs(tf.matmul(tf.transpose(lay_2_W), pred4_back) + lay_1_b)\n",
    "pred6_back = tf.abs(tf.matmul(tf.transpose(lay_1_W), pred5_back) + lay_0_b)\n",
    "\n",
    "# generated digits:\n",
    "generated_digits = pred6_back"
   ]
  },
  {
   "cell_type": "code",
   "execution_count": 49,
   "metadata": {
    "collapsed": false
   },
   "outputs": [
    {
     "data": {
      "text/plain": [
       "(<tf.Tensor 'Abs_11:0' shape=(784, ?) dtype=float32>,\n",
       " <tf.Tensor 'Placeholder:0' shape=(784, ?) dtype=float32>)"
      ]
     },
     "execution_count": 49,
     "metadata": {},
     "output_type": "execute_result"
    }
   ],
   "source": [
    "x_out_back = a6_back\n",
    "x_out_back, tf_input_pixels"
   ]
  },
  {
   "cell_type": "code",
   "execution_count": 50,
   "metadata": {
    "collapsed": true
   },
   "outputs": [],
   "source": [
    "x_out_back_image = tf.reshape(tf.transpose(x_out_back), shape=(-1, 28, 28, 1))\n",
    "output_image_summary = tf.summary.image(\"output_image\", x_out_back_image)"
   ]
  },
  {
   "cell_type": "markdown",
   "metadata": {},
   "source": [
    "# Now compute the forward cost"
   ]
  },
  {
   "cell_type": "code",
   "execution_count": 51,
   "metadata": {
    "collapsed": true
   },
   "outputs": [],
   "source": [
    "# forward cost \n",
    "fwd_cost = tf.reduce_mean(tf.abs(tf.nn.softmax(y_in_back) - tf_one_hot_encoded_labels))\n",
    "fwd_cost_summary = tf.summary.scalar(\"Forward_cost\", fwd_cost)"
   ]
  },
  {
   "cell_type": "markdown",
   "metadata": {},
   "source": [
    "# Now compute the backward cost"
   ]
  },
  {
   "cell_type": "code",
   "execution_count": 52,
   "metadata": {
    "collapsed": true
   },
   "outputs": [],
   "source": [
    "# backward cost \n",
    "# The backward cost is the mean squared error function\n",
    "bwd_cost = tf.reduce_mean(tf.abs(x_out_back - tf_input_pixels))\n",
    "bwd_cost_summary = tf.summary.scalar(\"Backward_cost\", bwd_cost)"
   ]
  },
  {
   "cell_type": "markdown",
   "metadata": {},
   "source": [
    "# The final cost is the addition of both forward and the backward costs "
   ]
  },
  {
   "cell_type": "code",
   "execution_count": 53,
   "metadata": {
    "collapsed": true
   },
   "outputs": [],
   "source": [
    "cost = fwd_cost + bwd_cost\n",
    "final_cost_summary = tf.summary.scalar(\"Final_cost\", cost)"
   ]
  },
  {
   "cell_type": "code",
   "execution_count": 54,
   "metadata": {
    "collapsed": true
   },
   "outputs": [],
   "source": [
    "# define an optimizer for this task\n",
    "optimizer = tf.train.AdamOptimizer(learning_rate=0.001).minimize(cost)\n",
    "init = tf.global_variables_initializer()\n",
    "all_summaries = tf.summary.merge_all()"
   ]
  },
  {
   "cell_type": "code",
   "execution_count": 55,
   "metadata": {
    "collapsed": true
   },
   "outputs": [],
   "source": [
    "n_train_examples = train_X.shape[-1]"
   ]
  },
  {
   "cell_type": "code",
   "execution_count": 56,
   "metadata": {
    "collapsed": true
   },
   "outputs": [],
   "source": [
    "sess = tf.InteractiveSession()\n",
    "tensorboard_writer = tf.summary.FileWriter(model_path_name, graph=sess.graph, filename_suffix=\".bot\")"
   ]
  },
  {
   "cell_type": "code",
   "execution_count": 42,
   "metadata": {
    "collapsed": true
   },
   "outputs": [],
   "source": [
    "sess.run(init)"
   ]
  },
  {
   "cell_type": "code",
   "execution_count": 43,
   "metadata": {
    "collapsed": false,
    "scrolled": true
   },
   "outputs": [
    {
     "name": "stdout",
     "output_type": "stream",
     "text": [
      "Iteration: 0 Cost: 0.284962\n",
      "Iteration: 100 Cost: 0.227576\n",
      "Iteration: 200 Cost: 0.228538\n",
      "Iteration: 300 Cost: 0.222535\n",
      "Iteration: 400 Cost: 0.209652\n",
      "Iteration: 500 Cost: 0.204334\n",
      "Iteration: 600 Cost: 0.203235\n",
      "Average epoch cost: 0.22001483098\n",
      "Iteration: 624 Cost: 0.20039\n",
      "Iteration: 724 Cost: 0.196294\n",
      "Iteration: 824 Cost: 0.193117\n",
      "Iteration: 924 Cost: 0.18492\n",
      "Iteration: 1024 Cost: 0.187407\n",
      "Iteration: 1124 Cost: 0.18344\n",
      "Iteration: 1224 Cost: 0.185147\n",
      "Average epoch cost: 0.189531584987\n",
      "Iteration: 1248 Cost: 0.179329\n",
      "Iteration: 1348 Cost: 0.183789\n",
      "Iteration: 1448 Cost: 0.179793\n",
      "Iteration: 1548 Cost: 0.17468\n",
      "Iteration: 1648 Cost: 0.1707\n",
      "Iteration: 1748 Cost: 0.167723\n",
      "Iteration: 1848 Cost: 0.175302\n",
      "Average epoch cost: 0.176147713684\n",
      "Iteration: 1872 Cost: 0.166335\n",
      "Iteration: 1972 Cost: 0.16869\n",
      "Iteration: 2072 Cost: 0.170307\n",
      "Iteration: 2172 Cost: 0.164788\n",
      "Iteration: 2272 Cost: 0.162598\n",
      "Iteration: 2372 Cost: 0.159868\n",
      "Iteration: 2472 Cost: 0.165935\n",
      "Average epoch cost: 0.166723537116\n",
      "Iteration: 2496 Cost: 0.159403\n",
      "Iteration: 2596 Cost: 0.16321\n",
      "Iteration: 2696 Cost: 0.164047\n",
      "Iteration: 2796 Cost: 0.159151\n",
      "Iteration: 2896 Cost: 0.157657\n",
      "Iteration: 2996 Cost: 0.156429\n",
      "Iteration: 3096 Cost: 0.163309\n",
      "Average epoch cost: 0.161747084429\n",
      "Iteration: 3120 Cost: 0.157716\n",
      "Iteration: 3220 Cost: 0.159661\n",
      "Iteration: 3320 Cost: 0.159785\n",
      "Iteration: 3420 Cost: 0.155747\n",
      "Iteration: 3520 Cost: 0.153612\n",
      "Iteration: 3620 Cost: 0.15352\n",
      "Iteration: 3720 Cost: 0.159454\n",
      "Average epoch cost: 0.158721972281\n",
      "Iteration: 3744 Cost: 0.154947\n",
      "Iteration: 3844 Cost: 0.157247\n",
      "Iteration: 3944 Cost: 0.159854\n",
      "Iteration: 4044 Cost: 0.154383\n",
      "Iteration: 4144 Cost: 0.15357\n",
      "Iteration: 4244 Cost: 0.151384\n",
      "Iteration: 4344 Cost: 0.1583\n",
      "Average epoch cost: 0.156539948514\n",
      "Iteration: 4368 Cost: 0.152292\n",
      "Iteration: 4468 Cost: 0.154584\n",
      "Iteration: 4568 Cost: 0.158612\n",
      "Iteration: 4668 Cost: 0.154713\n",
      "Iteration: 4768 Cost: 0.151911\n",
      "Iteration: 4868 Cost: 0.151641\n",
      "Iteration: 4968 Cost: 0.155775\n",
      "Average epoch cost: 0.154722613378\n",
      "Iteration: 4992 Cost: 0.151625\n",
      "Iteration: 5092 Cost: 0.153528\n",
      "Iteration: 5192 Cost: 0.155941\n",
      "Iteration: 5292 Cost: 0.151427\n",
      "Iteration: 5392 Cost: 0.151283\n",
      "Iteration: 5492 Cost: 0.149315\n",
      "Iteration: 5592 Cost: 0.15464\n",
      "Average epoch cost: 0.153443170592\n",
      "Iteration: 5616 Cost: 0.149467\n",
      "Iteration: 5716 Cost: 0.152154\n",
      "Iteration: 5816 Cost: 0.154233\n",
      "Iteration: 5916 Cost: 0.151286\n",
      "Iteration: 6016 Cost: 0.14966\n",
      "Iteration: 6116 Cost: 0.147913\n",
      "Iteration: 6216 Cost: 0.153447\n",
      "Average epoch cost: 0.152181578179\n",
      "Iteration: 6240 Cost: 0.149284\n",
      "Iteration: 6340 Cost: 0.152501\n",
      "Iteration: 6440 Cost: 0.1526\n",
      "Iteration: 6540 Cost: 0.149879\n",
      "Iteration: 6640 Cost: 0.147504\n",
      "Iteration: 6740 Cost: 0.147274\n",
      "Iteration: 6840 Cost: 0.151948\n",
      "Average epoch cost: 0.151373111738\n",
      "Iteration: 6864 Cost: 0.148309\n",
      "Iteration: 6964 Cost: 0.14935\n",
      "Iteration: 7064 Cost: 0.150872\n",
      "Iteration: 7164 Cost: 0.148163\n",
      "Iteration: 7264 Cost: 0.147857\n",
      "Iteration: 7364 Cost: 0.146391\n",
      "Iteration: 7464 Cost: 0.152121\n",
      "Average epoch cost: 0.150339429028\n",
      "Iteration: 7488 Cost: 0.14918\n",
      "Iteration: 7588 Cost: 0.149323\n",
      "Iteration: 7688 Cost: 0.151805\n",
      "Iteration: 7788 Cost: 0.148606\n",
      "Iteration: 7888 Cost: 0.146\n",
      "Iteration: 7988 Cost: 0.145894\n",
      "Iteration: 8088 Cost: 0.150775\n",
      "Average epoch cost: 0.149681804582\n",
      "Iteration: 8112 Cost: 0.148012\n",
      "Iteration: 8212 Cost: 0.149203\n",
      "Iteration: 8312 Cost: 0.14893\n",
      "Iteration: 8412 Cost: 0.147536\n",
      "Iteration: 8512 Cost: 0.144692\n",
      "Iteration: 8612 Cost: 0.146961\n",
      "Iteration: 8712 Cost: 0.149946\n",
      "Average epoch cost: 0.148782310506\n",
      "Iteration: 8736 Cost: 0.146414\n",
      "Iteration: 8836 Cost: 0.149883\n",
      "Iteration: 8936 Cost: 0.150047\n"
     ]
    },
    {
     "ename": "KeyboardInterrupt",
     "evalue": "",
     "output_type": "error",
     "traceback": [
      "\u001b[1;31m---------------------------------------------------------------------------\u001b[0m",
      "\u001b[1;31mKeyboardInterrupt\u001b[0m                         Traceback (most recent call last)",
      "\u001b[1;32m<ipython-input-43-694afc0c1f46>\u001b[0m in \u001b[0;36m<module>\u001b[1;34m()\u001b[0m\n\u001b[0;32m     12\u001b[0m         \u001b[1;31m# run the computation:\u001b[0m\u001b[1;33m\u001b[0m\u001b[1;33m\u001b[0m\u001b[0m\n\u001b[0;32m     13\u001b[0m         _, loss = sess.run((optimizer, cost), feed_dict={tf_input_pixels: train_X_minibatch, \n\u001b[1;32m---> 14\u001b[1;33m                                                          tf_integer_labels: train_Y_minibatch})\n\u001b[0m\u001b[0;32m     15\u001b[0m \u001b[1;33m\u001b[0m\u001b[0m\n\u001b[0;32m     16\u001b[0m         \u001b[1;31m# add the cost to the cost list\u001b[0m\u001b[1;33m\u001b[0m\u001b[1;33m\u001b[0m\u001b[0m\n",
      "\u001b[1;32m/home/botman/Programming/Platforms/anaconda2/lib/python2.7/site-packages/tensorflow/python/client/session.pyc\u001b[0m in \u001b[0;36mrun\u001b[1;34m(self, fetches, feed_dict, options, run_metadata)\u001b[0m\n\u001b[0;32m    893\u001b[0m     \u001b[1;32mtry\u001b[0m\u001b[1;33m:\u001b[0m\u001b[1;33m\u001b[0m\u001b[0m\n\u001b[0;32m    894\u001b[0m       result = self._run(None, fetches, feed_dict, options_ptr,\n\u001b[1;32m--> 895\u001b[1;33m                          run_metadata_ptr)\n\u001b[0m\u001b[0;32m    896\u001b[0m       \u001b[1;32mif\u001b[0m \u001b[0mrun_metadata\u001b[0m\u001b[1;33m:\u001b[0m\u001b[1;33m\u001b[0m\u001b[0m\n\u001b[0;32m    897\u001b[0m         \u001b[0mproto_data\u001b[0m \u001b[1;33m=\u001b[0m \u001b[0mtf_session\u001b[0m\u001b[1;33m.\u001b[0m\u001b[0mTF_GetBuffer\u001b[0m\u001b[1;33m(\u001b[0m\u001b[0mrun_metadata_ptr\u001b[0m\u001b[1;33m)\u001b[0m\u001b[1;33m\u001b[0m\u001b[0m\n",
      "\u001b[1;32m/home/botman/Programming/Platforms/anaconda2/lib/python2.7/site-packages/tensorflow/python/client/session.pyc\u001b[0m in \u001b[0;36m_run\u001b[1;34m(self, handle, fetches, feed_dict, options, run_metadata)\u001b[0m\n\u001b[0;32m   1122\u001b[0m     \u001b[1;32mif\u001b[0m \u001b[0mfinal_fetches\u001b[0m \u001b[1;32mor\u001b[0m \u001b[0mfinal_targets\u001b[0m \u001b[1;32mor\u001b[0m \u001b[1;33m(\u001b[0m\u001b[0mhandle\u001b[0m \u001b[1;32mand\u001b[0m \u001b[0mfeed_dict_tensor\u001b[0m\u001b[1;33m)\u001b[0m\u001b[1;33m:\u001b[0m\u001b[1;33m\u001b[0m\u001b[0m\n\u001b[0;32m   1123\u001b[0m       results = self._do_run(handle, final_targets, final_fetches,\n\u001b[1;32m-> 1124\u001b[1;33m                              feed_dict_tensor, options, run_metadata)\n\u001b[0m\u001b[0;32m   1125\u001b[0m     \u001b[1;32melse\u001b[0m\u001b[1;33m:\u001b[0m\u001b[1;33m\u001b[0m\u001b[0m\n\u001b[0;32m   1126\u001b[0m       \u001b[0mresults\u001b[0m \u001b[1;33m=\u001b[0m \u001b[1;33m[\u001b[0m\u001b[1;33m]\u001b[0m\u001b[1;33m\u001b[0m\u001b[0m\n",
      "\u001b[1;32m/home/botman/Programming/Platforms/anaconda2/lib/python2.7/site-packages/tensorflow/python/client/session.pyc\u001b[0m in \u001b[0;36m_do_run\u001b[1;34m(self, handle, target_list, fetch_list, feed_dict, options, run_metadata)\u001b[0m\n\u001b[0;32m   1319\u001b[0m     \u001b[1;32mif\u001b[0m \u001b[0mhandle\u001b[0m \u001b[1;32mis\u001b[0m \u001b[0mNone\u001b[0m\u001b[1;33m:\u001b[0m\u001b[1;33m\u001b[0m\u001b[0m\n\u001b[0;32m   1320\u001b[0m       return self._do_call(_run_fn, self._session, feeds, fetches, targets,\n\u001b[1;32m-> 1321\u001b[1;33m                            options, run_metadata)\n\u001b[0m\u001b[0;32m   1322\u001b[0m     \u001b[1;32melse\u001b[0m\u001b[1;33m:\u001b[0m\u001b[1;33m\u001b[0m\u001b[0m\n\u001b[0;32m   1323\u001b[0m       \u001b[1;32mreturn\u001b[0m \u001b[0mself\u001b[0m\u001b[1;33m.\u001b[0m\u001b[0m_do_call\u001b[0m\u001b[1;33m(\u001b[0m\u001b[0m_prun_fn\u001b[0m\u001b[1;33m,\u001b[0m \u001b[0mself\u001b[0m\u001b[1;33m.\u001b[0m\u001b[0m_session\u001b[0m\u001b[1;33m,\u001b[0m \u001b[0mhandle\u001b[0m\u001b[1;33m,\u001b[0m \u001b[0mfeeds\u001b[0m\u001b[1;33m,\u001b[0m \u001b[0mfetches\u001b[0m\u001b[1;33m)\u001b[0m\u001b[1;33m\u001b[0m\u001b[0m\n",
      "\u001b[1;32m/home/botman/Programming/Platforms/anaconda2/lib/python2.7/site-packages/tensorflow/python/client/session.pyc\u001b[0m in \u001b[0;36m_do_call\u001b[1;34m(self, fn, *args)\u001b[0m\n\u001b[0;32m   1325\u001b[0m   \u001b[1;32mdef\u001b[0m \u001b[0m_do_call\u001b[0m\u001b[1;33m(\u001b[0m\u001b[0mself\u001b[0m\u001b[1;33m,\u001b[0m \u001b[0mfn\u001b[0m\u001b[1;33m,\u001b[0m \u001b[1;33m*\u001b[0m\u001b[0margs\u001b[0m\u001b[1;33m)\u001b[0m\u001b[1;33m:\u001b[0m\u001b[1;33m\u001b[0m\u001b[0m\n\u001b[0;32m   1326\u001b[0m     \u001b[1;32mtry\u001b[0m\u001b[1;33m:\u001b[0m\u001b[1;33m\u001b[0m\u001b[0m\n\u001b[1;32m-> 1327\u001b[1;33m       \u001b[1;32mreturn\u001b[0m \u001b[0mfn\u001b[0m\u001b[1;33m(\u001b[0m\u001b[1;33m*\u001b[0m\u001b[0margs\u001b[0m\u001b[1;33m)\u001b[0m\u001b[1;33m\u001b[0m\u001b[0m\n\u001b[0m\u001b[0;32m   1328\u001b[0m     \u001b[1;32mexcept\u001b[0m \u001b[0merrors\u001b[0m\u001b[1;33m.\u001b[0m\u001b[0mOpError\u001b[0m \u001b[1;32mas\u001b[0m \u001b[0me\u001b[0m\u001b[1;33m:\u001b[0m\u001b[1;33m\u001b[0m\u001b[0m\n\u001b[0;32m   1329\u001b[0m       \u001b[0mmessage\u001b[0m \u001b[1;33m=\u001b[0m \u001b[0mcompat\u001b[0m\u001b[1;33m.\u001b[0m\u001b[0mas_text\u001b[0m\u001b[1;33m(\u001b[0m\u001b[0me\u001b[0m\u001b[1;33m.\u001b[0m\u001b[0mmessage\u001b[0m\u001b[1;33m)\u001b[0m\u001b[1;33m\u001b[0m\u001b[0m\n",
      "\u001b[1;32m/home/botman/Programming/Platforms/anaconda2/lib/python2.7/site-packages/tensorflow/python/client/session.pyc\u001b[0m in \u001b[0;36m_run_fn\u001b[1;34m(session, feed_dict, fetch_list, target_list, options, run_metadata)\u001b[0m\n\u001b[0;32m   1304\u001b[0m           return tf_session.TF_Run(session, options,\n\u001b[0;32m   1305\u001b[0m                                    \u001b[0mfeed_dict\u001b[0m\u001b[1;33m,\u001b[0m \u001b[0mfetch_list\u001b[0m\u001b[1;33m,\u001b[0m \u001b[0mtarget_list\u001b[0m\u001b[1;33m,\u001b[0m\u001b[1;33m\u001b[0m\u001b[0m\n\u001b[1;32m-> 1306\u001b[1;33m                                    status, run_metadata)\n\u001b[0m\u001b[0;32m   1307\u001b[0m \u001b[1;33m\u001b[0m\u001b[0m\n\u001b[0;32m   1308\u001b[0m     \u001b[1;32mdef\u001b[0m \u001b[0m_prun_fn\u001b[0m\u001b[1;33m(\u001b[0m\u001b[0msession\u001b[0m\u001b[1;33m,\u001b[0m \u001b[0mhandle\u001b[0m\u001b[1;33m,\u001b[0m \u001b[0mfeed_dict\u001b[0m\u001b[1;33m,\u001b[0m \u001b[0mfetch_list\u001b[0m\u001b[1;33m)\u001b[0m\u001b[1;33m:\u001b[0m\u001b[1;33m\u001b[0m\u001b[0m\n",
      "\u001b[1;31mKeyboardInterrupt\u001b[0m: "
     ]
    }
   ],
   "source": [
    "# start training the network for num_iterations and using the batch_size\n",
    "global_step = 0\n",
    "for epoch in range(no_of_epochs):\n",
    "    global_index = 0; costs = [] # start with empty list\n",
    "    while(global_index < n_train_examples):\n",
    "        start = global_index; end = start + batch_size\n",
    "        train_X_minibatch = train_X[:, start: end]\n",
    "        train_Y_minibatch = train_Y.astype(np.int32)[start: end]\n",
    "\n",
    "        iteration = global_index / batch_size\n",
    "        \n",
    "        # run the computation:\n",
    "        _, loss = sess.run((optimizer, cost), feed_dict={tf_input_pixels: train_X_minibatch, \n",
    "                                                         tf_integer_labels: train_Y_minibatch})\n",
    "\n",
    "        # add the cost to the cost list\n",
    "        costs.append(loss)\n",
    "\n",
    "        if(iteration % 100 == 0):\n",
    "            sums = sess.run(all_summaries, feed_dict={tf_input_pixels: train_X_minibatch, \n",
    "                                                         tf_integer_labels: train_Y_minibatch})\n",
    "            \n",
    "            print \"Iteration: \" + str(global_step) + \" Cost: \" + str(loss)\n",
    "\n",
    "            tensorboard_writer.add_summary(sums, global_step = global_step)\n",
    "        \n",
    "        # increment the global index \n",
    "        global_index = global_index + batch_size\n",
    "    \n",
    "        global_step += 1\n",
    "        \n",
    "    # print the average epoch cost:\n",
    "    print \"Average epoch cost: \" + str(sum(costs) / len(costs))\n",
    "        "
   ]
  },
  {
   "cell_type": "markdown",
   "metadata": {},
   "source": [
    "# Very Important: Save this trained model"
   ]
  },
  {
   "cell_type": "code",
   "execution_count": 44,
   "metadata": {
    "collapsed": false
   },
   "outputs": [
    {
     "data": {
      "text/plain": [
       "'../../Models/IDEA_1/Model15/Model15'"
      ]
     },
     "execution_count": 44,
     "metadata": {},
     "output_type": "execute_result"
    }
   ],
   "source": [
    "model_file_name = os.path.join(model_path_name, model_path_name.split(\"/\")[-1])\n",
    "model_file_name"
   ]
  },
  {
   "cell_type": "code",
   "execution_count": 59,
   "metadata": {
    "collapsed": true
   },
   "outputs": [],
   "source": [
    "saver = tf.train.Saver()"
   ]
  },
  {
   "cell_type": "code",
   "execution_count": 45,
   "metadata": {
    "collapsed": false
   },
   "outputs": [
    {
     "data": {
      "text/plain": [
       "'../../Models/IDEA_1/Model15/Model15-9018'"
      ]
     },
     "execution_count": 45,
     "metadata": {},
     "output_type": "execute_result"
    }
   ],
   "source": [
    "saver.save(sess, model_file_name, global_step=global_step)"
   ]
  },
  {
   "cell_type": "markdown",
   "metadata": {},
   "source": [
    "# Model13 seems to be the most promising till now. It has (Mean absolute difference) function as the forward and the backward costs\n",
    "-------------------------------------------------------------------------------------------------------------------\n",
    "# Model 15 (currently being used), is same as Model13 but trained for longer"
   ]
  },
  {
   "cell_type": "code",
   "execution_count": 57,
   "metadata": {
    "collapsed": true
   },
   "outputs": [],
   "source": [
    "testing_model = \"Model15\""
   ]
  },
  {
   "cell_type": "markdown",
   "metadata": {},
   "source": [
    "# The following cell shows how the network final activations look like upon passing some of the test images that It has never seen before\n",
    "-------------------------------------------------------------------------------------------------------------------\n",
    "# Run the following cell multiple times to see the effect better"
   ]
  },
  {
   "cell_type": "code",
   "execution_count": 60,
   "metadata": {
    "collapsed": false
   },
   "outputs": [
    {
     "name": "stdout",
     "output_type": "stream",
     "text": [
      "INFO:tensorflow:Restoring parameters from ../../Models/IDEA_1/Model15/Model15-9018\n"
     ]
    }
   ],
   "source": [
    "saver.restore(sess, tf.train.latest_checkpoint(model_path_name))"
   ]
  },
  {
   "cell_type": "code",
   "execution_count": 76,
   "metadata": {
    "collapsed": false,
    "scrolled": false
   },
   "outputs": [
    {
     "name": "stdout",
     "output_type": "stream",
     "text": [
      "Predicted label: 8\n"
     ]
    },
    {
     "data": {
      "image/png": "[encoded data removed]",
      "text/plain": [
       "<matplotlib.figure.Figure at 0x7fee75efc690>"
      ]
     },
     "metadata": {},
     "output_type": "display_data"
    },
    {
     "data": {
      "image/png": "[encoded data removed]",
      "text/plain": [
       "<matplotlib.figure.Figure at 0x7fee76046c90>"
      ]
     },
     "metadata": {},
     "output_type": "display_data"
    }
   ],
   "source": [
    "# check by plotting some image\n",
    "random_index = np.random.randint(test_X.shape[-1])\n",
    "random_image = test_X[:, random_index].reshape((28, 28))\n",
    "# use plt to plot the image\n",
    "plt.figure().suptitle(\"Label of the image: \" + str(test_Y[random_index]))\n",
    "plt.imshow(random_image)\n",
    "\n",
    "# generate the predictions for one random image from the test set.\n",
    "predictions = np.squeeze(sess.run(y_in_back, feed_dict={tf_input_pixels: test_X[:, random_index].reshape((-1, 1))}))\n",
    "\n",
    "plt.figure().suptitle(\"Predictions obtained from the network\")\n",
    "plt.plot(range(10), predictions);\n",
    "#print predictions\n",
    "print \"Predicted label: \" + str(np.argmax(predictions))"
   ]
  },
  {
   "cell_type": "markdown",
   "metadata": {},
   "source": [
    "# Calculate the accuracy of the network on the training and the test dataset"
   ]
  },
  {
   "cell_type": "code",
   "execution_count": 78,
   "metadata": {
    "collapsed": false
   },
   "outputs": [
    {
     "data": {
      "text/plain": [
       "(<tf.Tensor 'Placeholder:0' shape=(784, ?) dtype=float32>, (784, 39900))"
      ]
     },
     "execution_count": 78,
     "metadata": {},
     "output_type": "execute_result"
    }
   ],
   "source": [
    "tf_input_pixels, train_X.shape"
   ]
  },
  {
   "cell_type": "code",
   "execution_count": 101,
   "metadata": {
    "collapsed": true
   },
   "outputs": [],
   "source": [
    "preds = sess.run(y_in_back, feed_dict={tf_input_pixels: train_X})"
   ]
  },
  {
   "cell_type": "code",
   "execution_count": 102,
   "metadata": {
    "collapsed": false
   },
   "outputs": [
    {
     "name": "stdout",
     "output_type": "stream",
     "text": [
      "Training accuracy: 87.2932330827\n"
     ]
    }
   ],
   "source": [
    "correct = np.sum(np.argmax(preds, axis=0) == train_Y)\n",
    "accuracy = (float(correct) / train_X.shape[-1]) * 100\n",
    "print \"Training accuracy: \" + str(accuracy)"
   ]
  },
  {
   "cell_type": "markdown",
   "metadata": {},
   "source": [
    "# Calculate the test accuracy:"
   ]
  },
  {
   "cell_type": "code",
   "execution_count": 103,
   "metadata": {
    "collapsed": false
   },
   "outputs": [
    {
     "name": "stdout",
     "output_type": "stream",
     "text": [
      "Testing accuracy:86.7142857143\n"
     ]
    }
   ],
   "source": [
    "test_preds = sess.run(y_in_back, feed_dict={tf_input_pixels: test_X})\n",
    "test_correct = np.sum(np.argmax(test_preds, axis=0) == test_Y)\n",
    "test_accuracy = (float(test_correct) / test_X.shape[-1]) * 100\n",
    "print \"Testing accuracy:\" + str(test_accuracy)"
   ]
  },
  {
   "cell_type": "markdown",
   "metadata": {},
   "source": [
    "# Now comes the best part! Can The network generate digits?\n",
    "-------------------------------------------------------------------------------------------------------------------\n",
    "# Let's generate some digits by tweaking the learned representation"
   ]
  },
  {
   "cell_type": "code",
   "execution_count": 126,
   "metadata": {
    "collapsed": false
   },
   "outputs": [
    {
     "data": {
      "text/plain": [
       "<matplotlib.image.AxesImage at 0x7fc9a9c8c150>"
      ]
     },
     "execution_count": 126,
     "metadata": {},
     "output_type": "execute_result"
    },
    {
     "data": {
      "image/png": "[encoded data removed]",
      "text/plain": [
       "<matplotlib.figure.Figure at 0x7fc9a9a57490>"
      ]
     },
     "metadata": {},
     "output_type": "display_data"
    }
   ],
   "source": [
    "generator_array = np.array([0, 0, 0, 30, 0, 0, 0, 0, 10, 20]).reshape(-1, 1).astype(np.float32)\n",
    "generator_array.dtype\n",
    "generated_image = sess.run(generated_digits, feed_dict={in_back_vector: generator_array}).reshape((28, 28))\n",
    "plt.imshow(generated_image)"
   ]
  },
  {
   "cell_type": "markdown",
   "metadata": {},
   "source": [
    "# Hell Yeah! That's a victory! We can indeed generate digits using this neural network"
   ]
  }
 ],
 "metadata": {
  "kernelspec": {
   "display_name": "Python [Root]",
   "language": "python",
   "name": "Python [Root]"
  },
  "language_info": {
   "codemirror_mode": {
    "name": "ipython",
    "version": 2
   },
   "file_extension": ".py",
   "mimetype": "text/x-python",
   "name": "python",
   "nbconvert_exporter": "python",
   "pygments_lexer": "ipython2",
   "version": "2.7.12"
  }
 },
 "nbformat": 4,
 "nbformat_minor": 2
}
