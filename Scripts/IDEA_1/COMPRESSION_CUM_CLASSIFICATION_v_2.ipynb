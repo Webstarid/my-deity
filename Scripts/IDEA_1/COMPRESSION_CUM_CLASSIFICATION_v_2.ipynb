{
 "cells": [
  {
   "cell_type": "markdown",
   "metadata": {},
   "source": [
    "# This is my first idea for going towards the hybrid architecture that I am looking to achieve. So, according to this idea, I am going to check if it works on the MNIST dataset or not.\n",
    "-------------------------------------------------------------------------------------------------------------------\n",
    "# Technology used: Tensorflow"
   ]
  },
  {
   "cell_type": "markdown",
   "metadata": {},
   "source": [
    "I start with the usual utility cells for this task"
   ]
  },
  {
   "cell_type": "code",
   "execution_count": 1,
   "metadata": {
    "collapsed": true
   },
   "outputs": [],
   "source": [
    "# packages used for machine learning\n",
    "import tensorflow as tf\n",
    "\n",
    "# packages used for processing: \n",
    "import matplotlib.pyplot as plt # for visualization\n",
    "import numpy as np\n",
    "\n",
    "# for operating system related stuff\n",
    "import os\n",
    "import sys # for memory usage of objects\n",
    "from subprocess import check_output\n",
    "\n",
    "# import pandas for reading the csv files\n",
    "import pandas as pd\n",
    "\n",
    "# to plot the images inline\n",
    "%matplotlib inline"
   ]
  },
  {
   "cell_type": "code",
   "execution_count": 2,
   "metadata": {
    "collapsed": true
   },
   "outputs": [],
   "source": [
    "# Input data files are available in the \"../Data/\" directory.\n",
    "\n",
    "def exec_command(cmd):\n",
    "    '''\n",
    "        function to execute a shell command and see it's \n",
    "        output in the python console\n",
    "        @params\n",
    "        cmd = the command to be executed along with the arguments\n",
    "              ex: ['ls', '../input']\n",
    "    '''\n",
    "    print(check_output(cmd).decode(\"utf8\"))"
   ]
  },
  {
   "cell_type": "code",
   "execution_count": 3,
   "metadata": {
    "collapsed": false
   },
   "outputs": [
    {
     "name": "stdout",
     "output_type": "stream",
     "text": [
      "Data\n",
      "LICENSE\n",
      "Literature_survey\n",
      "Models\n",
      "README.md\n",
      "Scripts\n",
      "\n"
     ]
    }
   ],
   "source": [
    "# check the structure of the project directory\n",
    "exec_command(['ls', '../..'])"
   ]
  },
  {
   "cell_type": "code",
   "execution_count": 4,
   "metadata": {
    "collapsed": true
   },
   "outputs": [],
   "source": [
    "''' Set the constants for the script '''\n",
    "\n",
    "# various paths of the files\n",
    "data_path = \"../../Data\" # the data path\n",
    "\n",
    "dataset = \"MNIST\"\n",
    "\n",
    "data_files = {\n",
    "    'train': os.path.join(data_path, dataset, \"train.csv\"),\n",
    "    'test' : os.path.join(data_path, dataset, \"test.csv\")\n",
    "}\n",
    "\n",
    "base_model_path = '../../Models'\n",
    "\n",
    "current_model_path = os.path.join(base_model_path, \"IDEA_1\")\n",
    "\n",
    "model_path_name = os.path.join(current_model_path, \"Model1_v2\")\n",
    "\n",
    "# constant values:\n",
    "highest_pixel_value = 255\n",
    "train_percentage = 95\n",
    "num_classes = 10\n",
    "no_of_epochs = 500\n",
    "batch_size = 64\n",
    "hidden_neurons = 512"
   ]
  },
  {
   "cell_type": "markdown",
   "metadata": {},
   "source": [
    "# Let's load in the data:\n",
    "-------------------------------------------------------------------------------------------------------------------\n",
    "## and perform some basic preprocessing on it"
   ]
  },
  {
   "cell_type": "code",
   "execution_count": 5,
   "metadata": {
    "collapsed": true
   },
   "outputs": [],
   "source": [
    "raw_data = pd.read_csv(data_files['train'])"
   ]
  },
  {
   "cell_type": "code",
   "execution_count": 6,
   "metadata": {
    "collapsed": false
   },
   "outputs": [
    {
     "name": "stdout",
     "output_type": "stream",
     "text": [
      "784 42000\n"
     ]
    }
   ],
   "source": [
    "n_features = len(raw_data.columns) - 1\n",
    "n_examples = len(raw_data.label)\n",
    "print n_features, n_examples"
   ]
  },
  {
   "cell_type": "code",
   "execution_count": 7,
   "metadata": {
    "collapsed": false
   },
   "outputs": [
    {
     "data": {
      "text/html": [
       "<div>\n",
       "<table border=\"1\" class=\"dataframe\">\n",
       "  <thead>\n",
       "    <tr style=\"text-align: right;\">\n",
       "      <th></th>\n",
       "      <th>label</th>\n",
       "      <th>pixel0</th>\n",
       "      <th>pixel1</th>\n",
       "      <th>pixel2</th>\n",
       "      <th>pixel3</th>\n",
       "      <th>pixel4</th>\n",
       "      <th>pixel5</th>\n",
       "      <th>pixel6</th>\n",
       "      <th>pixel7</th>\n",
       "      <th>pixel8</th>\n",
       "      <th>...</th>\n",
       "      <th>pixel774</th>\n",
       "      <th>pixel775</th>\n",
       "      <th>pixel776</th>\n",
       "      <th>pixel777</th>\n",
       "      <th>pixel778</th>\n",
       "      <th>pixel779</th>\n",
       "      <th>pixel780</th>\n",
       "      <th>pixel781</th>\n",
       "      <th>pixel782</th>\n",
       "      <th>pixel783</th>\n",
       "    </tr>\n",
       "  </thead>\n",
       "  <tbody>\n",
       "    <tr>\n",
       "      <th>0</th>\n",
       "      <td>1</td>\n",
       "      <td>0</td>\n",
       "      <td>0</td>\n",
       "      <td>0</td>\n",
       "      <td>0</td>\n",
       "      <td>0</td>\n",
       "      <td>0</td>\n",
       "      <td>0</td>\n",
       "      <td>0</td>\n",
       "      <td>0</td>\n",
       "      <td>...</td>\n",
       "      <td>0</td>\n",
       "      <td>0</td>\n",
       "      <td>0</td>\n",
       "      <td>0</td>\n",
       "      <td>0</td>\n",
       "      <td>0</td>\n",
       "      <td>0</td>\n",
       "      <td>0</td>\n",
       "      <td>0</td>\n",
       "      <td>0</td>\n",
       "    </tr>\n",
       "    <tr>\n",
       "      <th>1</th>\n",
       "      <td>0</td>\n",
       "      <td>0</td>\n",
       "      <td>0</td>\n",
       "      <td>0</td>\n",
       "      <td>0</td>\n",
       "      <td>0</td>\n",
       "      <td>0</td>\n",
       "      <td>0</td>\n",
       "      <td>0</td>\n",
       "      <td>0</td>\n",
       "      <td>...</td>\n",
       "      <td>0</td>\n",
       "      <td>0</td>\n",
       "      <td>0</td>\n",
       "      <td>0</td>\n",
       "      <td>0</td>\n",
       "      <td>0</td>\n",
       "      <td>0</td>\n",
       "      <td>0</td>\n",
       "      <td>0</td>\n",
       "      <td>0</td>\n",
       "    </tr>\n",
       "    <tr>\n",
       "      <th>2</th>\n",
       "      <td>1</td>\n",
       "      <td>0</td>\n",
       "      <td>0</td>\n",
       "      <td>0</td>\n",
       "      <td>0</td>\n",
       "      <td>0</td>\n",
       "      <td>0</td>\n",
       "      <td>0</td>\n",
       "      <td>0</td>\n",
       "      <td>0</td>\n",
       "      <td>...</td>\n",
       "      <td>0</td>\n",
       "      <td>0</td>\n",
       "      <td>0</td>\n",
       "      <td>0</td>\n",
       "      <td>0</td>\n",
       "      <td>0</td>\n",
       "      <td>0</td>\n",
       "      <td>0</td>\n",
       "      <td>0</td>\n",
       "      <td>0</td>\n",
       "    </tr>\n",
       "    <tr>\n",
       "      <th>3</th>\n",
       "      <td>4</td>\n",
       "      <td>0</td>\n",
       "      <td>0</td>\n",
       "      <td>0</td>\n",
       "      <td>0</td>\n",
       "      <td>0</td>\n",
       "      <td>0</td>\n",
       "      <td>0</td>\n",
       "      <td>0</td>\n",
       "      <td>0</td>\n",
       "      <td>...</td>\n",
       "      <td>0</td>\n",
       "      <td>0</td>\n",
       "      <td>0</td>\n",
       "      <td>0</td>\n",
       "      <td>0</td>\n",
       "      <td>0</td>\n",
       "      <td>0</td>\n",
       "      <td>0</td>\n",
       "      <td>0</td>\n",
       "      <td>0</td>\n",
       "    </tr>\n",
       "    <tr>\n",
       "      <th>4</th>\n",
       "      <td>0</td>\n",
       "      <td>0</td>\n",
       "      <td>0</td>\n",
       "      <td>0</td>\n",
       "      <td>0</td>\n",
       "      <td>0</td>\n",
       "      <td>0</td>\n",
       "      <td>0</td>\n",
       "      <td>0</td>\n",
       "      <td>0</td>\n",
       "      <td>...</td>\n",
       "      <td>0</td>\n",
       "      <td>0</td>\n",
       "      <td>0</td>\n",
       "      <td>0</td>\n",
       "      <td>0</td>\n",
       "      <td>0</td>\n",
       "      <td>0</td>\n",
       "      <td>0</td>\n",
       "      <td>0</td>\n",
       "      <td>0</td>\n",
       "    </tr>\n",
       "    <tr>\n",
       "      <th>5</th>\n",
       "      <td>0</td>\n",
       "      <td>0</td>\n",
       "      <td>0</td>\n",
       "      <td>0</td>\n",
       "      <td>0</td>\n",
       "      <td>0</td>\n",
       "      <td>0</td>\n",
       "      <td>0</td>\n",
       "      <td>0</td>\n",
       "      <td>0</td>\n",
       "      <td>...</td>\n",
       "      <td>0</td>\n",
       "      <td>0</td>\n",
       "      <td>0</td>\n",
       "      <td>0</td>\n",
       "      <td>0</td>\n",
       "      <td>0</td>\n",
       "      <td>0</td>\n",
       "      <td>0</td>\n",
       "      <td>0</td>\n",
       "      <td>0</td>\n",
       "    </tr>\n",
       "    <tr>\n",
       "      <th>6</th>\n",
       "      <td>7</td>\n",
       "      <td>0</td>\n",
       "      <td>0</td>\n",
       "      <td>0</td>\n",
       "      <td>0</td>\n",
       "      <td>0</td>\n",
       "      <td>0</td>\n",
       "      <td>0</td>\n",
       "      <td>0</td>\n",
       "      <td>0</td>\n",
       "      <td>...</td>\n",
       "      <td>0</td>\n",
       "      <td>0</td>\n",
       "      <td>0</td>\n",
       "      <td>0</td>\n",
       "      <td>0</td>\n",
       "      <td>0</td>\n",
       "      <td>0</td>\n",
       "      <td>0</td>\n",
       "      <td>0</td>\n",
       "      <td>0</td>\n",
       "    </tr>\n",
       "    <tr>\n",
       "      <th>7</th>\n",
       "      <td>3</td>\n",
       "      <td>0</td>\n",
       "      <td>0</td>\n",
       "      <td>0</td>\n",
       "      <td>0</td>\n",
       "      <td>0</td>\n",
       "      <td>0</td>\n",
       "      <td>0</td>\n",
       "      <td>0</td>\n",
       "      <td>0</td>\n",
       "      <td>...</td>\n",
       "      <td>0</td>\n",
       "      <td>0</td>\n",
       "      <td>0</td>\n",
       "      <td>0</td>\n",
       "      <td>0</td>\n",
       "      <td>0</td>\n",
       "      <td>0</td>\n",
       "      <td>0</td>\n",
       "      <td>0</td>\n",
       "      <td>0</td>\n",
       "    </tr>\n",
       "    <tr>\n",
       "      <th>8</th>\n",
       "      <td>5</td>\n",
       "      <td>0</td>\n",
       "      <td>0</td>\n",
       "      <td>0</td>\n",
       "      <td>0</td>\n",
       "      <td>0</td>\n",
       "      <td>0</td>\n",
       "      <td>0</td>\n",
       "      <td>0</td>\n",
       "      <td>0</td>\n",
       "      <td>...</td>\n",
       "      <td>0</td>\n",
       "      <td>0</td>\n",
       "      <td>0</td>\n",
       "      <td>0</td>\n",
       "      <td>0</td>\n",
       "      <td>0</td>\n",
       "      <td>0</td>\n",
       "      <td>0</td>\n",
       "      <td>0</td>\n",
       "      <td>0</td>\n",
       "    </tr>\n",
       "    <tr>\n",
       "      <th>9</th>\n",
       "      <td>3</td>\n",
       "      <td>0</td>\n",
       "      <td>0</td>\n",
       "      <td>0</td>\n",
       "      <td>0</td>\n",
       "      <td>0</td>\n",
       "      <td>0</td>\n",
       "      <td>0</td>\n",
       "      <td>0</td>\n",
       "      <td>0</td>\n",
       "      <td>...</td>\n",
       "      <td>0</td>\n",
       "      <td>0</td>\n",
       "      <td>0</td>\n",
       "      <td>0</td>\n",
       "      <td>0</td>\n",
       "      <td>0</td>\n",
       "      <td>0</td>\n",
       "      <td>0</td>\n",
       "      <td>0</td>\n",
       "      <td>0</td>\n",
       "    </tr>\n",
       "  </tbody>\n",
       "</table>\n",
       "<p>10 rows × 785 columns</p>\n",
       "</div>"
      ],
      "text/plain": [
       "   label  pixel0  pixel1  pixel2  pixel3  pixel4  pixel5  pixel6  pixel7  \\\n",
       "0      1       0       0       0       0       0       0       0       0   \n",
       "1      0       0       0       0       0       0       0       0       0   \n",
       "2      1       0       0       0       0       0       0       0       0   \n",
       "3      4       0       0       0       0       0       0       0       0   \n",
       "4      0       0       0       0       0       0       0       0       0   \n",
       "5      0       0       0       0       0       0       0       0       0   \n",
       "6      7       0       0       0       0       0       0       0       0   \n",
       "7      3       0       0       0       0       0       0       0       0   \n",
       "8      5       0       0       0       0       0       0       0       0   \n",
       "9      3       0       0       0       0       0       0       0       0   \n",
       "\n",
       "   pixel8    ...     pixel774  pixel775  pixel776  pixel777  pixel778  \\\n",
       "0       0    ...            0         0         0         0         0   \n",
       "1       0    ...            0         0         0         0         0   \n",
       "2       0    ...            0         0         0         0         0   \n",
       "3       0    ...            0         0         0         0         0   \n",
       "4       0    ...            0         0         0         0         0   \n",
       "5       0    ...            0         0         0         0         0   \n",
       "6       0    ...            0         0         0         0         0   \n",
       "7       0    ...            0         0         0         0         0   \n",
       "8       0    ...            0         0         0         0         0   \n",
       "9       0    ...            0         0         0         0         0   \n",
       "\n",
       "   pixel779  pixel780  pixel781  pixel782  pixel783  \n",
       "0         0         0         0         0         0  \n",
       "1         0         0         0         0         0  \n",
       "2         0         0         0         0         0  \n",
       "3         0         0         0         0         0  \n",
       "4         0         0         0         0         0  \n",
       "5         0         0         0         0         0  \n",
       "6         0         0         0         0         0  \n",
       "7         0         0         0         0         0  \n",
       "8         0         0         0         0         0  \n",
       "9         0         0         0         0         0  \n",
       "\n",
       "[10 rows x 785 columns]"
      ]
     },
     "execution_count": 7,
     "metadata": {},
     "output_type": "execute_result"
    }
   ],
   "source": [
    "raw_data.head(10)"
   ]
  },
  {
   "cell_type": "code",
   "execution_count": 8,
   "metadata": {
    "collapsed": true
   },
   "outputs": [],
   "source": [
    "labels = np.array(raw_data['label'])"
   ]
  },
  {
   "cell_type": "code",
   "execution_count": 9,
   "metadata": {
    "collapsed": false
   },
   "outputs": [
    {
     "data": {
      "text/plain": [
       "(42000,)"
      ]
     },
     "execution_count": 9,
     "metadata": {},
     "output_type": "execute_result"
    }
   ],
   "source": [
    "labels.shape"
   ]
  },
  {
   "cell_type": "code",
   "execution_count": 10,
   "metadata": {
    "collapsed": true
   },
   "outputs": [],
   "source": [
    "# extract the data from the remaining raw_data\n",
    "features = np.ndarray((n_features, n_examples), dtype=np.float32)\n",
    "\n",
    "count = 0 # initialize from zero\n",
    "for pixel in raw_data.columns[1:]:\n",
    "    feature_slice = np.array(raw_data[pixel])\n",
    "    features[count, :] = feature_slice\n",
    "    count += 1 # increment count"
   ]
  },
  {
   "cell_type": "code",
   "execution_count": 11,
   "metadata": {
    "collapsed": false
   },
   "outputs": [
    {
     "data": {
      "text/plain": [
       "(784, 42000)"
      ]
     },
     "execution_count": 11,
     "metadata": {},
     "output_type": "execute_result"
    }
   ],
   "source": [
    "features.shape"
   ]
  },
  {
   "cell_type": "code",
   "execution_count": 12,
   "metadata": {
    "collapsed": true
   },
   "outputs": [],
   "source": [
    "# normalize the pixel data by dividing the values by the highest_pixel_value\n",
    "features = features / highest_pixel_value"
   ]
  },
  {
   "cell_type": "code",
   "execution_count": 13,
   "metadata": {
    "collapsed": false
   },
   "outputs": [
    {
     "data": {
      "text/plain": [
       "<matplotlib.image.AxesImage at 0x7ff7b1629b10>"
      ]
     },
     "execution_count": 13,
     "metadata": {},
     "output_type": "execute_result"
    },
    {
     "data": {
      "image/png": "[encoded data removed]",
      "text/plain": [
       "<matplotlib.figure.Figure at 0x7ff7b17d3450>"
      ]
     },
     "metadata": {},
     "output_type": "display_data"
    }
   ],
   "source": [
    "plt.imshow((features[:, 9]).reshape((28, 28)))"
   ]
  },
  {
   "cell_type": "markdown",
   "metadata": {},
   "source": [
    "# use the function to generate the train_dev split\n",
    "-------------------------------------------------------------------------------------------------------------------\n",
    "link -> https://github.com/akanimax/machine-learning-helpers/blob/master/training/data_setup.py"
   ]
  },
  {
   "cell_type": "code",
   "execution_count": 14,
   "metadata": {
    "collapsed": true
   },
   "outputs": [],
   "source": [
    "# shuffle the data using a random permutation\n",
    "perm = np.random.permutation(n_examples)\n",
    "features = features[:, perm]\n",
    "labels = labels[perm]"
   ]
  },
  {
   "cell_type": "code",
   "execution_count": 15,
   "metadata": {
    "collapsed": false
   },
   "outputs": [
    {
     "data": {
      "text/plain": [
       "<matplotlib.image.AxesImage at 0x7ff7b0d31c10>"
      ]
     },
     "execution_count": 15,
     "metadata": {},
     "output_type": "execute_result"
    },
    {
     "data": {
      "image/png": "[encoded data removed]",
      "text/plain": [
       "<matplotlib.figure.Figure at 0x7ff7b1622990>"
      ]
     },
     "metadata": {},
     "output_type": "display_data"
    }
   ],
   "source": [
    "random_index = np.random.randint(n_examples)\n",
    "random_image = features[:, random_index].reshape((28, 28))\n",
    "# use plt to plot the image\n",
    "plt.figure().suptitle(\"Label of the image: \" + str(labels[random_index]))\n",
    "plt.imshow(random_image)"
   ]
  },
  {
   "cell_type": "code",
   "execution_count": 16,
   "metadata": {
    "collapsed": true
   },
   "outputs": [],
   "source": [
    "# function to split the data into train - dev sets:\n",
    "def split_train_dev(X, Y, train_percentage):\n",
    "    '''\n",
    "        function to split the given data into two small datasets (train - dev)\n",
    "        @param\n",
    "        X, Y => the data to be split\n",
    "        (** Make sure the train dimension is the first one)\n",
    "        train_percentage => the percentage which should be in the training set.\n",
    "        (**this should be in 100% not decimal)\n",
    "        @return => train_X, train_Y, test_X, test_Y\n",
    "    '''\n",
    "    m_examples = len(X)\n",
    "    assert train_percentage < 100, \"Train percentage cannot be greater than 100! NOOB!\"\n",
    "    partition_point = int((m_examples * (float(train_percentage) / 100)) + 0.5) # 0.5 is added for rounding\n",
    "\n",
    "    # construct the train_X, train_Y, test_X, test_Y sets:\n",
    "    train_X = X[: partition_point]; train_Y = Y[: partition_point]\n",
    "    test_X  = X[partition_point: ]; test_Y  = Y[partition_point: ]\n",
    "\n",
    "    assert len(train_X) + len(test_X) == m_examples, \"Something wrong in X splitting\"\n",
    "    assert len(train_Y) + len(test_Y) == m_examples, \"Something wrong in Y splitting\"\n",
    "\n",
    "    # return the constructed sets\n",
    "\n",
    "    return train_X, train_Y, test_X, test_Y"
   ]
  },
  {
   "cell_type": "code",
   "execution_count": 17,
   "metadata": {
    "collapsed": true
   },
   "outputs": [],
   "source": [
    "train_X, train_Y, test_X, test_Y = split_train_dev(features.T, labels, train_percentage)"
   ]
  },
  {
   "cell_type": "code",
   "execution_count": 18,
   "metadata": {
    "collapsed": false
   },
   "outputs": [
    {
     "data": {
      "text/plain": [
       "((39900, 784), (39900,), (2100, 784), (2100,))"
      ]
     },
     "execution_count": 18,
     "metadata": {},
     "output_type": "execute_result"
    }
   ],
   "source": [
    "train_X.shape, train_Y.shape, test_X.shape, test_Y.shape"
   ]
  },
  {
   "cell_type": "code",
   "execution_count": 19,
   "metadata": {
    "collapsed": false
   },
   "outputs": [
    {
     "data": {
      "text/plain": [
       "((784, 39900), (784, 2100))"
      ]
     },
     "execution_count": 19,
     "metadata": {},
     "output_type": "execute_result"
    }
   ],
   "source": [
    "train_X = train_X.T; test_X = test_X.T\n",
    "train_X.shape, test_X.shape"
   ]
  },
  {
   "cell_type": "code",
   "execution_count": 20,
   "metadata": {
    "collapsed": false,
    "scrolled": true
   },
   "outputs": [
    {
     "data": {
      "text/plain": [
       "<matplotlib.image.AxesImage at 0x7ff7b0c78190>"
      ]
     },
     "execution_count": 20,
     "metadata": {},
     "output_type": "execute_result"
    },
    {
     "data": {
      "image/png": "[encoded data removed]",
      "text/plain": [
       "<matplotlib.figure.Figure at 0x7ff7b0d67390>"
      ]
     },
     "metadata": {},
     "output_type": "display_data"
    }
   ],
   "source": [
    "# check by plotting some image\n",
    "random_index = np.random.randint(train_X.shape[-1])\n",
    "random_image = train_X[:, random_index].reshape((28, 28))\n",
    "# use plt to plot the image\n",
    "plt.figure().suptitle(\"Label of the image: \" + str(train_Y[random_index]))\n",
    "plt.imshow(random_image)"
   ]
  },
  {
   "cell_type": "markdown",
   "metadata": {},
   "source": [
    "# Point to reset from here onwards: "
   ]
  },
  {
   "cell_type": "code",
   "execution_count": 21,
   "metadata": {
    "collapsed": true
   },
   "outputs": [],
   "source": [
    "# defining the Tensorflow graph for this task:\n",
    "tf.reset_default_graph() # reset the graph here:"
   ]
  },
  {
   "cell_type": "code",
   "execution_count": 22,
   "metadata": {
    "collapsed": true
   },
   "outputs": [],
   "source": [
    "# define the placeholders:\n",
    "tf_input_pixels = tf.placeholder(tf.float32, shape=(n_features, None))\n",
    "tf_integer_labels = tf.placeholder(tf.int32, shape=(None,))"
   ]
  },
  {
   "cell_type": "code",
   "execution_count": 23,
   "metadata": {
    "collapsed": true
   },
   "outputs": [],
   "source": [
    "# image shaped pixels for the input_pixels:\n",
    "tf_input_images = tf.reshape(tf.transpose(tf_input_pixels), shape=(-1, 28, 28, 1))\n",
    "input_image_summary = tf.summary.image(\"input_image\", tf_input_images)"
   ]
  },
  {
   "cell_type": "code",
   "execution_count": 24,
   "metadata": {
    "collapsed": false
   },
   "outputs": [
    {
     "data": {
      "text/plain": [
       "<tf.Tensor 'one_hot:0' shape=(10, ?) dtype=float32>"
      ]
     },
     "execution_count": 24,
     "metadata": {},
     "output_type": "execute_result"
    }
   ],
   "source": [
    "# define the one hot encoded version fo the integer_labels\n",
    "tf_one_hot_encoded_labels = tf.one_hot(tf_integer_labels, depth=num_classes, axis=0)\n",
    "tf_one_hot_encoded_labels"
   ]
  },
  {
   "cell_type": "code",
   "execution_count": 25,
   "metadata": {
    "collapsed": false
   },
   "outputs": [],
   "source": [
    "# define the layer 0 biases:\n",
    "lay_0_b = tf.get_variable(\"layer_0_biases\", shape=(n_features, 1), initializer=tf.zeros_initializer())\n",
    "\n",
    "\n",
    "# layer 1 weights \n",
    "lay_1_W = tf.get_variable(\"layer_1_weights\", shape=(hidden_neurons, n_features), \n",
    "                              dtype=tf.float32, initializer=tf.contrib.layers.xavier_initializer())\n",
    "lay_1_b = tf.get_variable(\"layer_1_biases\", shape=(hidden_neurons, 1), \n",
    "                            dtype=tf.float32, initializer=tf.zeros_initializer())\n",
    "\n",
    "# layer 2 weights\n",
    "lay_2_W = tf.get_variable(\"layer_2_weights\", shape=(hidden_neurons, hidden_neurons), \n",
    "                              dtype=tf.float32, initializer=tf.contrib.layers.xavier_initializer())\n",
    "lay_2_b = tf.get_variable(\"layer_2_biases\", shape=(hidden_neurons, 1), \n",
    "                            dtype=tf.float32, initializer=tf.zeros_initializer())\n",
    "\n",
    "# layer 3 weights\n",
    "lay_3_W = tf.get_variable(\"layer_3_weights\", shape=(hidden_neurons, hidden_neurons), \n",
    "                              dtype=tf.float32, initializer=tf.contrib.layers.xavier_initializer())\n",
    "lay_3_b = tf.get_variable(\"layer_3_biases\", shape=(hidden_neurons, 1), \n",
    "                            dtype=tf.float32, initializer=tf.zeros_initializer())\n",
    "\n",
    "# layer 4 weights\n",
    "lay_4_W = tf.get_variable(\"layer_4_weights\", shape=(hidden_neurons, hidden_neurons), \n",
    "                              dtype=tf.float32, initializer=tf.contrib.layers.xavier_initializer())\n",
    "lay_4_b = tf.get_variable(\"layer_4_biases\", shape=(hidden_neurons, 1), \n",
    "                            dtype=tf.float32, initializer=tf.zeros_initializer())\n",
    "\n",
    "# layer 5 weights\n",
    "lay_5_W = tf.get_variable(\"layer_5_weights\", shape=(hidden_neurons, hidden_neurons), \n",
    "                              dtype=tf.float32, initializer=tf.contrib.layers.xavier_initializer())\n",
    "lay_5_b = tf.get_variable(\"layer_5_biases\", shape=(hidden_neurons, 1), \n",
    "                            dtype=tf.float32, initializer=tf.zeros_initializer())\n",
    "\n",
    "# layer 6 weights\n",
    "lay_6_W = tf.get_variable(\"layer_6_weights\", shape=(num_classes, hidden_neurons), \n",
    "                              dtype=tf.float32, initializer=tf.contrib.layers.xavier_initializer())\n",
    "lay_6_b = tf.get_variable(\"layer_6_biases\", shape=(num_classes, 1), \n",
    "                            dtype=tf.float32, initializer=tf.zeros_initializer())\n",
    "\n",
    "# ''' Following are the backward layers '''\n",
    "\n",
    "# # layer 1 weights\n",
    "# back_lay_1_W = tf.get_variable(\"back_layer_1_weights\", shape=(hidden_neurons, num_classes), \n",
    "#                               dtype=tf.float32, initializer=tf.contrib.layers.xavier_initializer())\n",
    "# back_lay_1_b = tf.get_variable(\"back_layer_1_biases\", shape=(hidden_neurons, 1), \n",
    "#                             dtype=tf.float32, initializer=tf.zeros_initializer())\n",
    "\n",
    "# # layer 2 weights\n",
    "# back_lay_2_W = tf.get_variable(\"back_layer_2_weights\", shape=(hidden_neurons, hidden_neurons), \n",
    "#                               dtype=tf.float32, initializer=tf.contrib.layers.xavier_initializer())\n",
    "# back_lay_2_b = tf.get_variable(\"back_layer_2_biases\", shape=(hidden_neurons, 1), \n",
    "#                             dtype=tf.float32, initializer=tf.zeros_initializer())\n",
    "\n",
    "# # layer 3 weights\n",
    "# back_lay_3_W = tf.get_variable(\"back_layer_3_weights\", shape=(hidden_neurons, hidden_neurons), \n",
    "#                               dtype=tf.float32, initializer=tf.contrib.layers.xavier_initializer())\n",
    "# back_lay_3_b = tf.get_variable(\"back_layer_3_biases\", shape=(hidden_neurons, 1), \n",
    "#                             dtype=tf.float32, initializer=tf.zeros_initializer())\n",
    "\n",
    "# # layer 4 weights\n",
    "# back_lay_4_W = tf.get_variable(\"back_layer_4_weights\", shape=(hidden_neurons, hidden_neurons), \n",
    "#                               dtype=tf.float32, initializer=tf.contrib.layers.xavier_initializer())\n",
    "# back_lay_4_b = tf.get_variable(\"back_layer_4_biases\", shape=(hidden_neurons, 1), \n",
    "#                             dtype=tf.float32, initializer=tf.zeros_initializer())\n",
    "\n",
    "# # layer 5 weights\n",
    "# back_lay_5_W = tf.get_variable(\"back_layer_5_weights\", shape=(hidden_neurons, hidden_neurons), \n",
    "#                               dtype=tf.float32, initializer=tf.contrib.layers.xavier_initializer())\n",
    "# back_lay_5_b = tf.get_variable(\"back_layer_5_biases\", shape=(hidden_neurons, 1), \n",
    "#                             dtype=tf.float32, initializer=tf.zeros_initializer())\n",
    "\n",
    "# # layer 6 weights\n",
    "# back_lay_6_W = tf.get_variable(\"back_layer_6_weights\", shape=(n_features, hidden_neurons), \n",
    "#                               dtype=tf.float32, initializer=tf.contrib.layers.xavier_initializer())\n",
    "# back_lay_6_b = tf.get_variable(\"back_layer_6_biases\", shape=(n_features, 1), \n",
    "#                             dtype=tf.float32, initializer=tf.zeros_initializer())"
   ]
  },
  {
   "cell_type": "markdown",
   "metadata": {},
   "source": [
    "# define the forward computation:"
   ]
  },
  {
   "cell_type": "code",
   "execution_count": 26,
   "metadata": {
    "collapsed": false
   },
   "outputs": [],
   "source": [
    "# forward computation:\n",
    "z1 = tf.matmul(lay_1_W, tf_input_pixels) + lay_1_b\n",
    "a1 = tf.abs(z1)\n",
    "\n",
    "z2 = tf.matmul(lay_2_W, a1) + lay_2_b\n",
    "a2 = tf.abs(z2)\n",
    "\n",
    "z3 = tf.matmul(lay_3_W, a2) + lay_3_b\n",
    "a3 = tf.abs(z3) \n",
    "\n",
    "z4 = tf.matmul(lay_4_W, a3) + lay_4_b\n",
    "a4 = tf.abs(z4) \n",
    "\n",
    "z5 = tf.matmul(lay_5_W, a4) + lay_5_b\n",
    "a5 = tf.abs(z5) \n",
    "\n",
    "z6 = tf.matmul(lay_6_W, a5) + lay_6_b\n",
    "a6 = tf.abs(z6)"
   ]
  },
  {
   "cell_type": "markdown",
   "metadata": {},
   "source": [
    "# define the backward computation:"
   ]
  },
  {
   "cell_type": "code",
   "execution_count": 27,
   "metadata": {
    "collapsed": true
   },
   "outputs": [],
   "source": [
    "# in the backward computations, there are no actiavtion functions\n",
    "y_in_back = a6\n",
    "\n",
    "a1_back = tf.abs(tf.matmul(tf.transpose(lay_6_W), y_in_back) + lay_5_b)\n",
    "a2_back = tf.abs(tf.matmul(tf.transpose(lay_5_W), a1_back) + lay_4_b)\n",
    "a3_back = tf.abs(tf.matmul(tf.transpose(lay_4_W), a2_back) + lay_3_b)\n",
    "a4_back = tf.abs(tf.matmul(tf.transpose(lay_3_W), a3_back) + lay_2_b)\n",
    "a5_back = tf.abs(tf.matmul(tf.transpose(lay_2_W), a4_back) + lay_1_b)\n",
    "a6_back = tf.abs(tf.matmul(tf.transpose(lay_1_W), a5_back) + lay_0_b)"
   ]
  },
  {
   "cell_type": "code",
   "execution_count": 28,
   "metadata": {
    "collapsed": false
   },
   "outputs": [
    {
     "data": {
      "text/plain": [
       "<tf.Tensor 'Abs_5:0' shape=(10, ?) dtype=float32>"
      ]
     },
     "execution_count": 28,
     "metadata": {},
     "output_type": "execute_result"
    }
   ],
   "source": [
    "y_in_back"
   ]
  },
  {
   "cell_type": "code",
   "execution_count": 29,
   "metadata": {
    "collapsed": true
   },
   "outputs": [],
   "source": [
    "in_back_vector = tf.placeholder(tf.float32, shape=(num_classes, None))"
   ]
  },
  {
   "cell_type": "code",
   "execution_count": 30,
   "metadata": {
    "collapsed": true
   },
   "outputs": [],
   "source": [
    "# computations for obtaining predictions: \n",
    "pred1_back = tf.abs(tf.matmul(tf.transpose(lay_6_W), in_back_vector) + lay_5_b)\n",
    "pred2_back = tf.abs(tf.matmul(tf.transpose(lay_5_W), pred1_back) + lay_4_b)\n",
    "pred3_back = tf.abs(tf.matmul(tf.transpose(lay_4_W), pred2_back) + lay_3_b)\n",
    "pred4_back = tf.abs(tf.matmul(tf.transpose(lay_3_W), pred3_back) + lay_2_b)\n",
    "pred5_back = tf.abs(tf.matmul(tf.transpose(lay_2_W), pred4_back) + lay_1_b)\n",
    "pred6_back = tf.abs(tf.matmul(tf.transpose(lay_1_W), pred5_back) + lay_0_b)\n",
    "\n",
    "# generated digits:\n",
    "generated_digits = pred6_back"
   ]
  },
  {
   "cell_type": "code",
   "execution_count": 31,
   "metadata": {
    "collapsed": false
   },
   "outputs": [
    {
     "data": {
      "text/plain": [
       "(<tf.Tensor 'Abs_11:0' shape=(784, ?) dtype=float32>,\n",
       " <tf.Tensor 'Placeholder:0' shape=(784, ?) dtype=float32>)"
      ]
     },
     "execution_count": 31,
     "metadata": {},
     "output_type": "execute_result"
    }
   ],
   "source": [
    "x_out_back = a6_back\n",
    "x_out_back, tf_input_pixels"
   ]
  },
  {
   "cell_type": "code",
   "execution_count": 32,
   "metadata": {
    "collapsed": false
   },
   "outputs": [],
   "source": [
    "x_out_back_image = tf.reshape(tf.transpose(x_out_back), shape=(-1, 28, 28, 1))\n",
    "output_image_summary = tf.summary.image(\"output_image\", x_out_back_image)"
   ]
  },
  {
   "cell_type": "code",
   "execution_count": 33,
   "metadata": {
    "collapsed": false
   },
   "outputs": [
    {
     "data": {
      "text/plain": [
       "<tf.Tensor 'Abs_5:0' shape=(10, ?) dtype=float32>"
      ]
     },
     "execution_count": 33,
     "metadata": {},
     "output_type": "execute_result"
    }
   ],
   "source": [
    "y_in_back"
   ]
  },
  {
   "cell_type": "markdown",
   "metadata": {},
   "source": [
    "# Now compute the forward cost"
   ]
  },
  {
   "cell_type": "code",
   "execution_count": 34,
   "metadata": {
    "collapsed": true
   },
   "outputs": [],
   "source": [
    "def normalize(x):\n",
    "    '''\n",
    "        function to range normalize the given input tensor\n",
    "        @param \n",
    "        x => the input tensor to be range normalized\n",
    "        @return => range normalized tensor\n",
    "    '''\n",
    "    x_max = tf.reduce_max(x, axis=0)\n",
    "    # return the range normalized prediction values:\n",
    "    return (x / x_max)"
   ]
  },
  {
   "cell_type": "code",
   "execution_count": 35,
   "metadata": {
    "collapsed": true
   },
   "outputs": [],
   "source": [
    "# forward cost \n",
    "fwd_cost = tf.reduce_mean(tf.abs(normalize(y_in_back) - tf_one_hot_encoded_labels))\n",
    "fwd_cost_summary = tf.summary.scalar(\"Forward_cost\", fwd_cost)"
   ]
  },
  {
   "cell_type": "markdown",
   "metadata": {},
   "source": [
    "# Now compute the backward cost"
   ]
  },
  {
   "cell_type": "code",
   "execution_count": 36,
   "metadata": {
    "collapsed": true
   },
   "outputs": [],
   "source": [
    "# backward cost \n",
    "# The backward cost is the mean squared error function\n",
    "bwd_cost = tf.reduce_mean(tf.abs(x_out_back - tf_input_pixels))\n",
    "bwd_cost_summary = tf.summary.scalar(\"Backward_cost\", bwd_cost)"
   ]
  },
  {
   "cell_type": "markdown",
   "metadata": {},
   "source": [
    "# The final cost is the addition of both forward and the backward costs "
   ]
  },
  {
   "cell_type": "code",
   "execution_count": 37,
   "metadata": {
    "collapsed": true
   },
   "outputs": [],
   "source": [
    "cost = fwd_cost + bwd_cost\n",
    "final_cost_summary = tf.summary.scalar(\"Final_cost\", cost)"
   ]
  },
  {
   "cell_type": "code",
   "execution_count": 38,
   "metadata": {
    "collapsed": true
   },
   "outputs": [],
   "source": [
    "# define an optimizer for this task\n",
    "optimizer = tf.train.AdamOptimizer(learning_rate=0.001).minimize(cost)\n",
    "init = tf.global_variables_initializer()\n",
    "all_summaries = tf.summary.merge_all()"
   ]
  },
  {
   "cell_type": "code",
   "execution_count": 39,
   "metadata": {
    "collapsed": true
   },
   "outputs": [],
   "source": [
    "n_train_examples = train_X.shape[-1]"
   ]
  },
  {
   "cell_type": "code",
   "execution_count": 40,
   "metadata": {
    "collapsed": true
   },
   "outputs": [],
   "source": [
    "sess = tf.InteractiveSession()\n",
    "tensorboard_writer = tf.summary.FileWriter(model_path_name, graph=sess.graph, filename_suffix=\".bot\")"
   ]
  },
  {
   "cell_type": "code",
   "execution_count": 41,
   "metadata": {
    "collapsed": true
   },
   "outputs": [],
   "source": [
    "sess.run(init)"
   ]
  },
  {
   "cell_type": "code",
   "execution_count": 42,
   "metadata": {
    "collapsed": false,
    "scrolled": true
   },
   "outputs": [
    {
     "name": "stdout",
     "output_type": "stream",
     "text": [
      "Iteration: 0 Cost: 0.707188\n",
      "Iteration: 100 Cost: 0.307119\n",
      "Iteration: 200 Cost: 0.310639\n",
      "Iteration: 300 Cost: 0.303151\n",
      "Iteration: 400 Cost: 0.277583\n",
      "Iteration: 500 Cost: 0.260513\n",
      "Iteration: 600 Cost: 0.256191\n",
      "Average epoch cost: 0.296334493093\n",
      "Iteration: 624 Cost: 0.238726\n",
      "Iteration: 724 Cost: 0.223604\n",
      "Iteration: 824 Cost: 0.264565\n",
      "Iteration: 924 Cost: 0.243839\n",
      "Iteration: 1024 Cost: 0.229134\n",
      "Iteration: 1124 Cost: 0.23752\n",
      "Iteration: 1224 Cost: 0.235821\n",
      "Average epoch cost: 0.239941859594\n",
      "Iteration: 1248 Cost: 0.214696\n",
      "Iteration: 1348 Cost: 0.218337\n",
      "Iteration: 1448 Cost: 0.237381\n",
      "Iteration: 1548 Cost: 0.242947\n",
      "Iteration: 1648 Cost: 0.217841\n",
      "Iteration: 1748 Cost: 0.227683\n",
      "Iteration: 1848 Cost: 0.230402\n",
      "Average epoch cost: 0.232279389285\n",
      "Iteration: 1872 Cost: 0.212179\n",
      "Iteration: 1972 Cost: 0.213035\n",
      "Iteration: 2072 Cost: 0.244302\n",
      "Iteration: 2172 Cost: 0.270855\n",
      "Iteration: 2272 Cost: 0.224298\n",
      "Iteration: 2372 Cost: 0.232461\n",
      "Iteration: 2472 Cost: 0.229886\n",
      "Average epoch cost: 0.23328761606\n",
      "Iteration: 2496 Cost: 0.213919\n",
      "Iteration: 2596 Cost: 0.202736\n",
      "Iteration: 2696 Cost: 0.242527\n",
      "Iteration: 2796 Cost: 0.245642\n",
      "Iteration: 2896 Cost: 0.225602\n",
      "Iteration: 2996 Cost: 0.238589\n",
      "Iteration: 3096 Cost: 0.219658\n",
      "Average epoch cost: 0.230197520162\n",
      "Iteration: 3120 Cost: 0.214215\n",
      "Iteration: 3220 Cost: 0.22134\n",
      "Iteration: 3320 Cost: 0.24255\n",
      "Iteration: 3420 Cost: 0.232358\n",
      "Iteration: 3520 Cost: 0.224539\n",
      "Iteration: 3620 Cost: 0.230797\n",
      "Iteration: 3720 Cost: 0.222675\n",
      "Average epoch cost: 0.233459085751\n",
      "Iteration: 3744 Cost: 0.203299\n",
      "Iteration: 3844 Cost: 0.197347\n",
      "Iteration: 3944 Cost: 0.225787\n",
      "Iteration: 4044 Cost: 0.236681\n",
      "Iteration: 4144 Cost: 0.238152\n",
      "Iteration: 4244 Cost: 0.221081\n",
      "Iteration: 4344 Cost: 0.215923\n",
      "Average epoch cost: 0.223425225904\n",
      "Iteration: 4368 Cost: 0.202831\n",
      "Iteration: 4468 Cost: 0.196676\n",
      "Iteration: 4568 Cost: 0.223235\n",
      "Iteration: 4668 Cost: 0.22123\n",
      "Iteration: 4768 Cost: 0.219707\n",
      "Iteration: 4868 Cost: 0.230824\n",
      "Iteration: 4968 Cost: 0.219014\n",
      "Average epoch cost: 0.220704289034\n",
      "Iteration: 4992 Cost: 0.216383\n",
      "Iteration: 5092 Cost: 0.200637\n",
      "Iteration: 5192 Cost: 0.229424\n",
      "Iteration: 5292 Cost: 0.225463\n",
      "Iteration: 5392 Cost: 0.214385\n",
      "Iteration: 5492 Cost: 0.219756\n",
      "Iteration: 5592 Cost: 0.212406\n",
      "Average epoch cost: 0.219876728498\n",
      "Iteration: 5616 Cost: 0.20268\n",
      "Iteration: 5716 Cost: 0.192417\n",
      "Iteration: 5816 Cost: 0.221416\n",
      "Iteration: 5916 Cost: 0.231795\n",
      "Iteration: 6016 Cost: 0.222425\n",
      "Iteration: 6116 Cost: 0.223572\n",
      "Iteration: 6216 Cost: 0.216764\n",
      "Average epoch cost: 0.221298445733\n",
      "Iteration: 6240 Cost: 0.196139\n",
      "Iteration: 6340 Cost: 0.192733\n",
      "Iteration: 6440 Cost: 0.222321\n",
      "Iteration: 6540 Cost: 0.228629\n",
      "Iteration: 6640 Cost: 0.21478\n",
      "Iteration: 6740 Cost: 0.224384\n",
      "Iteration: 6840 Cost: 0.210526\n",
      "Average epoch cost: 0.217760761221\n",
      "Iteration: 6864 Cost: 0.20383\n",
      "Iteration: 6964 Cost: 0.190736\n",
      "Iteration: 7064 Cost: 0.221831\n",
      "Iteration: 7164 Cost: 0.225802\n",
      "Iteration: 7264 Cost: 0.21129\n",
      "Iteration: 7364 Cost: 0.217687\n",
      "Iteration: 7464 Cost: 0.214912\n",
      "Average epoch cost: 0.215918952026\n",
      "Iteration: 7488 Cost: 0.197313\n",
      "Iteration: 7588 Cost: 0.186978\n",
      "Iteration: 7688 Cost: 0.217786\n",
      "Iteration: 7788 Cost: 0.223359\n",
      "Iteration: 7888 Cost: 0.211698\n",
      "Iteration: 7988 Cost: 0.222223\n",
      "Iteration: 8088 Cost: 0.212602\n",
      "Average epoch cost: 0.213738830139\n",
      "Iteration: 8112 Cost: 0.200473\n",
      "Iteration: 8212 Cost: 0.186929\n",
      "Iteration: 8312 Cost: 0.220401\n",
      "Iteration: 8412 Cost: 0.218024\n",
      "Iteration: 8512 Cost: 0.206392\n",
      "Iteration: 8612 Cost: 0.214685\n",
      "Iteration: 8712 Cost: 0.216495\n",
      "Average epoch cost: 0.212217923875\n",
      "Iteration: 8736 Cost: 0.202917\n",
      "Iteration: 8836 Cost: 0.185858\n",
      "Iteration: 8936 Cost: 0.21746\n",
      "Iteration: 9036 Cost: 0.218172\n",
      "Iteration: 9136 Cost: 0.220469\n",
      "Iteration: 9236 Cost: 0.219083\n",
      "Iteration: 9336 Cost: 0.204303\n",
      "Average epoch cost: 0.214056713626\n",
      "Iteration: 9360 Cost: 0.195752\n",
      "Iteration: 9460 Cost: 0.194309\n",
      "Iteration: 9560 Cost: 0.220837\n",
      "Iteration: 9660 Cost: 0.213874\n",
      "Iteration: 9760 Cost: 0.210585\n",
      "Iteration: 9860 Cost: 0.21436\n",
      "Iteration: 9960 Cost: 0.208058\n",
      "Average epoch cost: 0.210891794461\n",
      "Iteration: 9984 Cost: 0.195217\n",
      "Iteration: 10084 Cost: 0.18469\n",
      "Iteration: 10184 Cost: 0.215617\n",
      "Iteration: 10284 Cost: 0.221277\n",
      "Iteration: 10384 Cost: 0.211345\n",
      "Iteration: 10484 Cost: 0.228366\n",
      "Iteration: 10584 Cost: 0.204787\n",
      "Average epoch cost: 0.211830892337\n",
      "Iteration: 10608 Cost: 0.193073\n",
      "Iteration: 10708 Cost: 0.193311\n",
      "Iteration: 10808 Cost: 0.252252\n",
      "Iteration: 10908 Cost: 0.233642\n",
      "Iteration: 11008 Cost: 0.216896\n",
      "Iteration: 11108 Cost: 0.231484\n",
      "Iteration: 11208 Cost: 0.221828\n",
      "Average epoch cost: 0.222024175291\n",
      "Iteration: 11232 Cost: 0.204339\n",
      "Iteration: 11332 Cost: 0.197865\n",
      "Iteration: 11432 Cost: 0.229235\n",
      "Iteration: 11532 Cost: 0.219149\n",
      "Iteration: 11632 Cost: 0.219611\n",
      "Iteration: 11732 Cost: 0.220073\n",
      "Iteration: 11832 Cost: 0.217739\n",
      "Average epoch cost: 0.219439694347\n",
      "Iteration: 11856 Cost: 0.196794\n",
      "Iteration: 11956 Cost: 0.182155\n",
      "Iteration: 12056 Cost: 0.226046\n",
      "Iteration: 12156 Cost: 0.212628\n",
      "Iteration: 12256 Cost: 0.227123\n",
      "Iteration: 12356 Cost: 0.221273\n",
      "Iteration: 12456 Cost: 0.230255\n",
      "Average epoch cost: 0.218047363493\n",
      "Iteration: 12480 Cost: 0.207192\n",
      "Iteration: 12580 Cost: 0.186961\n",
      "Iteration: 12680 Cost: 0.241977\n",
      "Iteration: 12780 Cost: 0.22831\n",
      "Iteration: 12880 Cost: 0.217852\n",
      "Iteration: 12980 Cost: 0.21578\n",
      "Iteration: 13080 Cost: 0.208678\n",
      "Average epoch cost: 0.215904279922\n",
      "Iteration: 13104 Cost: 0.200242\n",
      "Iteration: 13204 Cost: 0.188996\n",
      "Iteration: 13304 Cost: 0.219443\n",
      "Iteration: 13404 Cost: 0.305157\n",
      "Iteration: 13504 Cost: 0.217378\n",
      "Iteration: 13604 Cost: 0.231226\n",
      "Iteration: 13704 Cost: 0.214277\n",
      "Average epoch cost: 0.220384879921\n",
      "Iteration: 13728 Cost: 0.204025\n",
      "Iteration: 13828 Cost: 0.192116\n",
      "Iteration: 13928 Cost: 0.223955\n",
      "Iteration: 14028 Cost: 0.212635\n",
      "Iteration: 14128 Cost: 0.203875\n",
      "Iteration: 14228 Cost: 0.216504\n",
      "Iteration: 14328 Cost: 0.220044\n",
      "Average epoch cost: 0.212919399095\n",
      "Iteration: 14352 Cost: 0.199524\n",
      "Iteration: 14452 Cost: 0.187346\n",
      "Iteration: 14552 Cost: 0.212444\n",
      "Iteration: 14652 Cost: 0.207664\n",
      "Iteration: 14752 Cost: 0.208221\n",
      "Iteration: 14852 Cost: 0.211552\n",
      "Iteration: 14952 Cost: 0.205169\n",
      "Average epoch cost: 0.207919462536\n",
      "Iteration: 14976 Cost: 0.191926\n",
      "Iteration: 15076 Cost: 0.182231\n",
      "Iteration: 15176 Cost: 0.217179\n",
      "Iteration: 15276 Cost: 0.207471\n",
      "Iteration: 15376 Cost: 0.212094\n",
      "Iteration: 15476 Cost: 0.223173\n",
      "Iteration: 15576 Cost: 0.222305\n",
      "Average epoch cost: 0.20975054354\n",
      "Iteration: 15600 Cost: 0.198146\n",
      "Iteration: 15700 Cost: 0.195897\n",
      "Iteration: 15800 Cost: 0.226611\n",
      "Iteration: 15900 Cost: 0.209916\n",
      "Iteration: 16000 Cost: 0.208616\n",
      "Iteration: 16100 Cost: 0.206996\n",
      "Iteration: 16200 Cost: 0.201737\n",
      "Average epoch cost: 0.210560111568\n",
      "Iteration: 16224 Cost: 0.186221\n",
      "Iteration: 16324 Cost: 0.178519\n",
      "Iteration: 16424 Cost: 0.2176\n",
      "Iteration: 16524 Cost: 0.213597\n",
      "Iteration: 16624 Cost: 0.207844\n",
      "Iteration: 16724 Cost: 0.207221\n",
      "Iteration: 16824 Cost: 0.201015\n",
      "Average epoch cost: 0.204975091399\n",
      "Iteration: 16848 Cost: 0.186426\n",
      "Iteration: 16948 Cost: 0.177415\n",
      "Iteration: 17048 Cost: 0.21791\n",
      "Iteration: 17148 Cost: 0.212113\n",
      "Iteration: 17248 Cost: 0.203556\n",
      "Iteration: 17348 Cost: 0.207333\n",
      "Iteration: 17448 Cost: 0.212935\n",
      "Average epoch cost: 0.205963884671\n",
      "Iteration: 17472 Cost: 0.192402\n",
      "Iteration: 17572 Cost: 0.179073\n",
      "Iteration: 17672 Cost: 0.22704\n",
      "Iteration: 17772 Cost: 0.219432\n",
      "Iteration: 17872 Cost: 0.200737\n",
      "Iteration: 17972 Cost: 0.21302\n",
      "Iteration: 18072 Cost: 0.208601\n",
      "Average epoch cost: 0.208319932413\n",
      "Iteration: 18096 Cost: 0.198593\n",
      "Iteration: 18196 Cost: 0.178476\n",
      "Iteration: 18296 Cost: 0.222888\n",
      "Iteration: 18396 Cost: 0.208917\n",
      "Iteration: 18496 Cost: 0.204951\n",
      "Iteration: 18596 Cost: 0.21164\n",
      "Iteration: 18696 Cost: 0.203164\n",
      "Average epoch cost: 0.206306858418\n",
      "Iteration: 18720 Cost: 0.195091\n",
      "Iteration: 18820 Cost: 0.176609\n",
      "Iteration: 18920 Cost: 0.214229\n",
      "Iteration: 19020 Cost: 0.206679\n",
      "Iteration: 19120 Cost: 0.206419\n",
      "Iteration: 19220 Cost: 1.49466\n",
      "Iteration: 19320 Cost: 0.316027\n",
      "Average epoch cost: 0.2639091321\n",
      "Iteration: 19344 Cost: 0.305755\n",
      "Iteration: 19444 Cost: 0.255504\n",
      "Iteration: 19544 Cost: 0.258656\n",
      "Iteration: 19644 Cost: 0.25186\n",
      "Iteration: 19744 Cost: 0.212977\n",
      "Iteration: 19844 Cost: 0.212016\n",
      "Iteration: 19944 Cost: 0.210922\n",
      "Average epoch cost: 0.235053939434\n",
      "Iteration: 19968 Cost: 0.19088\n",
      "Iteration: 20068 Cost: 0.167305\n",
      "Iteration: 20168 Cost: 0.215185\n",
      "Iteration: 20268 Cost: 0.217588\n",
      "Iteration: 20368 Cost: 0.189779\n",
      "Iteration: 20468 Cost: 0.202808\n",
      "Iteration: 20568 Cost: 0.204883\n",
      "Average epoch cost: 0.197001733268\n",
      "Iteration: 20592 Cost: 0.184918\n",
      "Iteration: 20692 Cost: 0.159379\n",
      "Iteration: 20792 Cost: 0.201211\n",
      "Iteration: 20892 Cost: 0.174702\n",
      "Iteration: 20992 Cost: 0.173957\n",
      "Iteration: 21092 Cost: 0.178496\n",
      "Iteration: 21192 Cost: 0.178215\n",
      "Average epoch cost: 0.183578513634\n",
      "Iteration: 21216 Cost: 0.167653\n",
      "Iteration: 21316 Cost: 0.147387\n",
      "Iteration: 21416 Cost: 0.194058\n",
      "Iteration: 21516 Cost: 0.174497\n",
      "Iteration: 21616 Cost: 0.172039\n",
      "Iteration: 21716 Cost: 0.176648\n",
      "Iteration: 21816 Cost: 0.170455\n",
      "Average epoch cost: 0.175622458068\n",
      "Iteration: 21840 Cost: 0.164672\n",
      "Iteration: 21940 Cost: 0.140356\n",
      "Iteration: 22040 Cost: 0.191088\n",
      "Iteration: 22140 Cost: 0.174626\n",
      "Iteration: 22240 Cost: 0.165766\n",
      "Iteration: 22340 Cost: 0.173777\n",
      "Iteration: 22440 Cost: 0.168204\n",
      "Average epoch cost: 0.174509239622\n",
      "Iteration: 22464 Cost: 0.159794\n",
      "Iteration: 22564 Cost: 0.142865\n",
      "Iteration: 22664 Cost: 0.197186\n",
      "Iteration: 22764 Cost: 0.169566\n",
      "Iteration: 22864 Cost: 0.162953\n",
      "Iteration: 22964 Cost: 0.174096\n",
      "Iteration: 23064 Cost: 0.167808\n",
      "Average epoch cost: 0.173610602577\n",
      "Iteration: 23088 Cost: 0.163221\n",
      "Iteration: 23188 Cost: 0.137625\n",
      "Iteration: 23288 Cost: 0.194532\n",
      "Iteration: 23388 Cost: 0.172718\n",
      "Iteration: 23488 Cost: 0.163978\n",
      "Iteration: 23588 Cost: 0.168308\n",
      "Iteration: 23688 Cost: 0.171953\n",
      "Average epoch cost: 0.172591413515\n",
      "Iteration: 23712 Cost: 0.159359\n",
      "Iteration: 23812 Cost: 0.135454\n",
      "Iteration: 23912 Cost: 0.195737\n",
      "Iteration: 24012 Cost: 0.166774\n",
      "Iteration: 24112 Cost: 0.163975\n",
      "Iteration: 24212 Cost: 0.171712\n",
      "Iteration: 24312 Cost: 0.17079\n",
      "Average epoch cost: 0.16899656588\n",
      "Iteration: 24336 Cost: 0.158127\n",
      "Iteration: 24436 Cost: 0.135103\n",
      "Iteration: 24536 Cost: 0.190748\n",
      "Iteration: 24636 Cost: 0.16266\n",
      "Iteration: 24736 Cost: 0.152569\n",
      "Iteration: 24836 Cost: 0.173676\n",
      "Iteration: 24936 Cost: 0.170922\n",
      "Average epoch cost: 0.169050123996\n",
      "Iteration: 24960 Cost: 0.159405\n",
      "Iteration: 25060 Cost: 0.162645\n",
      "Iteration: 25160 Cost: 0.192439\n",
      "Iteration: 25260 Cost: 0.1725\n",
      "Iteration: 25360 Cost: 0.156593\n",
      "Iteration: 25460 Cost: 0.167942\n",
      "Iteration: 25560 Cost: 0.165818\n",
      "Average epoch cost: 0.172301239549\n",
      "Iteration: 25584 Cost: 0.153954\n",
      "Iteration: 25684 Cost: 0.133097\n",
      "Iteration: 25784 Cost: 0.185249\n",
      "Iteration: 25884 Cost: 0.162698\n",
      "Iteration: 25984 Cost: 0.151459\n",
      "Iteration: 26084 Cost: 0.164151\n",
      "Iteration: 26184 Cost: 0.1623\n",
      "Average epoch cost: 0.164427404937\n",
      "Iteration: 26208 Cost: 0.15171\n",
      "Iteration: 26308 Cost: 0.13055\n",
      "Iteration: 26408 Cost: 0.188581\n",
      "Iteration: 26508 Cost: 0.166806\n",
      "Iteration: 26608 Cost: 0.158106\n",
      "Iteration: 26708 Cost: 0.169092\n",
      "Iteration: 26808 Cost: 0.254953\n",
      "Average epoch cost: 0.180200142547\n",
      "Iteration: 26832 Cost: 0.20421\n",
      "Iteration: 26932 Cost: 0.16237\n",
      "Iteration: 27032 Cost: 0.196588\n",
      "Iteration: 27132 Cost: 0.187773\n",
      "Iteration: 27232 Cost: 0.152957\n",
      "Iteration: 27332 Cost: 0.166414\n",
      "Iteration: 27432 Cost: 0.172335\n",
      "Average epoch cost: 0.181206249226\n",
      "Iteration: 27456 Cost: 0.16214\n",
      "Iteration: 27556 Cost: 0.133552\n",
      "Iteration: 27656 Cost: 0.180314\n",
      "Iteration: 27756 Cost: 0.169724\n",
      "Iteration: 27856 Cost: 0.156118\n",
      "Iteration: 27956 Cost: 0.169508\n",
      "Iteration: 28056 Cost: 0.163234\n",
      "Average epoch cost: 0.167347543527\n",
      "Iteration: 28080 Cost: 0.1507\n",
      "Iteration: 28180 Cost: 0.134083\n",
      "Iteration: 28280 Cost: 0.192951\n",
      "Iteration: 28380 Cost: 0.164399\n",
      "Iteration: 28480 Cost: 0.144747\n",
      "Iteration: 28580 Cost: 0.162844\n",
      "Iteration: 28680 Cost: 0.169612\n",
      "Average epoch cost: 0.16603935806\n",
      "Iteration: 28704 Cost: 0.156962\n",
      "Iteration: 28804 Cost: 0.134119\n",
      "Iteration: 28904 Cost: 0.184072\n",
      "Iteration: 29004 Cost: 0.165506\n",
      "Iteration: 29104 Cost: 0.146119\n",
      "Iteration: 29204 Cost: 0.162845\n",
      "Iteration: 29304 Cost: 0.165677\n",
      "Average epoch cost: 0.164650644152\n",
      "Iteration: 29328 Cost: 0.149869\n",
      "Iteration: 29428 Cost: 0.132739\n",
      "Iteration: 29528 Cost: 0.189011\n",
      "Iteration: 29628 Cost: 0.160703\n",
      "Iteration: 29728 Cost: 0.150956\n",
      "Iteration: 29828 Cost: 0.162416\n",
      "Iteration: 29928 Cost: 0.162936\n",
      "Average epoch cost: 0.164016028962\n",
      "Iteration: 29952 Cost: 0.149517\n",
      "Iteration: 30052 Cost: 0.351887\n",
      "Iteration: 30152 Cost: 0.30526\n",
      "Iteration: 30252 Cost: 0.189006\n",
      "Iteration: 30352 Cost: 0.157105\n",
      "Iteration: 30452 Cost: 0.164784\n",
      "Iteration: 30552 Cost: 0.154057\n",
      "Average epoch cost: 0.228326044523\n",
      "Iteration: 30576 Cost: 0.134471\n",
      "Iteration: 30676 Cost: 0.127405\n",
      "Iteration: 30776 Cost: 0.153149\n",
      "Iteration: 30876 Cost: 0.127565\n",
      "Iteration: 30976 Cost: 0.129713\n",
      "Iteration: 31076 Cost: 0.120355\n",
      "Iteration: 31176 Cost: 0.112483\n",
      "Average epoch cost: 0.135115545315\n",
      "Iteration: 31200 Cost: 0.111291\n",
      "Iteration: 31300 Cost: 0.102874\n",
      "Iteration: 31400 Cost: 0.123204\n",
      "Iteration: 31500 Cost: 0.108757\n",
      "Iteration: 31600 Cost: 0.115654\n",
      "Iteration: 31700 Cost: 0.104522\n",
      "Iteration: 31800 Cost: 0.103023\n",
      "Average epoch cost: 0.11410888737\n",
      "Iteration: 31824 Cost: 0.108277\n",
      "Iteration: 31924 Cost: 0.0949505\n",
      "Iteration: 32024 Cost: 0.11667\n",
      "Iteration: 32124 Cost: 0.10768\n",
      "Iteration: 32224 Cost: 0.111633\n",
      "Iteration: 32324 Cost: 0.103455\n",
      "Iteration: 32424 Cost: 0.106931\n",
      "Average epoch cost: 0.108433138484\n",
      "Iteration: 32448 Cost: 0.0981457\n",
      "Iteration: 32548 Cost: 0.0948646\n",
      "Iteration: 32648 Cost: 0.114511\n",
      "Iteration: 32748 Cost: 0.108209\n",
      "Iteration: 32848 Cost: 0.108895\n",
      "Iteration: 32948 Cost: 0.0971025\n",
      "Iteration: 33048 Cost: 0.105169\n",
      "Average epoch cost: 0.107040206914\n",
      "Iteration: 33072 Cost: 0.0966543\n",
      "Iteration: 33172 Cost: 0.0905349\n",
      "Iteration: 33272 Cost: 0.112638\n",
      "Iteration: 33372 Cost: 0.104298\n",
      "Iteration: 33472 Cost: 0.109238\n",
      "Iteration: 33572 Cost: 0.0955788\n",
      "Iteration: 33672 Cost: 0.102327\n",
      "Average epoch cost: 0.103925420855\n",
      "Iteration: 33696 Cost: 0.0968056\n",
      "Iteration: 33796 Cost: 0.0930517\n",
      "Iteration: 33896 Cost: 0.11444\n",
      "Iteration: 33996 Cost: 0.104148\n",
      "Iteration: 34096 Cost: 0.103928\n",
      "Iteration: 34196 Cost: 0.0956273\n",
      "Iteration: 34296 Cost: 0.107416\n",
      "Average epoch cost: 0.104478267368\n",
      "Iteration: 34320 Cost: 0.0998962\n",
      "Iteration: 34420 Cost: 0.095226\n",
      "Iteration: 34520 Cost: 0.111734\n",
      "Iteration: 34620 Cost: 0.101555\n",
      "Iteration: 34720 Cost: 0.102209\n",
      "Iteration: 34820 Cost: 0.0952856\n",
      "Iteration: 34920 Cost: 0.103012\n",
      "Average epoch cost: 0.101810086411\n",
      "Iteration: 34944 Cost: 0.103022\n",
      "Iteration: 35044 Cost: 0.0939612\n",
      "Iteration: 35144 Cost: 0.109876\n",
      "Iteration: 35244 Cost: 0.101362\n",
      "Iteration: 35344 Cost: 0.0974995\n",
      "Iteration: 35444 Cost: 0.100219\n",
      "Iteration: 35544 Cost: 0.099935\n",
      "Average epoch cost: 0.101184615782\n",
      "Iteration: 35568 Cost: 0.0974934\n",
      "Iteration: 35668 Cost: 0.0887754\n",
      "Iteration: 35768 Cost: 0.108937\n",
      "Iteration: 35868 Cost: 0.10167\n",
      "Iteration: 35968 Cost: 0.10679\n",
      "Iteration: 36068 Cost: 0.0924485\n",
      "Iteration: 36168 Cost: 0.0964432\n",
      "Average epoch cost: 0.0992324539007\n",
      "Iteration: 36192 Cost: 0.0934171\n",
      "Iteration: 36292 Cost: 0.0910472\n",
      "Iteration: 36392 Cost: 0.1073\n",
      "Iteration: 36492 Cost: 0.0992781\n",
      "Iteration: 36592 Cost: 0.102685\n",
      "Iteration: 36692 Cost: 0.0936271\n",
      "Iteration: 36792 Cost: 0.0962457\n",
      "Average epoch cost: 0.0987504601765\n",
      "Iteration: 36816 Cost: 0.0932441\n",
      "Iteration: 36916 Cost: 0.088139\n",
      "Iteration: 37016 Cost: 0.112029\n",
      "Iteration: 37116 Cost: 0.102418\n",
      "Iteration: 37216 Cost: 0.0981147\n",
      "Iteration: 37316 Cost: 0.0926649\n",
      "Iteration: 37416 Cost: 0.101287\n",
      "Average epoch cost: 0.0989980411668\n",
      "Iteration: 37440 Cost: 0.0941297\n",
      "Iteration: 37540 Cost: 0.0876454\n",
      "Iteration: 37640 Cost: 0.109458\n",
      "Iteration: 37740 Cost: 0.10173\n",
      "Iteration: 37840 Cost: 0.101711\n",
      "Iteration: 37940 Cost: 0.092058\n",
      "Iteration: 38040 Cost: 0.104269\n",
      "Average epoch cost: 0.0983418500863\n",
      "Iteration: 38064 Cost: 0.0966785\n",
      "Iteration: 38164 Cost: 0.0923287\n",
      "Iteration: 38264 Cost: 0.105217\n",
      "Iteration: 38364 Cost: 0.0991071\n",
      "Iteration: 38464 Cost: 0.0957686\n",
      "Iteration: 38564 Cost: 0.108979\n",
      "Iteration: 38664 Cost: 0.100812\n",
      "Average epoch cost: 0.115642789966\n",
      "Iteration: 38688 Cost: 0.0969472\n",
      "Iteration: 38788 Cost: 0.0894175\n",
      "Iteration: 38888 Cost: 0.107174\n",
      "Iteration: 38988 Cost: 0.0997186\n",
      "Iteration: 39088 Cost: 0.100382\n",
      "Iteration: 39188 Cost: 0.0920737\n",
      "Iteration: 39288 Cost: 0.0945994\n",
      "Average epoch cost: 0.0980529866945\n",
      "Iteration: 39312 Cost: 0.0925025\n",
      "Iteration: 39412 Cost: 0.0869409\n",
      "Iteration: 39512 Cost: 0.106498\n",
      "Iteration: 39612 Cost: 0.0986788\n",
      "Iteration: 39712 Cost: 0.0942222\n",
      "Iteration: 39812 Cost: 0.0897154\n",
      "Iteration: 39912 Cost: 0.0958834\n",
      "Average epoch cost: 0.0956700222376\n",
      "Iteration: 39936 Cost: 0.0909389\n",
      "Iteration: 40036 Cost: 0.0864341\n",
      "Iteration: 40136 Cost: 0.108696\n",
      "Iteration: 40236 Cost: 0.0988567\n",
      "Iteration: 40336 Cost: 0.0974194\n",
      "Iteration: 40436 Cost: 0.0906137\n",
      "Iteration: 40536 Cost: 0.102014\n",
      "Average epoch cost: 0.0961179215318\n",
      "Iteration: 40560 Cost: 0.0930288\n",
      "Iteration: 40660 Cost: 0.0888309\n",
      "Iteration: 40760 Cost: 0.1076\n",
      "Iteration: 40860 Cost: 0.0988845\n",
      "Iteration: 40960 Cost: 0.096224\n",
      "Iteration: 41060 Cost: 0.0896136\n",
      "Iteration: 41160 Cost: 0.101682\n",
      "Average epoch cost: 0.096207887782\n",
      "Iteration: 41184 Cost: 0.0922742\n",
      "Iteration: 41284 Cost: 0.0946791\n",
      "Iteration: 41384 Cost: 0.107995\n",
      "Iteration: 41484 Cost: 0.097996\n",
      "Iteration: 41584 Cost: 0.097094\n",
      "Iteration: 41684 Cost: 0.089481\n",
      "Iteration: 41784 Cost: 0.0944864\n",
      "Average epoch cost: 0.0960521746355\n",
      "Iteration: 41808 Cost: 0.0906051\n",
      "Iteration: 41908 Cost: 0.0863811\n",
      "Iteration: 42008 Cost: 0.104789\n",
      "Iteration: 42108 Cost: 0.0964314\n",
      "Iteration: 42208 Cost: 0.0934853\n",
      "Iteration: 42308 Cost: 0.0879135\n",
      "Iteration: 42408 Cost: 0.0934669\n",
      "Average epoch cost: 0.0937736536233\n",
      "Iteration: 42432 Cost: 0.0930947\n",
      "Iteration: 42532 Cost: 0.0907318\n",
      "Iteration: 42632 Cost: 0.10517\n",
      "Iteration: 42732 Cost: 0.098486\n",
      "Iteration: 42832 Cost: 0.0985375\n",
      "Iteration: 42932 Cost: 0.0888164\n",
      "Iteration: 43032 Cost: 0.0940093\n",
      "Average epoch cost: 0.0948248333178\n",
      "Iteration: 43056 Cost: 0.0893771\n",
      "Iteration: 43156 Cost: 0.0879152\n",
      "Iteration: 43256 Cost: 0.104679\n",
      "Iteration: 43356 Cost: 0.0972361\n",
      "Iteration: 43456 Cost: 0.0963434\n",
      "Iteration: 43556 Cost: 0.0879587\n",
      "Iteration: 43656 Cost: 0.0936947\n",
      "Average epoch cost: 0.0945833581858\n",
      "Iteration: 43680 Cost: 0.0911449\n",
      "Iteration: 43780 Cost: 0.0862559\n",
      "Iteration: 43880 Cost: 0.105459\n",
      "Iteration: 43980 Cost: 0.0971701\n",
      "Iteration: 44080 Cost: 0.101527\n",
      "Iteration: 44180 Cost: 0.0899474\n",
      "Iteration: 44280 Cost: 0.0942031\n",
      "Average epoch cost: 0.095460495231\n",
      "Iteration: 44304 Cost: 0.0882804\n",
      "Iteration: 44404 Cost: 0.0900552\n",
      "Iteration: 44504 Cost: 0.104735\n",
      "Iteration: 44604 Cost: 0.0999629\n",
      "Iteration: 44704 Cost: 0.0941148\n",
      "Iteration: 44804 Cost: 0.0876219\n",
      "Iteration: 44904 Cost: 0.0926339\n",
      "Average epoch cost: 0.094593073134\n",
      "Iteration: 44928 Cost: 0.0880873\n",
      "Iteration: 45028 Cost: 0.0839565\n",
      "Iteration: 45128 Cost: 0.102462\n",
      "Iteration: 45228 Cost: 0.0965762\n"
     ]
    },
    {
     "ename": "KeyboardInterrupt",
     "evalue": "",
     "output_type": "error",
     "traceback": [
      "\u001b[1;31m---------------------------------------------------------------------------\u001b[0m",
      "\u001b[1;31mKeyboardInterrupt\u001b[0m                         Traceback (most recent call last)",
      "\u001b[1;32m<ipython-input-42-694afc0c1f46>\u001b[0m in \u001b[0;36m<module>\u001b[1;34m()\u001b[0m\n\u001b[0;32m     12\u001b[0m         \u001b[1;31m# run the computation:\u001b[0m\u001b[1;33m\u001b[0m\u001b[1;33m\u001b[0m\u001b[0m\n\u001b[0;32m     13\u001b[0m         _, loss = sess.run((optimizer, cost), feed_dict={tf_input_pixels: train_X_minibatch, \n\u001b[1;32m---> 14\u001b[1;33m                                                          tf_integer_labels: train_Y_minibatch})\n\u001b[0m\u001b[0;32m     15\u001b[0m \u001b[1;33m\u001b[0m\u001b[0m\n\u001b[0;32m     16\u001b[0m         \u001b[1;31m# add the cost to the cost list\u001b[0m\u001b[1;33m\u001b[0m\u001b[1;33m\u001b[0m\u001b[0m\n",
      "\u001b[1;32m/home/botman/Programming/Platforms/anaconda2/lib/python2.7/site-packages/tensorflow/python/client/session.pyc\u001b[0m in \u001b[0;36mrun\u001b[1;34m(self, fetches, feed_dict, options, run_metadata)\u001b[0m\n\u001b[0;32m    893\u001b[0m     \u001b[1;32mtry\u001b[0m\u001b[1;33m:\u001b[0m\u001b[1;33m\u001b[0m\u001b[0m\n\u001b[0;32m    894\u001b[0m       result = self._run(None, fetches, feed_dict, options_ptr,\n\u001b[1;32m--> 895\u001b[1;33m                          run_metadata_ptr)\n\u001b[0m\u001b[0;32m    896\u001b[0m       \u001b[1;32mif\u001b[0m \u001b[0mrun_metadata\u001b[0m\u001b[1;33m:\u001b[0m\u001b[1;33m\u001b[0m\u001b[0m\n\u001b[0;32m    897\u001b[0m         \u001b[0mproto_data\u001b[0m \u001b[1;33m=\u001b[0m \u001b[0mtf_session\u001b[0m\u001b[1;33m.\u001b[0m\u001b[0mTF_GetBuffer\u001b[0m\u001b[1;33m(\u001b[0m\u001b[0mrun_metadata_ptr\u001b[0m\u001b[1;33m)\u001b[0m\u001b[1;33m\u001b[0m\u001b[0m\n",
      "\u001b[1;32m/home/botman/Programming/Platforms/anaconda2/lib/python2.7/site-packages/tensorflow/python/client/session.pyc\u001b[0m in \u001b[0;36m_run\u001b[1;34m(self, handle, fetches, feed_dict, options, run_metadata)\u001b[0m\n\u001b[0;32m   1122\u001b[0m     \u001b[1;32mif\u001b[0m \u001b[0mfinal_fetches\u001b[0m \u001b[1;32mor\u001b[0m \u001b[0mfinal_targets\u001b[0m \u001b[1;32mor\u001b[0m \u001b[1;33m(\u001b[0m\u001b[0mhandle\u001b[0m \u001b[1;32mand\u001b[0m \u001b[0mfeed_dict_tensor\u001b[0m\u001b[1;33m)\u001b[0m\u001b[1;33m:\u001b[0m\u001b[1;33m\u001b[0m\u001b[0m\n\u001b[0;32m   1123\u001b[0m       results = self._do_run(handle, final_targets, final_fetches,\n\u001b[1;32m-> 1124\u001b[1;33m                              feed_dict_tensor, options, run_metadata)\n\u001b[0m\u001b[0;32m   1125\u001b[0m     \u001b[1;32melse\u001b[0m\u001b[1;33m:\u001b[0m\u001b[1;33m\u001b[0m\u001b[0m\n\u001b[0;32m   1126\u001b[0m       \u001b[0mresults\u001b[0m \u001b[1;33m=\u001b[0m \u001b[1;33m[\u001b[0m\u001b[1;33m]\u001b[0m\u001b[1;33m\u001b[0m\u001b[0m\n",
      "\u001b[1;32m/home/botman/Programming/Platforms/anaconda2/lib/python2.7/site-packages/tensorflow/python/client/session.pyc\u001b[0m in \u001b[0;36m_do_run\u001b[1;34m(self, handle, target_list, fetch_list, feed_dict, options, run_metadata)\u001b[0m\n\u001b[0;32m   1319\u001b[0m     \u001b[1;32mif\u001b[0m \u001b[0mhandle\u001b[0m \u001b[1;32mis\u001b[0m \u001b[0mNone\u001b[0m\u001b[1;33m:\u001b[0m\u001b[1;33m\u001b[0m\u001b[0m\n\u001b[0;32m   1320\u001b[0m       return self._do_call(_run_fn, self._session, feeds, fetches, targets,\n\u001b[1;32m-> 1321\u001b[1;33m                            options, run_metadata)\n\u001b[0m\u001b[0;32m   1322\u001b[0m     \u001b[1;32melse\u001b[0m\u001b[1;33m:\u001b[0m\u001b[1;33m\u001b[0m\u001b[0m\n\u001b[0;32m   1323\u001b[0m       \u001b[1;32mreturn\u001b[0m \u001b[0mself\u001b[0m\u001b[1;33m.\u001b[0m\u001b[0m_do_call\u001b[0m\u001b[1;33m(\u001b[0m\u001b[0m_prun_fn\u001b[0m\u001b[1;33m,\u001b[0m \u001b[0mself\u001b[0m\u001b[1;33m.\u001b[0m\u001b[0m_session\u001b[0m\u001b[1;33m,\u001b[0m \u001b[0mhandle\u001b[0m\u001b[1;33m,\u001b[0m \u001b[0mfeeds\u001b[0m\u001b[1;33m,\u001b[0m \u001b[0mfetches\u001b[0m\u001b[1;33m)\u001b[0m\u001b[1;33m\u001b[0m\u001b[0m\n",
      "\u001b[1;32m/home/botman/Programming/Platforms/anaconda2/lib/python2.7/site-packages/tensorflow/python/client/session.pyc\u001b[0m in \u001b[0;36m_do_call\u001b[1;34m(self, fn, *args)\u001b[0m\n\u001b[0;32m   1325\u001b[0m   \u001b[1;32mdef\u001b[0m \u001b[0m_do_call\u001b[0m\u001b[1;33m(\u001b[0m\u001b[0mself\u001b[0m\u001b[1;33m,\u001b[0m \u001b[0mfn\u001b[0m\u001b[1;33m,\u001b[0m \u001b[1;33m*\u001b[0m\u001b[0margs\u001b[0m\u001b[1;33m)\u001b[0m\u001b[1;33m:\u001b[0m\u001b[1;33m\u001b[0m\u001b[0m\n\u001b[0;32m   1326\u001b[0m     \u001b[1;32mtry\u001b[0m\u001b[1;33m:\u001b[0m\u001b[1;33m\u001b[0m\u001b[0m\n\u001b[1;32m-> 1327\u001b[1;33m       \u001b[1;32mreturn\u001b[0m \u001b[0mfn\u001b[0m\u001b[1;33m(\u001b[0m\u001b[1;33m*\u001b[0m\u001b[0margs\u001b[0m\u001b[1;33m)\u001b[0m\u001b[1;33m\u001b[0m\u001b[0m\n\u001b[0m\u001b[0;32m   1328\u001b[0m     \u001b[1;32mexcept\u001b[0m \u001b[0merrors\u001b[0m\u001b[1;33m.\u001b[0m\u001b[0mOpError\u001b[0m \u001b[1;32mas\u001b[0m \u001b[0me\u001b[0m\u001b[1;33m:\u001b[0m\u001b[1;33m\u001b[0m\u001b[0m\n\u001b[0;32m   1329\u001b[0m       \u001b[0mmessage\u001b[0m \u001b[1;33m=\u001b[0m \u001b[0mcompat\u001b[0m\u001b[1;33m.\u001b[0m\u001b[0mas_text\u001b[0m\u001b[1;33m(\u001b[0m\u001b[0me\u001b[0m\u001b[1;33m.\u001b[0m\u001b[0mmessage\u001b[0m\u001b[1;33m)\u001b[0m\u001b[1;33m\u001b[0m\u001b[0m\n",
      "\u001b[1;32m/home/botman/Programming/Platforms/anaconda2/lib/python2.7/site-packages/tensorflow/python/client/session.pyc\u001b[0m in \u001b[0;36m_run_fn\u001b[1;34m(session, feed_dict, fetch_list, target_list, options, run_metadata)\u001b[0m\n\u001b[0;32m   1304\u001b[0m           return tf_session.TF_Run(session, options,\n\u001b[0;32m   1305\u001b[0m                                    \u001b[0mfeed_dict\u001b[0m\u001b[1;33m,\u001b[0m \u001b[0mfetch_list\u001b[0m\u001b[1;33m,\u001b[0m \u001b[0mtarget_list\u001b[0m\u001b[1;33m,\u001b[0m\u001b[1;33m\u001b[0m\u001b[0m\n\u001b[1;32m-> 1306\u001b[1;33m                                    status, run_metadata)\n\u001b[0m\u001b[0;32m   1307\u001b[0m \u001b[1;33m\u001b[0m\u001b[0m\n\u001b[0;32m   1308\u001b[0m     \u001b[1;32mdef\u001b[0m \u001b[0m_prun_fn\u001b[0m\u001b[1;33m(\u001b[0m\u001b[0msession\u001b[0m\u001b[1;33m,\u001b[0m \u001b[0mhandle\u001b[0m\u001b[1;33m,\u001b[0m \u001b[0mfeed_dict\u001b[0m\u001b[1;33m,\u001b[0m \u001b[0mfetch_list\u001b[0m\u001b[1;33m)\u001b[0m\u001b[1;33m:\u001b[0m\u001b[1;33m\u001b[0m\u001b[0m\n",
      "\u001b[1;31mKeyboardInterrupt\u001b[0m: "
     ]
    }
   ],
   "source": [
    "# start training the network for num_iterations and using the batch_size\n",
    "global_step = 0\n",
    "for epoch in range(no_of_epochs):\n",
    "    global_index = 0; costs = [] # start with empty list\n",
    "    while(global_index < n_train_examples):\n",
    "        start = global_index; end = start + batch_size\n",
    "        train_X_minibatch = train_X[:, start: end]\n",
    "        train_Y_minibatch = train_Y.astype(np.int32)[start: end]\n",
    "\n",
    "        iteration = global_index / batch_size\n",
    "        \n",
    "        # run the computation:\n",
    "        _, loss = sess.run((optimizer, cost), feed_dict={tf_input_pixels: train_X_minibatch, \n",
    "                                                         tf_integer_labels: train_Y_minibatch})\n",
    "\n",
    "        # add the cost to the cost list\n",
    "        costs.append(loss)\n",
    "\n",
    "        if(iteration % 100 == 0):\n",
    "            sums = sess.run(all_summaries, feed_dict={tf_input_pixels: train_X_minibatch, \n",
    "                                                         tf_integer_labels: train_Y_minibatch})\n",
    "            \n",
    "            print \"Iteration: \" + str(global_step) + \" Cost: \" + str(loss)\n",
    "\n",
    "            tensorboard_writer.add_summary(sums, global_step = global_step)\n",
    "        \n",
    "        # increment the global index \n",
    "        global_index = global_index + batch_size\n",
    "    \n",
    "        global_step += 1\n",
    "        \n",
    "    # print the average epoch cost:\n",
    "    print \"Average epoch cost: \" + str(sum(costs) / len(costs))\n",
    "        "
   ]
  },
  {
   "cell_type": "markdown",
   "metadata": {},
   "source": [
    "# Very Important: Save this trained model"
   ]
  },
  {
   "cell_type": "code",
   "execution_count": 43,
   "metadata": {
    "collapsed": false
   },
   "outputs": [
    {
     "data": {
      "text/plain": [
       "'../../Models/IDEA_1/Model1_v2/Model1_v2'"
      ]
     },
     "execution_count": 43,
     "metadata": {},
     "output_type": "execute_result"
    }
   ],
   "source": [
    "model_file_name = os.path.join(model_path_name, model_path_name.split(\"/\")[-1])\n",
    "model_file_name"
   ]
  },
  {
   "cell_type": "code",
   "execution_count": 44,
   "metadata": {
    "collapsed": true
   },
   "outputs": [],
   "source": [
    "saver = tf.train.Saver()"
   ]
  },
  {
   "cell_type": "code",
   "execution_count": 45,
   "metadata": {
    "collapsed": false
   },
   "outputs": [
    {
     "data": {
      "text/plain": [
       "'../../Models/IDEA_1/Model1_v2/Model1_v2-45267'"
      ]
     },
     "execution_count": 45,
     "metadata": {},
     "output_type": "execute_result"
    }
   ],
   "source": [
    "saver.save(sess, model_file_name, global_step=global_step)"
   ]
  },
  {
   "cell_type": "markdown",
   "metadata": {},
   "source": [
    "# Model13 seems to be the most promising till now. It has (Mean absolute difference) function as the forward and the backward costs\n",
    "-------------------------------------------------------------------------------------------------------------------\n",
    "# Model 15 (currently being used), is same as Model13 but trained for longer"
   ]
  },
  {
   "cell_type": "code",
   "execution_count": null,
   "metadata": {
    "collapsed": true
   },
   "outputs": [],
   "source": [
    "testing_model = \"Model15\""
   ]
  },
  {
   "cell_type": "markdown",
   "metadata": {},
   "source": [
    "# The following cell shows how the network final activations look like upon passing some of the test images that It has never seen before\n",
    "-------------------------------------------------------------------------------------------------------------------\n",
    "# Run the following cell multiple times to see the effect better"
   ]
  },
  {
   "cell_type": "code",
   "execution_count": null,
   "metadata": {
    "collapsed": false
   },
   "outputs": [],
   "source": [
    "saver.restore(sess, tf.train.latest_checkpoint(model_path_name))"
   ]
  },
  {
   "cell_type": "code",
   "execution_count": 47,
   "metadata": {
    "collapsed": false,
    "scrolled": false
   },
   "outputs": [
    {
     "name": "stdout",
     "output_type": "stream",
     "text": [
      "Predicted label: 3\n"
     ]
    },
    {
     "data": {
      "image/png": "[encoded data removed]",
      "text/plain": [
       "<matplotlib.figure.Figure at 0x7ff76a6c0290>"
      ]
     },
     "metadata": {},
     "output_type": "display_data"
    },
    {
     "data": {
      "image/png": "[encoded data removed]",
      "text/plain": [
       "<matplotlib.figure.Figure at 0x7ff76a6c0950>"
      ]
     },
     "metadata": {},
     "output_type": "display_data"
    }
   ],
   "source": [
    "# check by plotting some image\n",
    "random_index = np.random.randint(test_X.shape[-1])\n",
    "random_image = test_X[:, random_index].reshape((28, 28))\n",
    "# use plt to plot the image\n",
    "plt.figure().suptitle(\"Label of the image: \" + str(test_Y[random_index]))\n",
    "plt.imshow(random_image)\n",
    "\n",
    "# generate the predictions for one random image from the test set.\n",
    "predictions = np.squeeze(sess.run(y_in_back, feed_dict={tf_input_pixels: test_X[:, random_index].reshape((-1, 1))}))\n",
    "\n",
    "plt.figure().suptitle(\"Predictions obtained from the network\")\n",
    "plt.plot(range(10), predictions);\n",
    "#print predictions\n",
    "print \"Predicted label: \" + str(np.argmax(predictions))"
   ]
  },
  {
   "cell_type": "markdown",
   "metadata": {},
   "source": [
    "# Calculate the accuracy of the network on the training and the test dataset"
   ]
  },
  {
   "cell_type": "code",
   "execution_count": 48,
   "metadata": {
    "collapsed": false
   },
   "outputs": [
    {
     "data": {
      "text/plain": [
       "(<tf.Tensor 'Placeholder:0' shape=(784, ?) dtype=float32>, (784, 39900))"
      ]
     },
     "execution_count": 48,
     "metadata": {},
     "output_type": "execute_result"
    }
   ],
   "source": [
    "tf_input_pixels, train_X.shape"
   ]
  },
  {
   "cell_type": "code",
   "execution_count": 49,
   "metadata": {
    "collapsed": true
   },
   "outputs": [],
   "source": [
    "preds = sess.run(y_in_back, feed_dict={tf_input_pixels: train_X})"
   ]
  },
  {
   "cell_type": "code",
   "execution_count": 50,
   "metadata": {
    "collapsed": false
   },
   "outputs": [
    {
     "name": "stdout",
     "output_type": "stream",
     "text": [
      "Training accuracy: 99.2506265664\n"
     ]
    }
   ],
   "source": [
    "correct = np.sum(np.argmax(preds, axis=0) == train_Y)\n",
    "accuracy = (float(correct) / train_X.shape[-1]) * 100\n",
    "print \"Training accuracy: \" + str(accuracy)"
   ]
  },
  {
   "cell_type": "markdown",
   "metadata": {},
   "source": [
    "# Calculate the test accuracy:"
   ]
  },
  {
   "cell_type": "code",
   "execution_count": 51,
   "metadata": {
    "collapsed": false
   },
   "outputs": [
    {
     "name": "stdout",
     "output_type": "stream",
     "text": [
      "Testing accuracy:97.7142857143\n"
     ]
    }
   ],
   "source": [
    "test_preds = sess.run(y_in_back, feed_dict={tf_input_pixels: test_X})\n",
    "test_correct = np.sum(np.argmax(test_preds, axis=0) == test_Y)\n",
    "test_accuracy = (float(test_correct) / test_X.shape[-1]) * 100\n",
    "print \"Testing accuracy:\" + str(test_accuracy)"
   ]
  },
  {
   "cell_type": "markdown",
   "metadata": {},
   "source": [
    "# Now comes the best part! Can The network generate digits?\n",
    "-------------------------------------------------------------------------------------------------------------------\n",
    "# Let's generate some digits by tweaking the learned representation"
   ]
  },
  {
   "cell_type": "code",
   "execution_count": 68,
   "metadata": {
    "collapsed": false
   },
   "outputs": [
    {
     "data": {
      "text/plain": [
       "<matplotlib.image.AxesImage at 0x7ff75118ab50>"
      ]
     },
     "execution_count": 68,
     "metadata": {},
     "output_type": "execute_result"
    },
    {
     "data": {
      "image/png": "[encoded data removed]",
      "text/plain": [
       "<matplotlib.figure.Figure at 0x7ff75127d410>"
      ]
     },
     "metadata": {},
     "output_type": "display_data"
    }
   ],
   "source": [
    "generator_array = np.array([0, 0, 0, 0, 0, 0, 0, 0, 20, 0]).reshape(-1, 1).astype(np.float32)\n",
    "generator_array.dtype\n",
    "generated_image = sess.run(generated_digits, feed_dict={in_back_vector: generator_array}).reshape((28, 28))\n",
    "plt.imshow(generated_image)"
   ]
  },
  {
   "cell_type": "markdown",
   "metadata": {},
   "source": [
    "# Hell Yeah! That's a victory! We can indeed generate digits using this neural network"
   ]
  }
 ],
 "metadata": {
  "kernelspec": {
   "display_name": "Python [Root]",
   "language": "python",
   "name": "Python [Root]"
  },
  "language_info": {
   "codemirror_mode": {
    "name": "ipython",
    "version": 2
   },
   "file_extension": ".py",
   "mimetype": "text/x-python",
   "name": "python",
   "nbconvert_exporter": "python",
   "pygments_lexer": "ipython2",
   "version": "2.7.12"
  }
 },
 "nbformat": 4,
 "nbformat_minor": 2
}
