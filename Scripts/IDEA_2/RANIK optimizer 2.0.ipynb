{
 "cells": [
  {
   "cell_type": "markdown",
   "metadata": {},
   "source": [
    "# In this version of the notebook, I will experiment with the rules of the theory of relativity from physics for the mathematical optimization.\n",
    "\n",
    "-------------------------------------------------------------------------------------------------------------------\n",
    "\n",
    "### Since, as evident from the earlier notebook, the rules of Newtonian physics don't work here, I am hopeful that Einstein will help :)."
   ]
  },
  {
   "cell_type": "markdown",
   "metadata": {},
   "source": [
    "import all the required stuff for this version"
   ]
  },
  {
   "cell_type": "code",
   "execution_count": 51,
   "metadata": {
    "collapsed": true
   },
   "outputs": [],
   "source": [
    "# for print function stability\n",
    "from __future__ import print_function\n",
    "\n",
    "# for numerical computations\n",
    "import numpy as np \n",
    "\n",
    "# for gradient calculation:\n",
    "import tensorflow as tf\n",
    "\n",
    "# for plotting diagrams:\n",
    "import matplotlib.pyplot as plt\n",
    "\n",
    "# make the diagram inline in matplotlib\n",
    "%matplotlib inline"
   ]
  },
  {
   "cell_type": "code",
   "execution_count": 4,
   "metadata": {
    "collapsed": true
   },
   "outputs": [],
   "source": [
    "# define the placeholder:\n",
    "x = tf.placeholder(tf.float32, shape=None)"
   ]
  },
  {
   "cell_type": "code",
   "execution_count": 5,
   "metadata": {
    "collapsed": true
   },
   "outputs": [],
   "source": [
    "# define the function for optimization\n",
    "y = tf.square(x) # we use the square function"
   ]
  },
  {
   "cell_type": "code",
   "execution_count": 12,
   "metadata": {},
   "outputs": [],
   "source": [
    "# plot the function:\n",
    "with tf.Session() as sess:\n",
    "    y_vals = [] # initialize to empty list\n",
    "    for x_val in range(-100, 100):\n",
    "        y_vals.append(sess.run(y, feed_dict={x: x_val}))\n",
    "    # y_vals contains the y_values for the domain [-100, 100]"
   ]
  },
  {
   "cell_type": "code",
   "execution_count": 20,
   "metadata": {},
   "outputs": [
    {
     "data": {
      "image/png": "[encoded data removed]",
      "text/plain": [
       "<matplotlib.figure.Figure at 0x7f2546545910>"
      ]
     },
     "metadata": {},
     "output_type": "display_data"
    }
   ],
   "source": [
    "plt.figure().suptitle(\"The optimization objective function: \")\n",
    "plt.plot(range(-100, 100), y_vals);"
   ]
  },
  {
   "cell_type": "code",
   "execution_count": 42,
   "metadata": {
    "collapsed": true
   },
   "outputs": [],
   "source": [
    "# define the overall structure function:\n",
    "def simulate(y_value, x_value, start_position, optim_fn, no_of_iterations = 100):\n",
    "    '''\n",
    "        This is the structural function over the total algorithm which can swap the opim_fn to create different \n",
    "        behaviour.\n",
    "        \n",
    "        @params\n",
    "        y_value = The optimization objective function's current value\n",
    "        x_value = The current parameter value\n",
    "        optim_fn = The function used for optimization\n",
    "        \n",
    "            @optim_fn:\n",
    "                params:\n",
    "                y_value = evaluated value of the simulate function's y_value\n",
    "                x_value = evaluated value of the simulate function's x_value\n",
    "                dy_dx = the gradient of the y wrt. x\n",
    "                \n",
    "                returns: The updated position\n",
    "                \n",
    "        @return\n",
    "        final values of x_value and y_value and all the collected x_values.\n",
    "    '''\n",
    "    # start the TensorFlow session\n",
    "    sess = tf.Session()\n",
    "    \n",
    "    # set the position to start position:\n",
    "    position = start_position\n",
    "    \n",
    "    # run the simulation loop\n",
    "    positions = [position] # initialize the positions list\n",
    "    for _ in range(no_of_iterations):\n",
    "        # evaluate the y_value and the dy_dx for current x_value\n",
    "        cost, gradient = sess.run([y_value, tf.squeeze(tf.gradients(y_value, x_value))], \n",
    "                                                                  feed_dict={x_value: position})\n",
    "        \n",
    "        # update the position using the optimization function:\n",
    "        position = optim_fn(cost, position, gradient)\n",
    "        \n",
    "        positions.append(position)\n",
    "    \n",
    "    # close the session\n",
    "    sess.close()\n",
    "    \n",
    "    # return the last position, cost and positions:\n",
    "    return position, cost, positions"
   ]
  },
  {
   "cell_type": "code",
   "execution_count": 43,
   "metadata": {
    "collapsed": true
   },
   "outputs": [],
   "source": [
    "# define the relative optimization function:\n",
    "def relative_optmization(y_, x_, dy_dx_, epsilon = 3e-8):\n",
    "    # calculate the updated x_ value and return it\n",
    "    updated_x_ = x_ - (y_ / (dy_dx_ + epsilon))\n",
    "    \n",
    "    # return this value:\n",
    "    return updated_x_"
   ]
  },
  {
   "cell_type": "code",
   "execution_count": 53,
   "metadata": {},
   "outputs": [
    {
     "name": "stdout",
     "output_type": "stream",
     "text": [
      "Optimised_position:  2.4134132049e-09\n",
      "Final_cost:  6.79293e-18\n"
     ]
    },
    {
     "data": {
      "image/png": "[encoded data removed]",
      "text/plain": [
       "<matplotlib.figure.Figure at 0x7f252707ce10>"
      ]
     },
     "metadata": {},
     "output_type": "display_data"
    }
   ],
   "source": [
    "# run the simulation 100 times from start position 10:\n",
    "last_pos, last_cost, x_vals = simulate(y, x, 1000, relative_optmization, no_of_iterations=50)\n",
    "\n",
    "plt.figure().suptitle(\"Simulation plot\")\n",
    "plt.plot(x_vals);\n",
    "\n",
    "# print the final values:\n",
    "print(\"Optimised_position: \", last_pos)\n",
    "print(\"Final_cost: \", last_cost)"
   ]
  },
  {
   "cell_type": "markdown",
   "metadata": {},
   "source": [
    "# Well, The results of this optimization technique are very good on the Synthetic functions. Let's find out in subsequent Techinques how this fares on some of the typical DL datasets. "
   ]
  }
 ],
 "metadata": {
  "kernelspec": {
   "display_name": "Python 2",
   "language": "python",
   "name": "python2"
  },
  "language_info": {
   "codemirror_mode": {
    "name": "ipython",
    "version": 2
   },
   "file_extension": ".py",
   "mimetype": "text/x-python",
   "name": "python",
   "nbconvert_exporter": "python",
   "pygments_lexer": "ipython2",
   "version": "2.7.13"
  }
 },
 "nbformat": 4,
 "nbformat_minor": 2
}
