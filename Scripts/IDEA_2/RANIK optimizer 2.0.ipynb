{
 "cells": [
  {
   "cell_type": "markdown",
   "metadata": {},
   "source": [
    "# In this version of the notebook, I will experiment with the rules of the theory of relativity from physics for the mathematical optimization.\n",
    "\n",
    "-------------------------------------------------------------------------------------------------------------------\n",
    "\n",
    "### Since, as evident from the earlier notebook, the rules of Newtonian physics don't work here, I am hopeful that Einstein will help :)."
   ]
  },
  {
   "cell_type": "markdown",
   "metadata": {},
   "source": [
    "import all the required stuff for this version"
   ]
  },
  {
   "cell_type": "code",
   "execution_count": 1,
   "metadata": {
    "collapsed": true
   },
   "outputs": [],
   "source": [
    "# for print function stability\n",
    "from __future__ import print_function\n",
    "\n",
    "# for numerical computations\n",
    "import numpy as np \n",
    "\n",
    "# for gradient calculation:\n",
    "import tensorflow as tf\n",
    "\n",
    "# for plotting diagrams:\n",
    "import matplotlib.pyplot as plt\n",
    "\n",
    "# make the diagram inline in matplotlib\n",
    "%matplotlib inline"
   ]
  },
  {
   "cell_type": "code",
   "execution_count": 2,
   "metadata": {
    "collapsed": true
   },
   "outputs": [],
   "source": [
    "# define the placeholder:\n",
    "x = tf.placeholder(tf.float32, shape=None)"
   ]
  },
  {
   "cell_type": "code",
   "execution_count": 3,
   "metadata": {
    "collapsed": true
   },
   "outputs": [],
   "source": [
    "# define the function for optimization\n",
    "y = tf.square(x) # we use the square function"
   ]
  },
  {
   "cell_type": "code",
   "execution_count": 4,
   "metadata": {
    "collapsed": true
   },
   "outputs": [],
   "source": [
    "# plot the function:\n",
    "with tf.Session() as sess:\n",
    "    y_vals = [] # initialize to empty list\n",
    "    for x_val in range(-100, 100):\n",
    "        y_vals.append(sess.run(y, feed_dict={x: x_val}))\n",
    "    # y_vals contains the y_values for the domain [-100, 100]"
   ]
  },
  {
   "cell_type": "code",
   "execution_count": 5,
   "metadata": {
    "collapsed": false
   },
   "outputs": [
    {
     "data": {
      "image/png": "[encoded data removed]",
      "text/plain": [
       "<matplotlib.figure.Figure at 0x7f3b7e811490>"
      ]
     },
     "metadata": {},
     "output_type": "display_data"
    }
   ],
   "source": [
    "plt.figure().suptitle(\"The optimization objective function: \")\n",
    "plt.plot(range(-100, 100), y_vals);"
   ]
  },
  {
   "cell_type": "code",
   "execution_count": 6,
   "metadata": {
    "collapsed": true
   },
   "outputs": [],
   "source": [
    "# define the overall structure function:\n",
    "def simulate(y_value, x_value, start_position, optim_fn, no_of_iterations = 100, feed_back = False):\n",
    "    '''\n",
    "        This is the structural function over the total algorithm which can swap the opim_fn to create different \n",
    "        behaviour.\n",
    "        \n",
    "        @params\n",
    "        y_value = The optimization objective function's current value\n",
    "        x_value = The current parameter value\n",
    "        optim_fn = The function used for optimization\n",
    "        no_of_iterations = The no_of_iterations for which this simulation is to be run\n",
    "        feed_back = print the values while inside the running loop\n",
    "        \n",
    "            @optim_fn:\n",
    "                params:\n",
    "                y_value = evaluated value of the simulate function's y_value\n",
    "                x_value = evaluated value of the simulate function's x_value\n",
    "                dy_dx = the gradient of the y wrt. x\n",
    "                \n",
    "                returns: The updated position\n",
    "                \n",
    "        @return\n",
    "        final values of x_value and y_value and all the collected x_values.\n",
    "    '''\n",
    "    # start the TensorFlow session\n",
    "    sess = tf.Session()\n",
    "    \n",
    "    # set the position to start position:\n",
    "    position = start_position\n",
    "    \n",
    "    # run the simulation loop\n",
    "    positions = [position] # initialize the positions list\n",
    "    costs = [] # initialize the costs collecting list to empty list\n",
    "    for _ in range(no_of_iterations):\n",
    "        # evaluate the y_value and the dy_dx for current x_value\n",
    "        cost, gradient = sess.run([y_value, tf.squeeze(tf.gradients(y_value, x_value))], \n",
    "                                                                  feed_dict={x_value: position})\n",
    "        \n",
    "        # print the values of cost and position:\n",
    "        if(feed_back):\n",
    "            print(\"\\nCurrent position: \", position)\n",
    "            print(\"Current cost:\", cost)\n",
    "        \n",
    "        # update the position using the optimization function:\n",
    "        position = optim_fn(cost, position, gradient)\n",
    "        \n",
    "        positions.append(position)\n",
    "        costs.append(cost) # append the previous cost\n",
    "    \n",
    "    # close the session\n",
    "    sess.close()\n",
    "    \n",
    "    # return the last position, cost and positions:\n",
    "    return position, cost, positions, costs"
   ]
  },
  {
   "cell_type": "code",
   "execution_count": 7,
   "metadata": {
    "collapsed": true
   },
   "outputs": [],
   "source": [
    "# define the relative optimization function:\n",
    "def relative_optmization(y_, x_, dy_dx_, epsilon = 3e-8):\n",
    "    # calculate the updated x_ value and return it\n",
    "    updated_x_ = x_ - (y_ / (dy_dx_ + epsilon))\n",
    "    \n",
    "    # return this value:\n",
    "    return updated_x_"
   ]
  },
  {
   "cell_type": "code",
   "execution_count": 8,
   "metadata": {
    "collapsed": false
   },
   "outputs": [
    {
     "name": "stdout",
     "output_type": "stream",
     "text": [
      "Optimised_position:  2.4134132049e-09\n",
      "Final_cost:  6.79293e-18\n"
     ]
    },
    {
     "data": {
      "image/png": "[encoded data removed]",
      "text/plain": [
       "<matplotlib.figure.Figure at 0x7f3b767c3790>"
      ]
     },
     "metadata": {},
     "output_type": "display_data"
    },
    {
     "data": {
      "image/png": "[encoded data removed]",
      "text/plain": [
       "<matplotlib.figure.Figure at 0x7f3b74caef10>"
      ]
     },
     "metadata": {},
     "output_type": "display_data"
    }
   ],
   "source": [
    "# run the simulation 100 times from start position 10:\n",
    "last_pos, last_cost, x_vals, y_vals = simulate(y, x, 1000, relative_optmization, no_of_iterations=50)\n",
    "\n",
    "plt.figure().suptitle(\"Simulation: Positions Plot\")\n",
    "plt.plot(x_vals);\n",
    "\n",
    "plt.figure().suptitle(\"Simulation: Cost Plot\")\n",
    "plt.plot(y_vals);\n",
    "\n",
    "# print the final values:\n",
    "print(\"Optimised_position: \", last_pos)\n",
    "print(\"Final_cost: \", last_cost)"
   ]
  },
  {
   "cell_type": "markdown",
   "metadata": {},
   "source": [
    "### Testing the optimizer on a displaced version of the y=x^2 version"
   ]
  },
  {
   "cell_type": "code",
   "execution_count": 9,
   "metadata": {
    "collapsed": true
   },
   "outputs": [],
   "source": [
    "# change the function of y wrt x\n",
    "y = tf.square(x - 100) # Now, this time, the minima is at x = 100"
   ]
  },
  {
   "cell_type": "code",
   "execution_count": 10,
   "metadata": {
    "collapsed": true
   },
   "outputs": [],
   "source": [
    "# plot the function:\n",
    "with tf.Session() as sess:\n",
    "    y_vals = [] # initialize to empty list\n",
    "    for x_val in range(50, 150):\n",
    "        y_vals.append(sess.run(y, feed_dict={x: x_val}))\n",
    "    # y_vals contains the y_values for the domain [50, 150]"
   ]
  },
  {
   "cell_type": "code",
   "execution_count": 11,
   "metadata": {
    "collapsed": false
   },
   "outputs": [
    {
     "data": {
      "image/png": "[encoded data removed]",
      "text/plain": [
       "<matplotlib.figure.Figure at 0x7f3b7e811290>"
      ]
     },
     "metadata": {},
     "output_type": "display_data"
    }
   ],
   "source": [
    "plt.figure().suptitle(\"The optimization objective function: \")\n",
    "plt.plot(range(50, 150), y_vals);"
   ]
  },
  {
   "cell_type": "code",
   "execution_count": 12,
   "metadata": {
    "collapsed": false,
    "scrolled": false
   },
   "outputs": [
    {
     "name": "stdout",
     "output_type": "stream",
     "text": [
      "Optimised_position:  100.00000021\n",
      "Final_cost:  0.0\n"
     ]
    },
    {
     "data": {
      "image/png": "[encoded data removed]",
      "text/plain": [
       "<matplotlib.figure.Figure at 0x7f3b74a5a850>"
      ]
     },
     "metadata": {},
     "output_type": "display_data"
    },
    {
     "data": {
      "image/png": "[encoded data removed]",
      "text/plain": [
       "<matplotlib.figure.Figure at 0x7f3b74ae3490>"
      ]
     },
     "metadata": {},
     "output_type": "display_data"
    }
   ],
   "source": [
    "# Now run the simulation on this curve:\n",
    "# run the simulation 100 times from start position 1000:\n",
    "last_pos, last_cost, x_vals, y_vals = simulate(y, x, 1000, \n",
    "                                               relative_optmization, no_of_iterations=50)\n",
    "\n",
    "plt.figure().suptitle(\"Simulation: Positions Plot\")\n",
    "plt.plot(x_vals);\n",
    "\n",
    "plt.figure().suptitle(\"Simulation: Cost Plot\")\n",
    "plt.plot(y_vals);\n",
    "\n",
    "# print the final values:\n",
    "print(\"Optimised_position: \", last_pos)\n",
    "print(\"Final_cost: \", last_cost)"
   ]
  },
  {
   "cell_type": "code",
   "execution_count": 13,
   "metadata": {
    "collapsed": false
   },
   "outputs": [
    {
     "name": "stdout",
     "output_type": "stream",
     "text": [
      "Optimised_position:  99.9999964028\n",
      "Final_cost:  0.0\n"
     ]
    },
    {
     "data": {
      "image/png": "[encoded data removed]",
      "text/plain": [
       "<matplotlib.figure.Figure at 0x7f3b767151d0>"
      ]
     },
     "metadata": {},
     "output_type": "display_data"
    },
    {
     "data": {
      "image/png": "[encoded data removed]",
      "text/plain": [
       "<matplotlib.figure.Figure at 0x7f3b74165690>"
      ]
     },
     "metadata": {},
     "output_type": "display_data"
    }
   ],
   "source": [
    "# Now run the simulation on this curve:\n",
    "# run the simulation 100 times from start position -1000:\n",
    "last_pos, last_cost, x_vals, y_vals = simulate(y, x, -1000, \n",
    "                                               relative_optmization, no_of_iterations=50)\n",
    "\n",
    "plt.figure().suptitle(\"Simulation: Positions Plot\")\n",
    "plt.plot(x_vals);\n",
    "\n",
    "plt.figure().suptitle(\"Simulation: Cost Plot\")\n",
    "plt.plot(y_vals);\n",
    "\n",
    "# print the final values:\n",
    "print(\"Optimised_position: \", last_pos)\n",
    "print(\"Final_cost: \", last_cost)"
   ]
  },
  {
   "cell_type": "markdown",
   "metadata": {},
   "source": [
    "### Now is the time to test this optimization equation on the most difficult curves:\n",
    "## THE undeviated; THE unshaken =>  e^x"
   ]
  },
  {
   "cell_type": "code",
   "execution_count": 14,
   "metadata": {
    "collapsed": true
   },
   "outputs": [],
   "source": [
    "y = tf.exp(x)"
   ]
  },
  {
   "cell_type": "code",
   "execution_count": 15,
   "metadata": {
    "collapsed": true
   },
   "outputs": [],
   "source": [
    "# plot the function:\n",
    "with tf.Session() as sess:\n",
    "    y_vals = [] # initialize to empty list\n",
    "    for x_val in range(-100, 100):\n",
    "        y_vals.append(sess.run(y, feed_dict={x: x_val}))\n",
    "    # y_vals contains the y_values for the domain [-100, 100]"
   ]
  },
  {
   "cell_type": "code",
   "execution_count": 16,
   "metadata": {
    "collapsed": false
   },
   "outputs": [
    {
     "data": {
      "image/png": "[encoded data removed]",
      "text/plain": [
       "<matplotlib.figure.Figure at 0x7f3b74aef250>"
      ]
     },
     "metadata": {},
     "output_type": "display_data"
    }
   ],
   "source": [
    "plt.figure().suptitle(\"The optimization objective function: \")\n",
    "plt.plot(range(-100, 100), y_vals);"
   ]
  },
  {
   "cell_type": "markdown",
   "metadata": {},
   "source": [
    "# The Moment of truth: "
   ]
  },
  {
   "cell_type": "code",
   "execution_count": 17,
   "metadata": {
    "collapsed": false
   },
   "outputs": [
    {
     "name": "stdout",
     "output_type": "stream",
     "text": [
      "Optimised_position:  -22.458791295\n",
      "Final_cost:  1.77347e-10\n"
     ]
    },
    {
     "data": {
      "image/png": "[encoded data removed]",
      "text/plain": [
       "<matplotlib.figure.Figure at 0x7f3b6dfbe350>"
      ]
     },
     "metadata": {},
     "output_type": "display_data"
    },
    {
     "data": {
      "image/png": "[encoded data removed]",
      "text/plain": [
       "<matplotlib.figure.Figure at 0x7f3b6dfce410>"
      ]
     },
     "metadata": {},
     "output_type": "display_data"
    }
   ],
   "source": [
    "# Now run the simulation on this curve:\n",
    "# run the simulation 100 times from start position 10:\n",
    "last_pos, last_cost, x_vals, y_vals = simulate(y, x, 10, \n",
    "                                               relative_optmization, no_of_iterations=200)\n",
    "\n",
    "plt.figure().suptitle(\"Simulation: Positions Plot\")\n",
    "plt.plot(x_vals);\n",
    "\n",
    "plt.figure().suptitle(\"Simulation: Cost Plot\")\n",
    "plt.plot(y_vals);\n",
    "\n",
    "# print the final values:\n",
    "print(\"Optimised_position: \", last_pos)\n",
    "print(\"Final_cost: \", last_cost)"
   ]
  },
  {
   "cell_type": "markdown",
   "metadata": {},
   "source": [
    "## Equation 2: modified from newton-raphson method"
   ]
  },
  {
   "cell_type": "code",
   "execution_count": 32,
   "metadata": {
    "collapsed": true
   },
   "outputs": [],
   "source": [
    "# define the new optimization update function:\n",
    "def modified_newton_raphson(y_, x_, dy_dx_):\n",
    "    # calculate the updated x_ value and return it\n",
    "    updated_x_ = x_ - ((y_ * dy_dx_) / (y_ + np.square(dy_dx_))) # this equation\n",
    "    # looks extremely similar to the adam update. But there are a few differences\n",
    "    \n",
    "    # return this value:\n",
    "    return updated_x_"
   ]
  },
  {
   "cell_type": "code",
   "execution_count": 33,
   "metadata": {
    "collapsed": true
   },
   "outputs": [],
   "source": [
    "# define the function for optimization\n",
    "y = tf.square(x) # we use the square function"
   ]
  },
  {
   "cell_type": "code",
   "execution_count": 34,
   "metadata": {
    "collapsed": false
   },
   "outputs": [
    {
     "data": {
      "image/png": "[encoded data removed]",
      "text/plain": [
       "<matplotlib.figure.Figure at 0x7f3b6c80d210>"
      ]
     },
     "metadata": {},
     "output_type": "display_data"
    }
   ],
   "source": [
    "# plot the function:\n",
    "with tf.Session() as sess:\n",
    "    y_vals = [] # initialize to empty list\n",
    "    for x_val in range(-100, 100):\n",
    "        y_vals.append(sess.run(y, feed_dict={x: x_val}))\n",
    "    # y_vals contains the y_values for the domain [-100, 100]\n",
    "    \n",
    "plt.figure().suptitle(\"The optimization objective function: \")\n",
    "plt.plot(range(-100, 100), y_vals);"
   ]
  },
  {
   "cell_type": "code",
   "execution_count": 35,
   "metadata": {
    "collapsed": false,
    "scrolled": true
   },
   "outputs": [
    {
     "name": "stdout",
     "output_type": "stream",
     "text": [
      "\n",
      "Current position:  -1000\n",
      "Current cost: 1e+06\n",
      "\n",
      "Current position:  -600.0\n",
      "Current cost: 360000.0\n",
      "\n",
      "Current position:  -360.0\n",
      "Current cost: 129600.0\n",
      "\n",
      "Current position:  -216.0\n",
      "Current cost: 46656.0\n",
      "\n",
      "Current position:  -129.599998474\n",
      "Current cost: 16796.2\n",
      "\n",
      "Current position:  -77.7599945068\n",
      "Current cost: 6046.62\n",
      "\n",
      "Current position:  -46.65599823\n",
      "Current cost: 2176.78\n",
      "\n",
      "Current position:  -27.993598938\n",
      "Current cost: 783.642\n",
      "\n",
      "Current position:  -16.7961587906\n",
      "Current cost: 282.111\n",
      "\n",
      "Current position:  -10.0776953697\n",
      "Current cost: 101.56\n",
      "\n",
      "Current position:  -6.0466170311\n",
      "Current cost: 36.5616\n",
      "\n",
      "Current position:  -3.62797021866\n",
      "Current cost: 13.1622\n",
      "\n",
      "Current position:  -2.1767821312\n",
      "Current cost: 4.73838\n",
      "\n",
      "Current position:  -1.30606931448\n",
      "Current cost: 1.70582\n",
      "\n",
      "Current position:  -0.783641576767\n",
      "Current cost: 0.614094\n",
      "\n",
      "Current position:  -0.470184952021\n",
      "Current cost: 0.221074\n",
      "\n",
      "Current position:  -0.282110959291\n",
      "Current cost: 0.0795866\n",
      "\n",
      "Current position:  -0.169266581535\n",
      "Current cost: 0.0286512\n",
      "\n",
      "Current position:  -0.101559944451\n",
      "Current cost: 0.0103144\n",
      "\n",
      "Current position:  -0.0609359666705\n",
      "Current cost: 0.00371319\n",
      "\n",
      "Current position:  -0.0365615803748\n",
      "Current cost: 0.00133675\n",
      "\n",
      "Current position:  -0.0219369493425\n",
      "Current cost: 0.00048123\n",
      "\n",
      "Current position:  -0.0131621696055\n",
      "Current cost: 0.000173243\n",
      "\n",
      "Current position:  -0.00789730157703\n",
      "Current cost: 6.23674e-05\n",
      "\n",
      "Current position:  -0.00473838089965\n",
      "Current cost: 2.24523e-05\n",
      "\n",
      "Current position:  -0.00284302828368\n",
      "Current cost: 8.08281e-06\n",
      "\n",
      "Current position:  -0.00170581694692\n",
      "Current cost: 2.90981e-06\n",
      "\n",
      "Current position:  -0.00102349021472\n",
      "Current cost: 1.04753e-06\n",
      "\n",
      "Current position:  -0.00061409411137\n",
      "Current cost: 3.77112e-07\n",
      "\n",
      "Current position:  -0.000368456472643\n",
      "Current cost: 1.3576e-07\n",
      "\n",
      "Current position:  -0.000221073874854\n",
      "Current cost: 4.88737e-08\n",
      "\n",
      "Current position:  -0.000132644330733\n",
      "Current cost: 1.75945e-08\n",
      "\n",
      "Current position:  -7.95865962573e-05\n",
      "Current cost: 6.33403e-09\n",
      "\n",
      "Current position:  -4.77519606648e-05\n",
      "Current cost: 2.28025e-09\n",
      "\n",
      "Current position:  -2.86511767627e-05\n",
      "Current cost: 8.2089e-10\n",
      "\n",
      "Current position:  -1.71907058757e-05\n",
      "Current cost: 2.9552e-10\n",
      "\n",
      "Current position:  -1.03144234345e-05\n",
      "Current cost: 1.06387e-10\n",
      "\n",
      "Current position:  -6.18865396973e-06\n",
      "Current cost: 3.82994e-11\n",
      "\n",
      "Current position:  -3.71319242731e-06\n",
      "Current cost: 1.37878e-11\n",
      "\n",
      "Current position:  -2.22791550186e-06\n",
      "Current cost: 4.96361e-12\n",
      "\n",
      "Current position:  -1.33674933522e-06\n",
      "Current cost: 1.7869e-12\n",
      "\n",
      "Current position:  -8.02049612503e-07\n",
      "Current cost: 6.43284e-13\n",
      "\n",
      "Current position:  -4.81229761817e-07\n",
      "Current cost: 2.31582e-13\n",
      "\n",
      "Current position:  -2.88737851406e-07\n",
      "Current cost: 8.33695e-14\n",
      "\n",
      "Current position:  -1.73242717949e-07\n",
      "Current cost: 3.0013e-14\n",
      "\n",
      "Current position:  -1.03945630769e-07\n",
      "Current cost: 1.08047e-14\n",
      "\n",
      "Current position:  -6.23673770406e-08\n",
      "Current cost: 3.88969e-15\n",
      "\n",
      "Current position:  -3.74204258691e-08\n",
      "Current cost: 1.40029e-15\n",
      "\n",
      "Current position:  -2.24522551662e-08\n",
      "Current cost: 5.04104e-16\n",
      "\n",
      "Current position:  -1.34713538102e-08\n",
      "Current cost: 1.81477e-16\n",
      "\n",
      "Current position:  -8.08281219733e-09\n",
      "Current cost: 6.53319e-17\n",
      "\n",
      "Current position:  -4.84968709635e-09\n",
      "Current cost: 2.35195e-17\n",
      "\n",
      "Current position:  -2.90981239104e-09\n",
      "Current cost: 8.46701e-18\n",
      "\n",
      "Current position:  -1.74588743462e-09\n",
      "Current cost: 3.04812e-18\n",
      "\n",
      "Current position:  -1.04753244967e-09\n",
      "Current cost: 1.09732e-18\n",
      "\n",
      "Current position:  -6.28519458701e-10\n",
      "Current cost: 3.95037e-19\n",
      "\n",
      "Current position:  -3.7711167522e-10\n",
      "Current cost: 1.42213e-19\n",
      "\n",
      "Current position:  -2.2626701901e-10\n",
      "Current cost: 5.11968e-20\n",
      "\n",
      "Current position:  -1.3576020863e-10\n",
      "Current cost: 1.84308e-20\n",
      "\n",
      "Current position:  -8.14561265661e-11\n",
      "Current cost: 6.6351e-21\n",
      "\n",
      "Current position:  -4.88736759396e-11\n",
      "Current cost: 2.38864e-21\n",
      "\n",
      "Current position:  -2.9324204523e-11\n",
      "Current cost: 8.59909e-22\n",
      "\n",
      "Current position:  -1.75945221934e-11\n",
      "Current cost: 3.09567e-22\n",
      "\n",
      "Current position:  -1.05567134895e-11\n",
      "Current cost: 1.11444e-22\n",
      "\n",
      "Current position:  -6.3340283539e-12\n",
      "Current cost: 4.01199e-23\n",
      "\n",
      "Current position:  -3.80041701234e-12\n",
      "Current cost: 1.44432e-23\n",
      "\n",
      "Current position:  -2.28025031582e-12\n",
      "Current cost: 5.19954e-24\n",
      "\n",
      "Current position:  -1.36815027623e-12\n",
      "Current cost: 1.87184e-24\n",
      "\n",
      "Current position:  -8.2089012237e-13\n",
      "Current cost: 6.73861e-25\n",
      "\n",
      "Current position:  -4.92534073422e-13\n",
      "Current cost: 2.4259e-25\n",
      "\n",
      "Current position:  -2.95520444053e-13\n",
      "Current cost: 8.73323e-26\n",
      "\n",
      "Current position:  -1.77312266432e-13\n",
      "Current cost: 3.14396e-26\n",
      "\n",
      "Current position:  -1.06387358504e-13\n",
      "Current cost: 1.13183e-26\n",
      "\n",
      "Current position:  -6.38324096813e-14\n",
      "Current cost: 4.07458e-27\n",
      "\n",
      "Current position:  -3.82994383549e-14\n",
      "Current cost: 1.46685e-27\n",
      "\n",
      "Current position:  -2.29796514933e-14\n",
      "Current cost: 5.28064e-28\n",
      "\n",
      "Current position:  -1.37879353998e-14\n",
      "Current cost: 1.90107e-28\n",
      "\n",
      "Current position:  -8.27288016331e-15\n",
      "Current cost: 6.84405e-29\n",
      "\n",
      "Current position:  -4.96417126562e-15\n",
      "Current cost: 2.4643e-29\n",
      "\n",
      "Current position:  -2.97393246605e-15\n",
      "Current cost: 8.84427e-30\n",
      "\n",
      "Current position:  -1.76977846389e-15\n",
      "Current cost: 3.13212e-30\n",
      "\n",
      "Current position:  -1.05394366745e-15\n",
      "Current cost: 1.1108e-30\n",
      "\n",
      "Current position:  -5.49333635882e-16\n",
      "Current cost: 3.01767e-31\n",
      "\n",
      "Current position:  -5.49333635882e-16\n",
      "Current cost: 3.01767e-31\n",
      "\n",
      "Current position:  -5.49333635882e-16\n",
      "Current cost: 3.01767e-31\n",
      "\n",
      "Current position:  -5.49333635882e-16\n",
      "Current cost: 3.01767e-31\n",
      "\n",
      "Current position:  -5.49333635882e-16\n",
      "Current cost: 3.01767e-31\n",
      "\n",
      "Current position:  -5.49333635882e-16\n",
      "Current cost: 3.01767e-31\n",
      "\n",
      "Current position:  -5.49333635882e-16\n",
      "Current cost: 3.01767e-31\n",
      "\n",
      "Current position:  -5.49333635882e-16\n",
      "Current cost: 3.01767e-31\n",
      "\n",
      "Current position:  -5.49333635882e-16\n",
      "Current cost: 3.01767e-31\n",
      "\n",
      "Current position:  -5.49333635882e-16\n",
      "Current cost: 3.01767e-31\n",
      "\n",
      "Current position:  -5.49333635882e-16\n",
      "Current cost: 3.01767e-31\n",
      "\n",
      "Current position:  -5.49333635882e-16\n",
      "Current cost: 3.01767e-31\n",
      "\n",
      "Current position:  -5.49333635882e-16\n",
      "Current cost: 3.01767e-31\n",
      "\n",
      "Current position:  -5.49333635882e-16\n",
      "Current cost: 3.01767e-31\n",
      "\n",
      "Current position:  -5.49333635882e-16\n",
      "Current cost: 3.01767e-31\n",
      "\n",
      "Current position:  -5.49333635882e-16\n",
      "Current cost: 3.01767e-31\n",
      "\n",
      "Current position:  -5.49333635882e-16\n",
      "Current cost: 3.01767e-31\n",
      "\n",
      "Current position:  -5.49333635882e-16\n",
      "Current cost: 3.01767e-31\n",
      "\n",
      "Current position:  -5.49333635882e-16\n",
      "Current cost: 3.01767e-31\n",
      "\n",
      "Current position:  -5.49333635882e-16\n",
      "Current cost: 3.01767e-31\n",
      "\n",
      "Current position:  -5.49333635882e-16\n",
      "Current cost: 3.01767e-31\n",
      "\n",
      "Current position:  -5.49333635882e-16\n",
      "Current cost: 3.01767e-31\n",
      "\n",
      "Current position:  -5.49333635882e-16\n",
      "Current cost: 3.01767e-31\n",
      "\n",
      "Current position:  -5.49333635882e-16\n",
      "Current cost: 3.01767e-31\n",
      "\n",
      "Current position:  -5.49333635882e-16\n",
      "Current cost: 3.01767e-31\n",
      "\n",
      "Current position:  -5.49333635882e-16\n",
      "Current cost: 3.01767e-31\n",
      "\n",
      "Current position:  -5.49333635882e-16\n",
      "Current cost: 3.01767e-31\n",
      "\n",
      "Current position:  -5.49333635882e-16\n",
      "Current cost: 3.01767e-31\n",
      "\n",
      "Current position:  -5.49333635882e-16\n",
      "Current cost: 3.01767e-31\n",
      "\n",
      "Current position:  -5.49333635882e-16\n",
      "Current cost: 3.01767e-31\n",
      "\n",
      "Current position:  -5.49333635882e-16\n",
      "Current cost: 3.01767e-31\n",
      "\n",
      "Current position:  -5.49333635882e-16\n",
      "Current cost: 3.01767e-31\n",
      "\n",
      "Current position:  -5.49333635882e-16\n",
      "Current cost: 3.01767e-31\n",
      "\n",
      "Current position:  -5.49333635882e-16\n",
      "Current cost: 3.01767e-31\n",
      "\n",
      "Current position:  -5.49333635882e-16\n",
      "Current cost: 3.01767e-31\n",
      "\n",
      "Current position:  -5.49333635882e-16\n",
      "Current cost: 3.01767e-31\n",
      "\n",
      "Current position:  -5.49333635882e-16\n",
      "Current cost: 3.01767e-31\n",
      "\n",
      "Current position:  -5.49333635882e-16\n",
      "Current cost: 3.01767e-31\n",
      "\n",
      "Current position:  -5.49333635882e-16\n",
      "Current cost: 3.01767e-31\n",
      "\n",
      "Current position:  -5.49333635882e-16\n",
      "Current cost: 3.01767e-31\n",
      "\n",
      "Current position:  -5.49333635882e-16\n",
      "Current cost: 3.01767e-31\n",
      "\n",
      "Current position:  -5.49333635882e-16\n",
      "Current cost: 3.01767e-31\n",
      "\n",
      "Current position:  -5.49333635882e-16\n",
      "Current cost: 3.01767e-31\n",
      "\n",
      "Current position:  -5.49333635882e-16\n",
      "Current cost: 3.01767e-31\n",
      "\n",
      "Current position:  -5.49333635882e-16\n",
      "Current cost: 3.01767e-31\n",
      "\n",
      "Current position:  -5.49333635882e-16\n",
      "Current cost: 3.01767e-31\n",
      "\n",
      "Current position:  -5.49333635882e-16\n",
      "Current cost: 3.01767e-31\n",
      "\n",
      "Current position:  -5.49333635882e-16\n",
      "Current cost: 3.01767e-31\n",
      "\n",
      "Current position:  -5.49333635882e-16\n",
      "Current cost: 3.01767e-31\n",
      "\n",
      "Current position:  -5.49333635882e-16\n",
      "Current cost: 3.01767e-31\n",
      "\n",
      "Current position:  -5.49333635882e-16\n",
      "Current cost: 3.01767e-31\n",
      "\n",
      "Current position:  -5.49333635882e-16\n",
      "Current cost: 3.01767e-31\n",
      "\n",
      "Current position:  -5.49333635882e-16\n",
      "Current cost: 3.01767e-31\n",
      "\n",
      "Current position:  -5.49333635882e-16\n",
      "Current cost: 3.01767e-31\n",
      "\n",
      "Current position:  -5.49333635882e-16\n",
      "Current cost: 3.01767e-31\n",
      "\n",
      "Current position:  -5.49333635882e-16\n",
      "Current cost: 3.01767e-31\n",
      "\n",
      "Current position:  -5.49333635882e-16\n",
      "Current cost: 3.01767e-31\n",
      "\n",
      "Current position:  -5.49333635882e-16\n",
      "Current cost: 3.01767e-31\n",
      "\n",
      "Current position:  -5.49333635882e-16\n",
      "Current cost: 3.01767e-31\n",
      "\n",
      "Current position:  -5.49333635882e-16\n",
      "Current cost: 3.01767e-31\n",
      "\n",
      "Current position:  -5.49333635882e-16\n",
      "Current cost: 3.01767e-31\n",
      "\n",
      "Current position:  -5.49333635882e-16\n",
      "Current cost: 3.01767e-31\n",
      "\n",
      "Current position:  -5.49333635882e-16\n",
      "Current cost: 3.01767e-31\n",
      "\n",
      "Current position:  -5.49333635882e-16\n",
      "Current cost: 3.01767e-31\n",
      "\n",
      "Current position:  -5.49333635882e-16\n",
      "Current cost: 3.01767e-31\n",
      "\n",
      "Current position:  -5.49333635882e-16\n",
      "Current cost: 3.01767e-31\n",
      "\n",
      "Current position:  -5.49333635882e-16\n",
      "Current cost: 3.01767e-31\n",
      "\n",
      "Current position:  -5.49333635882e-16\n",
      "Current cost: 3.01767e-31\n",
      "Optimised_position:  -5.49333635882e-16\n",
      "Final_cost:  3.01767e-31\n"
     ]
    },
    {
     "data": {
      "image/png": "[encoded data removed]",
      "text/plain": [
       "<matplotlib.figure.Figure at 0x7f3b6d1c29d0>"
      ]
     },
     "metadata": {},
     "output_type": "display_data"
    },
    {
     "data": {
      "image/png": "[encoded data removed]",
      "text/plain": [
       "<matplotlib.figure.Figure at 0x7f3b6c08ed90>"
      ]
     },
     "metadata": {},
     "output_type": "display_data"
    }
   ],
   "source": [
    "# Now run the simulation on this curve:\n",
    "# run the simulation n times from start position 1000:\n",
    "last_pos, last_cost, x_vals, y_vals = simulate(y, x, -1000, \n",
    "                                               modified_newton_raphson, no_of_iterations=150, feed_back=True)\n",
    "\n",
    "plt.figure().suptitle(\"Simulation: Positions Plot\")\n",
    "plt.plot(x_vals);\n",
    "\n",
    "plt.figure().suptitle(\"Simulation: Cost Plot\")\n",
    "plt.plot(y_vals);\n",
    "\n",
    "# print the final values:\n",
    "print(\"Optimised_position: \", last_pos)\n",
    "print(\"Final_cost: \", last_cost)"
   ]
  },
  {
   "cell_type": "code",
   "execution_count": 22,
   "metadata": {
    "collapsed": true
   },
   "outputs": [],
   "source": [
    "# define the function for optimization\n",
    "y = tf.exp(x) # we use the square function"
   ]
  },
  {
   "cell_type": "code",
   "execution_count": 23,
   "metadata": {
    "collapsed": false
   },
   "outputs": [
    {
     "data": {
      "image/png": "[encoded data removed]",
      "text/plain": [
       "<matplotlib.figure.Figure at 0x7f3b6d278a50>"
      ]
     },
     "metadata": {},
     "output_type": "display_data"
    }
   ],
   "source": [
    "# plot the function:\n",
    "with tf.Session() as sess:\n",
    "    y_vals = [] # initialize to empty list\n",
    "    for x_val in range(-100, 100):\n",
    "        y_vals.append(sess.run(y, feed_dict={x: x_val}))\n",
    "    # y_vals contains the y_values for the domain [-100, 100]\n",
    "    \n",
    "plt.figure().suptitle(\"The optimization objective function: \")\n",
    "plt.plot(range(-100, 100), y_vals);"
   ]
  },
  {
   "cell_type": "code",
   "execution_count": 24,
   "metadata": {
    "collapsed": false,
    "scrolled": true
   },
   "outputs": [
    {
     "name": "stdout",
     "output_type": "stream",
     "text": [
      "\n",
      "Current position:  10\n",
      "Current cost: 22026.5\n",
      "\n",
      "Current position:  9.00004535913\n",
      "Current cost: 8103.46\n",
      "\n",
      "Current position:  8.00016874075\n",
      "Current cost: 2981.46\n",
      "\n",
      "Current position:  7.00050395727\n",
      "Current cost: 1097.19\n",
      "\n",
      "Current position:  6.00141447783\n",
      "Current cost: 404.0\n",
      "\n",
      "Current position:  5.00388360023\n",
      "Current cost: 148.991\n",
      "\n",
      "Current position:  4.01055067778\n",
      "Current cost: 55.1772\n",
      "\n",
      "Current position:  3.02835148573\n",
      "Current cost: 20.6631\n",
      "\n",
      "Current position:  2.07451283932\n",
      "Current cost: 7.96067\n",
      "\n",
      "Current position:  1.18611168861\n",
      "Current cost: 3.27432\n",
      "\n",
      "Current position:  0.420066773891\n",
      "Current cost: 1.52206\n",
      "\n",
      "Current position:  -0.183432400227\n",
      "Current cost: 0.832408\n",
      "\n",
      "Current position:  -0.637702435255\n",
      "Current cost: 0.528505\n",
      "\n",
      "Current position:  -0.983468532562\n",
      "Current cost: 0.374012\n",
      "\n",
      "Current position:  -1.25567263365\n",
      "Current cost: 0.284884\n",
      "\n",
      "Current position:  -1.47739234567\n",
      "Current cost: 0.228232\n",
      "\n",
      "Current position:  -1.66321395338\n",
      "Current cost: 0.189529\n",
      "\n",
      "Current position:  -1.82254499197\n",
      "Current cost: 0.161614\n",
      "\n",
      "Current position:  -1.96167376637\n",
      "Current cost: 0.140623\n",
      "\n",
      "Current position:  -2.08495978266\n",
      "Current cost: 0.124312\n",
      "\n",
      "Current position:  -2.19552704692\n",
      "Current cost: 0.1113\n",
      "\n",
      "Current position:  -2.29567991942\n",
      "Current cost: 0.100693\n",
      "\n",
      "Current position:  -2.38716130704\n",
      "Current cost: 0.0918902\n",
      "\n",
      "Current position:  -2.47131827474\n",
      "Current cost: 0.0844734\n",
      "\n",
      "Current position:  -2.5492117703\n",
      "Current cost: 0.0781432\n",
      "\n",
      "Current position:  -2.62169122696\n",
      "Current cost: 0.0726798\n",
      "\n",
      "Current position:  -2.68944662064\n",
      "Current cost: 0.0679185\n",
      "\n",
      "Current position:  -2.75304558873\n",
      "Current cost: 0.0637335\n",
      "\n",
      "Current position:  -2.81296046451\n",
      "Current cost: 0.060027\n",
      "\n",
      "Current position:  -2.86958828941\n",
      "Current cost: 0.0567223\n",
      "\n",
      "Current position:  -2.92326584458\n",
      "Current cost: 0.0537578\n",
      "\n",
      "Current position:  -2.97428119928\n",
      "Current cost: 0.0510841\n",
      "\n",
      "Current position:  -3.02288257703\n",
      "Current cost: 0.0486608\n",
      "\n",
      "Current position:  -3.06928533688\n",
      "Current cost: 0.0464543\n",
      "\n",
      "Current position:  -3.11367747188\n",
      "Current cost: 0.0444372\n",
      "\n",
      "Current position:  -3.15622405708\n",
      "Current cost: 0.0425862\n",
      "\n",
      "Current position:  -3.19707079232\n",
      "Current cost: 0.0408818\n",
      "\n",
      "Current position:  -3.23634689674\n",
      "Current cost: 0.0393072\n",
      "\n",
      "Current position:  -3.27416750044\n",
      "Current cost: 0.0378484\n",
      "\n",
      "Current position:  -3.31063560769\n",
      "Current cost: 0.036493\n",
      "\n",
      "Current position:  -3.34584373608\n",
      "Current cost: 0.0352305\n",
      "\n",
      "Current position:  -3.37987526879\n",
      "Current cost: 0.0340517\n",
      "\n",
      "Current position:  -3.41280563921\n",
      "Current cost: 0.0329486\n",
      "\n",
      "Current position:  -3.44470328838\n",
      "Current cost: 0.0319142\n",
      "\n",
      "Current position:  -3.47563049942\n",
      "Current cost: 0.0309423\n",
      "\n",
      "Current position:  -3.50564412586\n",
      "Current cost: 0.0300274\n",
      "\n",
      "Current position:  -3.53479618952\n",
      "Current cost: 0.0291647\n",
      "\n",
      "Current position:  -3.56313441321\n",
      "Current cost: 0.0283498\n",
      "\n",
      "Current position:  -3.59070268087\n",
      "Current cost: 0.0275789\n",
      "\n",
      "Current position:  -3.61754143797\n",
      "Current cost: 0.0268486\n",
      "\n",
      "Current position:  -3.64368803985\n",
      "Current cost: 0.0261557\n",
      "\n",
      "Current position:  -3.66917705908\n",
      "Current cost: 0.0254974\n",
      "\n",
      "Current position:  -3.69404054992\n",
      "Current cost: 0.0248713\n",
      "\n",
      "Current position:  -3.71830828302\n",
      "Current cost: 0.024275\n",
      "\n",
      "Current position:  -3.74200797454\n",
      "Current cost: 0.0237065\n",
      "\n",
      "Current position:  -3.76516544633\n",
      "Current cost: 0.0231638\n",
      "\n",
      "Current position:  -3.78780481592\n",
      "Current cost: 0.0226453\n",
      "\n",
      "Current position:  -3.80994862132\n",
      "Current cost: 0.0221493\n",
      "\n",
      "Current position:  -3.83161797374\n",
      "Current cost: 0.0216745\n",
      "\n",
      "Current position:  -3.85283267125\n",
      "Current cost: 0.0212195\n",
      "\n",
      "Current position:  -3.87361130491\n",
      "Current cost: 0.0207832\n",
      "\n",
      "Current position:  -3.89397134073\n",
      "Current cost: 0.0203643\n",
      "\n",
      "Current position:  -3.91392922215\n",
      "Current cost: 0.0199619\n",
      "\n",
      "Current position:  -3.93350045569\n",
      "Current cost: 0.019575\n",
      "\n",
      "Current position:  -3.95269966125\n",
      "Current cost: 0.0192028\n",
      "\n",
      "Current position:  -3.97154065222\n",
      "Current cost: 0.0188444\n",
      "\n",
      "Current position:  -3.99003648572\n",
      "Current cost: 0.018499\n",
      "\n",
      "Current position:  -4.008199526\n",
      "Current cost: 0.0181661\n",
      "\n",
      "Current position:  -4.02604147792\n",
      "Current cost: 0.0178448\n",
      "\n",
      "Current position:  -4.04357345402\n",
      "Current cost: 0.0175347\n",
      "\n",
      "Current position:  -4.06080599129\n",
      "Current cost: 0.0172351\n",
      "\n",
      "Current position:  -4.07774910145\n",
      "Current cost: 0.0169456\n",
      "\n",
      "Current position:  -4.09441229701\n",
      "Current cost: 0.0166655\n",
      "\n",
      "Current position:  -4.11080464534\n",
      "Current cost: 0.0163946\n",
      "\n",
      "Current position:  -4.12693477795\n",
      "Current cost: 0.0161322\n",
      "\n",
      "Current position:  -4.14281090908\n",
      "Current cost: 0.0158782\n",
      "\n",
      "Current position:  -4.15844089165\n",
      "Current cost: 0.0156319\n",
      "\n",
      "Current position:  -4.17383220512\n",
      "Current cost: 0.0153932\n",
      "\n",
      "Current position:  -4.18899200112\n",
      "Current cost: 0.0151616\n",
      "\n",
      "Current position:  -4.20392712113\n",
      "Current cost: 0.0149368\n",
      "\n",
      "Current position:  -4.21864410024\n",
      "Current cost: 0.0147186\n",
      "\n",
      "Current position:  -4.23314919323\n",
      "Current cost: 0.0145066\n",
      "\n",
      "Current position:  -4.24744839594\n",
      "Current cost: 0.0143007\n",
      "\n",
      "Current position:  -4.26154744625\n",
      "Current cost: 0.0141005\n",
      "\n",
      "Current position:  -4.27545185108\n",
      "Current cost: 0.0139058\n",
      "\n",
      "Current position:  -4.2891668994\n",
      "Current cost: 0.0137163\n",
      "\n",
      "Current position:  -4.30269765388\n",
      "Current cost: 0.013532\n",
      "\n",
      "Current position:  -4.31604898907\n",
      "Current cost: 0.0133525\n",
      "\n",
      "Current position:  -4.32922558114\n",
      "Current cost: 0.0131777\n",
      "\n",
      "Current position:  -4.34223193582\n",
      "Current cost: 0.0130075\n",
      "\n",
      "Current position:  -4.35507238097\n",
      "Current cost: 0.0128415\n",
      "\n",
      "Current position:  -4.36775107495\n",
      "Current cost: 0.0126797\n",
      "\n",
      "Current position:  -4.38027203642\n",
      "Current cost: 0.012522\n",
      "\n",
      "Current position:  -4.39263912942\n",
      "Current cost: 0.012368\n",
      "\n",
      "Current position:  -4.4048560746\n",
      "Current cost: 0.0122179\n",
      "\n",
      "Current position:  -4.41692646407\n",
      "Current cost: 0.0120713\n",
      "\n",
      "Current position:  -4.4288537642\n",
      "Current cost: 0.0119282\n",
      "\n",
      "Current position:  -4.44064131193\n",
      "Current cost: 0.0117884\n",
      "\n",
      "Current position:  -4.45229234081\n",
      "Current cost: 0.0116518\n",
      "\n",
      "Current position:  -4.46380996425\n",
      "Current cost: 0.0115184\n",
      "Optimised_position:  -4.47519719694\n",
      "Final_cost:  0.0115184\n"
     ]
    },
    {
     "data": {
      "image/png": "[encoded data removed]",
      "text/plain": [
       "<matplotlib.figure.Figure at 0x7f3b6d146350>"
      ]
     },
     "metadata": {},
     "output_type": "display_data"
    },
    {
     "data": {
      "image/png": "[encoded data removed]",
      "text/plain": [
       "<matplotlib.figure.Figure at 0x7f3b6d249850>"
      ]
     },
     "metadata": {},
     "output_type": "display_data"
    }
   ],
   "source": [
    "# Now run the simulation on this curve:\n",
    "# run the simulation n times from start position 1000:\n",
    "last_pos, last_cost, x_vals, y_vals = simulate(y, x, 10, \n",
    "                                               modified_newton_raphson, no_of_iterations=100, feed_back=True)\n",
    "\n",
    "plt.figure().suptitle(\"Simulation: Positions Plot\")\n",
    "plt.plot(x_vals);\n",
    "\n",
    "plt.figure().suptitle(\"Simulation: Cost Plot\")\n",
    "plt.plot(y_vals);\n",
    "\n",
    "# print the final values:\n",
    "print(\"Optimised_position: \", last_pos)\n",
    "print(\"Final_cost: \", last_cost)"
   ]
  },
  {
   "cell_type": "markdown",
   "metadata": {},
   "source": [
    "# Well, The results of this optimization technique are very good on the Synthetic functions. Let's find out in subsequent Techinques how this fares on some of the typical DL datasets. "
   ]
  }
 ],
 "metadata": {
  "kernelspec": {
   "display_name": "Python [Root]",
   "language": "python",
   "name": "Python [Root]"
  },
  "language_info": {
   "codemirror_mode": {
    "name": "ipython",
    "version": 2
   },
   "file_extension": ".py",
   "mimetype": "text/x-python",
   "name": "python",
   "nbconvert_exporter": "python",
   "pygments_lexer": "ipython2",
   "version": "2.7.12"
  }
 },
 "nbformat": 4,
 "nbformat_minor": 2
}
