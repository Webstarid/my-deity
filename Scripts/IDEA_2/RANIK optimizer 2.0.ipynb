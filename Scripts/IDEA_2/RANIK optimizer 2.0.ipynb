{
 "cells": [
  {
   "cell_type": "markdown",
   "metadata": {},
   "source": [
    "# In this version of the notebook, I will experiment with the rules of the theory of relativity from physics for the mathematical optimization.\n",
    "\n",
    "-------------------------------------------------------------------------------------------------------------------\n",
    "\n",
    "### Since, as evident from the earlier notebook, the rules of Newtonian physics don't work here, I am hopeful that Einstein will help :)."
   ]
  },
  {
   "cell_type": "markdown",
   "metadata": {},
   "source": [
    "import all the required stuff for this version"
   ]
  },
  {
   "cell_type": "code",
   "execution_count": 14,
   "metadata": {},
   "outputs": [],
   "source": [
    "# for print function stability\n",
    "from __future__ import print_function\n",
    "\n",
    "# for numerical computations\n",
    "import numpy as np \n",
    "\n",
    "# for gradient calculation:\n",
    "import tensorflow as tf\n",
    "\n",
    "# for plotting diagrams:\n",
    "import matplotlib.pyplot as plt\n",
    "\n",
    "# make the diagram inline in matplotlib\n",
    "%matplotlib inline"
   ]
  },
  {
   "cell_type": "code",
   "execution_count": 15,
   "metadata": {
    "collapsed": true
   },
   "outputs": [],
   "source": [
    "# define the placeholder:\n",
    "x = tf.placeholder(tf.float32, shape=None)"
   ]
  },
  {
   "cell_type": "code",
   "execution_count": 16,
   "metadata": {
    "collapsed": true
   },
   "outputs": [],
   "source": [
    "# define the function for optimization\n",
    "y = tf.square(x) # we use the square function"
   ]
  },
  {
   "cell_type": "code",
   "execution_count": 17,
   "metadata": {
    "collapsed": true
   },
   "outputs": [],
   "source": [
    "# plot the function:\n",
    "with tf.Session() as sess:\n",
    "    y_vals = [] # initialize to empty list\n",
    "    for x_val in range(-100, 100):\n",
    "        y_vals.append(sess.run(y, feed_dict={x: x_val}))\n",
    "    # y_vals contains the y_values for the domain [-100, 100]"
   ]
  },
  {
   "cell_type": "code",
   "execution_count": 18,
   "metadata": {},
   "outputs": [
    {
     "data": {
      "image/png": "[encoded data removed]",
      "text/plain": [
       "<matplotlib.figure.Figure at 0x7f9e43ca97d0>"
      ]
     },
     "metadata": {},
     "output_type": "display_data"
    }
   ],
   "source": [
    "plt.figure().suptitle(\"The optimization objective function: \")\n",
    "plt.plot(range(-100, 100), y_vals);"
   ]
  },
  {
   "cell_type": "code",
   "execution_count": 19,
   "metadata": {
    "collapsed": true
   },
   "outputs": [],
   "source": [
    "# define the overall structure function:\n",
    "def simulate(y_value, x_value, start_position, optim_fn, no_of_iterations = 100, feed_back = False):\n",
    "    '''\n",
    "        This is the structural function over the total algorithm which can swap the opim_fn to create different \n",
    "        behaviour.\n",
    "        \n",
    "        @params\n",
    "        y_value = The optimization objective function's current value\n",
    "        x_value = The current parameter value\n",
    "        optim_fn = The function used for optimization\n",
    "        no_of_iterations = The no_of_iterations for which this simulation is to be run\n",
    "        feed_back = print the values while inside the running loop\n",
    "        \n",
    "            @optim_fn:\n",
    "                params:\n",
    "                y_value = evaluated value of the simulate function's y_value\n",
    "                x_value = evaluated value of the simulate function's x_value\n",
    "                dy_dx = the gradient of the y wrt. x\n",
    "                \n",
    "                returns: The updated position\n",
    "                \n",
    "        @return\n",
    "        final values of x_value and y_value and all the collected x_values.\n",
    "    '''\n",
    "    # start the TensorFlow session\n",
    "    sess = tf.Session()\n",
    "    \n",
    "    # set the position to start position:\n",
    "    position = start_position\n",
    "    \n",
    "    # run the simulation loop\n",
    "    positions = [position] # initialize the positions list\n",
    "    costs = [] # initialize the costs collecting list to empty list\n",
    "    for _ in range(no_of_iterations):\n",
    "        # evaluate the y_value and the dy_dx for current x_value\n",
    "        cost, gradient = sess.run([y_value, tf.squeeze(tf.gradients(y_value, x_value))], \n",
    "                                                                  feed_dict={x_value: position})\n",
    "        \n",
    "        # print the values of cost and position:\n",
    "        if(feed_back):\n",
    "            print(\"\\nCurrent position: \", position)\n",
    "            print(\"Current cost:\", cost)\n",
    "        \n",
    "        # update the position using the optimization function:\n",
    "        position = optim_fn(cost, position, gradient)\n",
    "        \n",
    "        positions.append(position)\n",
    "        costs.append(cost) # append the previous cost\n",
    "    \n",
    "    # close the session\n",
    "    sess.close()\n",
    "    \n",
    "    # return the last position, cost and positions:\n",
    "    return position, cost, positions, costs"
   ]
  },
  {
   "cell_type": "code",
   "execution_count": 20,
   "metadata": {
    "collapsed": true
   },
   "outputs": [],
   "source": [
    "# define the relative optimization function:\n",
    "def relative_optmization(y_, x_, dy_dx_, epsilon = 3e-8):\n",
    "    # calculate the updated x_ value and return it\n",
    "    updated_x_ = x_ - (y_ / (dy_dx_ + epsilon))\n",
    "    \n",
    "    # return this value:\n",
    "    return updated_x_"
   ]
  },
  {
   "cell_type": "code",
   "execution_count": 21,
   "metadata": {},
   "outputs": [
    {
     "name": "stdout",
     "output_type": "stream",
     "text": [
      "Optimised_position:  2.4134132049002353e-09\n",
      "Final_cost:  6.7929284e-18\n"
     ]
    },
    {
     "data": {
      "image/png": "[encoded data removed]",
      "text/plain": [
       "<matplotlib.figure.Figure at 0x7f9e7006f190>"
      ]
     },
     "metadata": {},
     "output_type": "display_data"
    },
    {
     "data": {
      "image/png": "[encoded data removed]",
      "text/plain": [
       "<matplotlib.figure.Figure at 0x7f9e21558b90>"
      ]
     },
     "metadata": {},
     "output_type": "display_data"
    }
   ],
   "source": [
    "# run the simulation 100 times from start position 10:\n",
    "last_pos, last_cost, x_vals, y_vals = simulate(y, x, 1000, relative_optmization, no_of_iterations=50)\n",
    "\n",
    "plt.figure().suptitle(\"Simulation: Positions Plot\")\n",
    "plt.plot(x_vals);\n",
    "\n",
    "plt.figure().suptitle(\"Simulation: Cost Plot\")\n",
    "plt.plot(y_vals);\n",
    "\n",
    "# print the final values:\n",
    "print(\"Optimised_position: \", last_pos)\n",
    "print(\"Final_cost: \", last_cost)"
   ]
  },
  {
   "cell_type": "markdown",
   "metadata": {},
   "source": [
    "### Testing the optimizer on a displaced version of the y=x^2 version"
   ]
  },
  {
   "cell_type": "code",
   "execution_count": 22,
   "metadata": {
    "collapsed": true
   },
   "outputs": [],
   "source": [
    "# change the function of y wrt x\n",
    "y = tf.square(x - 100) # Now, this time, the minima is at x = 100"
   ]
  },
  {
   "cell_type": "code",
   "execution_count": 23,
   "metadata": {
    "collapsed": true
   },
   "outputs": [],
   "source": [
    "# plot the function:\n",
    "with tf.Session() as sess:\n",
    "    y_vals = [] # initialize to empty list\n",
    "    for x_val in range(50, 150):\n",
    "        y_vals.append(sess.run(y, feed_dict={x: x_val}))\n",
    "    # y_vals contains the y_values for the domain [50, 150]"
   ]
  },
  {
   "cell_type": "code",
   "execution_count": 24,
   "metadata": {},
   "outputs": [
    {
     "data": {
      "image/png": "[encoded data removed]",
      "text/plain": [
       "<matplotlib.figure.Figure at 0x7f9e400f0990>"
      ]
     },
     "metadata": {},
     "output_type": "display_data"
    }
   ],
   "source": [
    "plt.figure().suptitle(\"The optimization objective function: \")\n",
    "plt.plot(range(50, 150), y_vals);"
   ]
  },
  {
   "cell_type": "code",
   "execution_count": 25,
   "metadata": {
    "scrolled": false
   },
   "outputs": [
    {
     "name": "stdout",
     "output_type": "stream",
     "text": [
      "Optimised_position:  100.00000020997001\n",
      "Final_cost:  0.0\n"
     ]
    },
    {
     "data": {
      "image/png": "[encoded data removed]",
      "text/plain": [
       "<matplotlib.figure.Figure at 0x7f9e214a3dd0>"
      ]
     },
     "metadata": {},
     "output_type": "display_data"
    },
    {
     "data": {
      "image/png": "[encoded data removed]",
      "text/plain": [
       "<matplotlib.figure.Figure at 0x7f9e213c7490>"
      ]
     },
     "metadata": {},
     "output_type": "display_data"
    }
   ],
   "source": [
    "# Now run the simulation on this curve:\n",
    "# run the simulation 100 times from start position 1000:\n",
    "last_pos, last_cost, x_vals, y_vals = simulate(y, x, 1000, \n",
    "                                               relative_optmization, no_of_iterations=50)\n",
    "\n",
    "plt.figure().suptitle(\"Simulation: Positions Plot\")\n",
    "plt.plot(x_vals);\n",
    "\n",
    "plt.figure().suptitle(\"Simulation: Cost Plot\")\n",
    "plt.plot(y_vals);\n",
    "\n",
    "# print the final values:\n",
    "print(\"Optimised_position: \", last_pos)\n",
    "print(\"Final_cost: \", last_cost)"
   ]
  },
  {
   "cell_type": "code",
   "execution_count": 26,
   "metadata": {},
   "outputs": [
    {
     "name": "stdout",
     "output_type": "stream",
     "text": [
      "Optimised_position:  99.9999964028468\n",
      "Final_cost:  0.0\n"
     ]
    },
    {
     "data": {
      "image/png": "[encoded data removed]",
      "text/plain": [
       "<matplotlib.figure.Figure at 0x7f9e413da290>"
      ]
     },
     "metadata": {},
     "output_type": "display_data"
    },
    {
     "data": {
      "image/png": "[encoded data removed]",
      "text/plain": [
       "<matplotlib.figure.Figure at 0x7f9e20b26490>"
      ]
     },
     "metadata": {},
     "output_type": "display_data"
    }
   ],
   "source": [
    "# Now run the simulation on this curve:\n",
    "# run the simulation 100 times from start position -1000:\n",
    "last_pos, last_cost, x_vals, y_vals = simulate(y, x, -1000, \n",
    "                                               relative_optmization, no_of_iterations=50)\n",
    "\n",
    "plt.figure().suptitle(\"Simulation: Positions Plot\")\n",
    "plt.plot(x_vals);\n",
    "\n",
    "plt.figure().suptitle(\"Simulation: Cost Plot\")\n",
    "plt.plot(y_vals);\n",
    "\n",
    "# print the final values:\n",
    "print(\"Optimised_position: \", last_pos)\n",
    "print(\"Final_cost: \", last_cost)"
   ]
  },
  {
   "cell_type": "markdown",
   "metadata": {},
   "source": [
    "### Now is the time to test this optimization equation on the most difficult curves:\n",
    "## THE undeviated; THE unshaken =>  e^x"
   ]
  },
  {
   "cell_type": "code",
   "execution_count": 27,
   "metadata": {
    "collapsed": true
   },
   "outputs": [],
   "source": [
    "y = tf.exp(x)"
   ]
  },
  {
   "cell_type": "code",
   "execution_count": 28,
   "metadata": {
    "collapsed": true
   },
   "outputs": [],
   "source": [
    "# plot the function:\n",
    "with tf.Session() as sess:\n",
    "    y_vals = [] # initialize to empty list\n",
    "    for x_val in range(-100, 100):\n",
    "        y_vals.append(sess.run(y, feed_dict={x: x_val}))\n",
    "    # y_vals contains the y_values for the domain [-100, 100]"
   ]
  },
  {
   "cell_type": "code",
   "execution_count": 29,
   "metadata": {},
   "outputs": [
    {
     "data": {
      "image/png": "[encoded data removed]",
      "text/plain": [
       "<matplotlib.figure.Figure at 0x7f9e217b4cd0>"
      ]
     },
     "metadata": {},
     "output_type": "display_data"
    }
   ],
   "source": [
    "plt.figure().suptitle(\"The optimization objective function: \")\n",
    "plt.plot(range(-100, 100), y_vals);"
   ]
  },
  {
   "cell_type": "markdown",
   "metadata": {},
   "source": [
    "# The Moment of truth: "
   ]
  },
  {
   "cell_type": "code",
   "execution_count": 30,
   "metadata": {},
   "outputs": [
    {
     "name": "stdout",
     "output_type": "stream",
     "text": [
      "Optimised_position:  -22.458791295038214\n",
      "Final_cost:  1.7734658e-10\n"
     ]
    },
    {
     "data": {
      "image/png": "[encoded data removed]",
      "text/plain": [
       "<matplotlib.figure.Figure at 0x7f9e214e7f50>"
      ]
     },
     "metadata": {},
     "output_type": "display_data"
    },
    {
     "data": {
      "image/png": "[encoded data removed]",
      "text/plain": [
       "<matplotlib.figure.Figure at 0x7f9e20a68450>"
      ]
     },
     "metadata": {},
     "output_type": "display_data"
    }
   ],
   "source": [
    "# Now run the simulation on this curve:\n",
    "# run the simulation 100 times from start position 10:\n",
    "last_pos, last_cost, x_vals, y_vals = simulate(y, x, 10, \n",
    "                                               relative_optmization, no_of_iterations=200)\n",
    "\n",
    "plt.figure().suptitle(\"Simulation: Positions Plot\")\n",
    "plt.plot(x_vals);\n",
    "\n",
    "plt.figure().suptitle(\"Simulation: Cost Plot\")\n",
    "plt.plot(y_vals);\n",
    "\n",
    "# print the final values:\n",
    "print(\"Optimised_position: \", last_pos)\n",
    "print(\"Final_cost: \", last_cost)"
   ]
  },
  {
   "cell_type": "markdown",
   "metadata": {},
   "source": [
    "## Equation 2: modified from newton-raphson method"
   ]
  },
  {
   "cell_type": "code",
   "execution_count": 39,
   "metadata": {
    "collapsed": true
   },
   "outputs": [],
   "source": [
    "# define the new optimization update function:\n",
    "def modified_newton_raphson(y_, x_, dy_dx_):\n",
    "    # calculate the updated x_ value and return it\n",
    "    updated_x_ = x_ - ((y_ * dy_dx_) / (y_ + np.square(dy_dx_))) # this equation\n",
    "    # looks extremely similar to the adam update. But there are a few differences\n",
    "    \n",
    "    # return this value:\n",
    "    return updated_x_"
   ]
  },
  {
   "cell_type": "code",
   "execution_count": 40,
   "metadata": {
    "collapsed": true
   },
   "outputs": [],
   "source": [
    "# define the function for optimization\n",
    "y = tf.square(x) # we use the square function"
   ]
  },
  {
   "cell_type": "code",
   "execution_count": 41,
   "metadata": {},
   "outputs": [
    {
     "data": {
      "image/png": "[encoded data removed]",
      "text/plain": [
       "<matplotlib.figure.Figure at 0x7f9e413b22d0>"
      ]
     },
     "metadata": {},
     "output_type": "display_data"
    }
   ],
   "source": [
    "# plot the function:\n",
    "with tf.Session() as sess:\n",
    "    y_vals = [] # initialize to empty list\n",
    "    for x_val in range(-100, 100):\n",
    "        y_vals.append(sess.run(y, feed_dict={x: x_val}))\n",
    "    # y_vals contains the y_values for the domain [-100, 100]\n",
    "    \n",
    "plt.figure().suptitle(\"The optimization objective function: \")\n",
    "plt.plot(range(-100, 100), y_vals);"
   ]
  },
  {
   "cell_type": "code",
   "execution_count": 42,
   "metadata": {
    "scrolled": true
   },
   "outputs": [
    {
     "name": "stdout",
     "output_type": "stream",
     "text": [
      "\n",
      "Current position:  -1000\n",
      "Current cost: 1000000.0\n",
      "\n",
      "Current position:  -600.0\n",
      "Current cost: 360000.0\n",
      "\n",
      "Current position:  -360.0\n",
      "Current cost: 129600.0\n",
      "\n",
      "Current position:  -216.0\n",
      "Current cost: 46656.0\n",
      "\n",
      "Current position:  -129.5999984741211\n",
      "Current cost: 16796.162\n",
      "\n",
      "Current position:  -77.75999450683594\n",
      "Current cost: 6046.6167\n",
      "\n",
      "Current position:  -46.65599822998047\n",
      "Current cost: 2176.7822\n",
      "\n",
      "Current position:  -27.99359893798828\n",
      "Current cost: 783.6416\n",
      "\n",
      "Current position:  -16.79615879058838\n",
      "Current cost: 282.11093\n",
      "\n",
      "Current position:  -10.077695369720459\n",
      "Current cost: 101.55995\n",
      "\n",
      "Current position:  -6.046617031097412\n",
      "Current cost: 36.561577\n",
      "\n",
      "Current position:  -3.6279702186584473\n",
      "Current cost: 13.162168\n",
      "\n",
      "Current position:  -2.1767821311950684\n",
      "Current cost: 4.7383804\n",
      "\n",
      "Current position:  -1.3060693144798279\n",
      "Current cost: 1.7058172\n",
      "\n",
      "Current position:  -0.7836415767669678\n",
      "Current cost: 0.61409414\n",
      "\n",
      "Current position:  -0.47018495202064514\n",
      "Current cost: 0.2210739\n",
      "\n",
      "Current position:  -0.28211095929145813\n",
      "Current cost: 0.079586595\n",
      "\n",
      "Current position:  -0.16926658153533936\n",
      "Current cost: 0.028651176\n",
      "\n",
      "Current position:  -0.10155994445085526\n",
      "Current cost: 0.010314423\n",
      "\n",
      "Current position:  -0.06093596667051315\n",
      "Current cost: 0.003713192\n",
      "\n",
      "Current position:  -0.03656158037483692\n",
      "Current cost: 0.0013367491\n",
      "\n",
      "Current position:  -0.021936949342489243\n",
      "Current cost: 0.00048122974\n",
      "\n",
      "Current position:  -0.013162169605493546\n",
      "Current cost: 0.0001732427\n",
      "\n",
      "Current position:  -0.007897301577031612\n",
      "Current cost: 6.236737e-05\n",
      "\n",
      "Current position:  -0.004738380899652839\n",
      "Current cost: 2.2452256e-05\n",
      "\n",
      "Current position:  -0.002843028283677995\n",
      "Current cost: 8.08281e-06\n",
      "\n",
      "Current position:  -0.0017058169469237328\n",
      "Current cost: 2.9098114e-06\n",
      "\n",
      "Current position:  -0.0010234902147203684\n",
      "Current cost: 1.0475322e-06\n",
      "\n",
      "Current position:  -0.0006140941113699228\n",
      "Current cost: 3.7711155e-07\n",
      "\n",
      "Current position:  -0.00036845647264271975\n",
      "Current cost: 1.3576017e-07\n",
      "\n",
      "Current position:  -0.0002210738748544827\n",
      "Current cost: 4.887366e-08\n",
      "\n",
      "Current position:  -0.00013264433073345572\n",
      "Current cost: 1.7594518e-08\n",
      "\n",
      "Current position:  -7.958659625728615e-05\n",
      "Current cost: 6.3340257e-09\n",
      "\n",
      "Current position:  -4.7751960664754733e-05\n",
      "Current cost: 2.2802498e-09\n",
      "\n",
      "Current position:  -2.865117676265072e-05\n",
      "Current cost: 8.208899e-10\n",
      "\n",
      "Current position:  -1.7190705875691492e-05\n",
      "Current cost: 2.9552033e-10\n",
      "\n",
      "Current position:  -1.0314423434465425e-05\n",
      "Current cost: 1.0638732e-10\n",
      "\n",
      "Current position:  -6.188653969729785e-06\n",
      "Current cost: 3.8299437e-11\n",
      "\n",
      "Current position:  -3.713192427312606e-06\n",
      "Current cost: 1.3787798e-11\n",
      "\n",
      "Current position:  -2.2279155018622987e-06\n",
      "Current cost: 4.9636076e-12\n",
      "\n",
      "Current position:  -1.3367493352234305e-06\n",
      "Current cost: 1.786899e-12\n",
      "\n",
      "Current position:  -8.020496125027421e-07\n",
      "Current cost: 6.432836e-13\n",
      "\n",
      "Current position:  -4.812297618173034e-07\n",
      "Current cost: 2.3158211e-13\n",
      "\n",
      "Current position:  -2.8873785140604014e-07\n",
      "Current cost: 8.336955e-14\n",
      "\n",
      "Current position:  -1.7324271794905144e-07\n",
      "Current cost: 3.0013037e-14\n",
      "\n",
      "Current position:  -1.0394563076943086e-07\n",
      "Current cost: 1.0804694e-14\n",
      "\n",
      "Current position:  -6.236737704057305e-08\n",
      "Current cost: 3.8896896e-15\n",
      "\n",
      "Current position:  -3.742042586907246e-08\n",
      "Current cost: 1.4002884e-15\n",
      "\n",
      "Current position:  -2.2452255166172108e-08\n",
      "Current cost: 5.0410377e-16\n",
      "\n",
      "Current position:  -1.3471353810246e-08\n",
      "Current cost: 1.8147738e-16\n",
      "\n",
      "Current position:  -8.082812197329758e-09\n",
      "Current cost: 6.533186e-17\n",
      "\n",
      "Current position:  -4.84968709635325e-09\n",
      "Current cost: 2.3519463e-17\n",
      "\n",
      "Current position:  -2.909812391038713e-09\n",
      "Current cost: 8.467008e-18\n",
      "\n",
      "Current position:  -1.7458874346232278e-09\n",
      "Current cost: 3.048123e-18\n",
      "\n",
      "Current position:  -1.0475324496717064e-09\n",
      "Current cost: 1.0973244e-18\n",
      "\n",
      "Current position:  -6.285194587007936e-10\n",
      "Current cost: 3.9503672e-19\n",
      "\n",
      "Current position:  -3.7711167522047617e-10\n",
      "Current cost: 1.4221322e-19\n",
      "\n",
      "Current position:  -2.262670190100735e-10\n",
      "Current cost: 5.1196764e-20\n",
      "\n",
      "Current position:  -1.3576020863048655e-10\n",
      "Current cost: 1.8430835e-20\n",
      "\n",
      "Current position:  -8.145612656607071e-11\n",
      "Current cost: 6.6351004e-21\n",
      "\n",
      "Current position:  -4.8873675939642425e-11\n",
      "Current cost: 2.3886363e-21\n",
      "\n",
      "Current position:  -2.932420452295137e-11\n",
      "Current cost: 8.599089e-22\n",
      "\n",
      "Current position:  -1.759452219335378e-11\n",
      "Current cost: 3.0956725e-22\n",
      "\n",
      "Current position:  -1.0556713489484615e-11\n",
      "Current cost: 1.114442e-22\n",
      "\n",
      "Current position:  -6.33402835389929e-12\n",
      "Current cost: 4.0119916e-23\n",
      "\n",
      "Current position:  -3.800417012339574e-12\n",
      "Current cost: 1.4443169e-23\n",
      "\n",
      "Current position:  -2.2802503158239618e-12\n",
      "Current cost: 5.199541e-24\n",
      "\n",
      "Current position:  -1.3681502762305509e-12\n",
      "Current cost: 1.8718352e-24\n",
      "\n",
      "Current position:  -8.208901223702436e-13\n",
      "Current cost: 6.738606e-25\n",
      "\n",
      "Current position:  -4.925340734221462e-13\n",
      "Current cost: 2.4258982e-25\n",
      "\n",
      "Current position:  -2.955204440532877e-13\n",
      "Current cost: 8.733233e-26\n",
      "\n",
      "Current position:  -1.7731226643197262e-13\n",
      "Current cost: 3.1439638e-26\n",
      "\n",
      "Current position:  -1.0638735850393086e-13\n",
      "Current cost: 1.13182704e-26\n",
      "\n",
      "Current position:  -6.383240968134765e-14\n",
      "Current cost: 4.0745764e-27\n",
      "\n",
      "Current position:  -3.8299438354918655e-14\n",
      "Current cost: 1.466847e-27\n",
      "\n",
      "Current position:  -2.297965149330311e-14\n",
      "Current cost: 5.2806438e-28\n",
      "\n",
      "Current position:  -1.3787935399802668e-14\n",
      "Current cost: 1.9010716e-28\n",
      "\n",
      "Current position:  -8.272880163307395e-15\n",
      "Current cost: 6.8440545e-29\n",
      "\n",
      "Current position:  -4.9641712656224406e-15\n",
      "Current cost: 2.4642996e-29\n",
      "\n",
      "Current position:  -2.9739324660516117e-15\n",
      "Current cost: 8.844274e-30\n",
      "\n",
      "Current position:  -1.7697784638945183e-15\n",
      "Current cost: 3.1321158e-30\n",
      "\n",
      "Current position:  -1.0539436674502983e-15\n",
      "Current cost: 1.1107971e-30\n",
      "\n",
      "Current position:  -5.493336358815607e-16\n",
      "Current cost: 3.0176743e-31\n",
      "\n",
      "Current position:  -5.493336358815607e-16\n",
      "Current cost: 3.0176743e-31\n",
      "\n",
      "Current position:  -5.493336358815607e-16\n",
      "Current cost: 3.0176743e-31\n",
      "\n",
      "Current position:  -5.493336358815607e-16\n",
      "Current cost: 3.0176743e-31\n",
      "\n",
      "Current position:  -5.493336358815607e-16\n",
      "Current cost: 3.0176743e-31\n",
      "\n",
      "Current position:  -5.493336358815607e-16\n",
      "Current cost: 3.0176743e-31\n",
      "\n",
      "Current position:  -5.493336358815607e-16\n",
      "Current cost: 3.0176743e-31\n",
      "\n",
      "Current position:  -5.493336358815607e-16\n",
      "Current cost: 3.0176743e-31\n",
      "\n",
      "Current position:  -5.493336358815607e-16\n",
      "Current cost: 3.0176743e-31\n",
      "\n",
      "Current position:  -5.493336358815607e-16\n",
      "Current cost: 3.0176743e-31\n",
      "\n",
      "Current position:  -5.493336358815607e-16\n",
      "Current cost: 3.0176743e-31\n",
      "\n",
      "Current position:  -5.493336358815607e-16\n",
      "Current cost: 3.0176743e-31\n",
      "\n",
      "Current position:  -5.493336358815607e-16\n",
      "Current cost: 3.0176743e-31\n",
      "\n",
      "Current position:  -5.493336358815607e-16\n",
      "Current cost: 3.0176743e-31\n",
      "\n",
      "Current position:  -5.493336358815607e-16\n",
      "Current cost: 3.0176743e-31\n",
      "\n",
      "Current position:  -5.493336358815607e-16\n",
      "Current cost: 3.0176743e-31\n",
      "\n",
      "Current position:  -5.493336358815607e-16\n",
      "Current cost: 3.0176743e-31\n",
      "\n",
      "Current position:  -5.493336358815607e-16\n",
      "Current cost: 3.0176743e-31\n",
      "\n",
      "Current position:  -5.493336358815607e-16\n",
      "Current cost: 3.0176743e-31\n",
      "\n",
      "Current position:  -5.493336358815607e-16\n",
      "Current cost: 3.0176743e-31\n",
      "\n",
      "Current position:  -5.493336358815607e-16\n",
      "Current cost: 3.0176743e-31\n",
      "\n",
      "Current position:  -5.493336358815607e-16\n",
      "Current cost: 3.0176743e-31\n",
      "\n",
      "Current position:  -5.493336358815607e-16\n",
      "Current cost: 3.0176743e-31\n",
      "\n",
      "Current position:  -5.493336358815607e-16\n",
      "Current cost: 3.0176743e-31\n",
      "\n",
      "Current position:  -5.493336358815607e-16\n",
      "Current cost: 3.0176743e-31\n",
      "\n",
      "Current position:  -5.493336358815607e-16\n",
      "Current cost: 3.0176743e-31\n",
      "\n",
      "Current position:  -5.493336358815607e-16\n",
      "Current cost: 3.0176743e-31\n",
      "\n",
      "Current position:  -5.493336358815607e-16\n",
      "Current cost: 3.0176743e-31\n",
      "\n",
      "Current position:  -5.493336358815607e-16\n",
      "Current cost: 3.0176743e-31\n",
      "\n",
      "Current position:  -5.493336358815607e-16\n",
      "Current cost: 3.0176743e-31\n",
      "\n",
      "Current position:  -5.493336358815607e-16\n",
      "Current cost: 3.0176743e-31\n",
      "\n",
      "Current position:  -5.493336358815607e-16\n",
      "Current cost: 3.0176743e-31\n",
      "\n",
      "Current position:  -5.493336358815607e-16\n",
      "Current cost: 3.0176743e-31\n",
      "\n",
      "Current position:  -5.493336358815607e-16\n",
      "Current cost: 3.0176743e-31\n",
      "\n",
      "Current position:  -5.493336358815607e-16\n",
      "Current cost: 3.0176743e-31\n",
      "\n",
      "Current position:  -5.493336358815607e-16\n",
      "Current cost: 3.0176743e-31\n",
      "\n",
      "Current position:  -5.493336358815607e-16\n",
      "Current cost: 3.0176743e-31\n"
     ]
    },
    {
     "name": "stdout",
     "output_type": "stream",
     "text": [
      "\n",
      "Current position:  -5.493336358815607e-16\n",
      "Current cost: 3.0176743e-31\n",
      "\n",
      "Current position:  -5.493336358815607e-16\n",
      "Current cost: 3.0176743e-31\n",
      "\n",
      "Current position:  -5.493336358815607e-16\n",
      "Current cost: 3.0176743e-31\n",
      "\n",
      "Current position:  -5.493336358815607e-16\n",
      "Current cost: 3.0176743e-31\n",
      "\n",
      "Current position:  -5.493336358815607e-16\n",
      "Current cost: 3.0176743e-31\n",
      "\n",
      "Current position:  -5.493336358815607e-16\n",
      "Current cost: 3.0176743e-31\n",
      "\n",
      "Current position:  -5.493336358815607e-16\n",
      "Current cost: 3.0176743e-31\n",
      "\n",
      "Current position:  -5.493336358815607e-16\n",
      "Current cost: 3.0176743e-31\n",
      "\n",
      "Current position:  -5.493336358815607e-16\n",
      "Current cost: 3.0176743e-31\n",
      "\n",
      "Current position:  -5.493336358815607e-16\n",
      "Current cost: 3.0176743e-31\n",
      "\n",
      "Current position:  -5.493336358815607e-16\n",
      "Current cost: 3.0176743e-31\n",
      "\n",
      "Current position:  -5.493336358815607e-16\n",
      "Current cost: 3.0176743e-31\n",
      "\n",
      "Current position:  -5.493336358815607e-16\n",
      "Current cost: 3.0176743e-31\n",
      "\n",
      "Current position:  -5.493336358815607e-16\n",
      "Current cost: 3.0176743e-31\n",
      "\n",
      "Current position:  -5.493336358815607e-16\n",
      "Current cost: 3.0176743e-31\n",
      "\n",
      "Current position:  -5.493336358815607e-16\n",
      "Current cost: 3.0176743e-31\n",
      "\n",
      "Current position:  -5.493336358815607e-16\n",
      "Current cost: 3.0176743e-31\n",
      "\n",
      "Current position:  -5.493336358815607e-16\n",
      "Current cost: 3.0176743e-31\n",
      "\n",
      "Current position:  -5.493336358815607e-16\n",
      "Current cost: 3.0176743e-31\n",
      "\n",
      "Current position:  -5.493336358815607e-16\n",
      "Current cost: 3.0176743e-31\n",
      "\n",
      "Current position:  -5.493336358815607e-16\n",
      "Current cost: 3.0176743e-31\n",
      "\n",
      "Current position:  -5.493336358815607e-16\n",
      "Current cost: 3.0176743e-31\n",
      "\n",
      "Current position:  -5.493336358815607e-16\n",
      "Current cost: 3.0176743e-31\n",
      "\n",
      "Current position:  -5.493336358815607e-16\n",
      "Current cost: 3.0176743e-31\n",
      "\n",
      "Current position:  -5.493336358815607e-16\n",
      "Current cost: 3.0176743e-31\n",
      "\n",
      "Current position:  -5.493336358815607e-16\n",
      "Current cost: 3.0176743e-31\n",
      "\n",
      "Current position:  -5.493336358815607e-16\n",
      "Current cost: 3.0176743e-31\n",
      "\n",
      "Current position:  -5.493336358815607e-16\n",
      "Current cost: 3.0176743e-31\n",
      "\n",
      "Current position:  -5.493336358815607e-16\n",
      "Current cost: 3.0176743e-31\n",
      "\n",
      "Current position:  -5.493336358815607e-16\n",
      "Current cost: 3.0176743e-31\n",
      "\n",
      "Current position:  -5.493336358815607e-16\n",
      "Current cost: 3.0176743e-31\n",
      "Optimised_position:  -5.493336358815607e-16\n",
      "Final_cost:  3.0176743e-31\n"
     ]
    },
    {
     "data": {
      "image/png": "[encoded data removed]",
      "text/plain": [
       "<matplotlib.figure.Figure at 0x7f9e43ca9a50>"
      ]
     },
     "metadata": {},
     "output_type": "display_data"
    },
    {
     "data": {
      "image/png": "[encoded data removed]",
      "text/plain": [
       "<matplotlib.figure.Figure at 0x7f9e1ab0c550>"
      ]
     },
     "metadata": {},
     "output_type": "display_data"
    }
   ],
   "source": [
    "# Now run the simulation on this curve:\n",
    "# run the simulation n times from start position -1000:\n",
    "last_pos, last_cost, x_vals, y_vals = simulate(y, x, -1000, \n",
    "                                               modified_newton_raphson, no_of_iterations=150, feed_back=True)\n",
    "\n",
    "plt.figure().suptitle(\"Simulation: Positions Plot\")\n",
    "plt.plot(x_vals);\n",
    "\n",
    "plt.figure().suptitle(\"Simulation: Cost Plot\")\n",
    "plt.plot(y_vals);\n",
    "\n",
    "# print the final values:\n",
    "print(\"Optimised_position: \", last_pos)\n",
    "print(\"Final_cost: \", last_cost)"
   ]
  },
  {
   "cell_type": "code",
   "execution_count": 22,
   "metadata": {
    "collapsed": true
   },
   "outputs": [],
   "source": [
    "# define the function for optimization\n",
    "y = tf.exp(x) # we use the square function"
   ]
  },
  {
   "cell_type": "code",
   "execution_count": 23,
   "metadata": {},
   "outputs": [
    {
     "data": {
      "image/png": "[encoded data removed]",
      "text/plain": [
       "<matplotlib.figure.Figure at 0x7f3b6d278a50>"
      ]
     },
     "metadata": {},
     "output_type": "display_data"
    }
   ],
   "source": [
    "# plot the function:\n",
    "with tf.Session() as sess:\n",
    "    y_vals = [] # initialize to empty list\n",
    "    for x_val in range(-100, 100):\n",
    "        y_vals.append(sess.run(y, feed_dict={x: x_val}))\n",
    "    # y_vals contains the y_values for the domain [-100, 100]\n",
    "    \n",
    "plt.figure().suptitle(\"The optimization objective function: \")\n",
    "plt.plot(range(-100, 100), y_vals);"
   ]
  },
  {
   "cell_type": "code",
   "execution_count": 24,
   "metadata": {
    "scrolled": true
   },
   "outputs": [
    {
     "name": "stdout",
     "output_type": "stream",
     "text": [
      "\n",
      "Current position:  10\n",
      "Current cost: 22026.5\n",
      "\n",
      "Current position:  9.00004535913\n",
      "Current cost: 8103.46\n",
      "\n",
      "Current position:  8.00016874075\n",
      "Current cost: 2981.46\n",
      "\n",
      "Current position:  7.00050395727\n",
      "Current cost: 1097.19\n",
      "\n",
      "Current position:  6.00141447783\n",
      "Current cost: 404.0\n",
      "\n",
      "Current position:  5.00388360023\n",
      "Current cost: 148.991\n",
      "\n",
      "Current position:  4.01055067778\n",
      "Current cost: 55.1772\n",
      "\n",
      "Current position:  3.02835148573\n",
      "Current cost: 20.6631\n",
      "\n",
      "Current position:  2.07451283932\n",
      "Current cost: 7.96067\n",
      "\n",
      "Current position:  1.18611168861\n",
      "Current cost: 3.27432\n",
      "\n",
      "Current position:  0.420066773891\n",
      "Current cost: 1.52206\n",
      "\n",
      "Current position:  -0.183432400227\n",
      "Current cost: 0.832408\n",
      "\n",
      "Current position:  -0.637702435255\n",
      "Current cost: 0.528505\n",
      "\n",
      "Current position:  -0.983468532562\n",
      "Current cost: 0.374012\n",
      "\n",
      "Current position:  -1.25567263365\n",
      "Current cost: 0.284884\n",
      "\n",
      "Current position:  -1.47739234567\n",
      "Current cost: 0.228232\n",
      "\n",
      "Current position:  -1.66321395338\n",
      "Current cost: 0.189529\n",
      "\n",
      "Current position:  -1.82254499197\n",
      "Current cost: 0.161614\n",
      "\n",
      "Current position:  -1.96167376637\n",
      "Current cost: 0.140623\n",
      "\n",
      "Current position:  -2.08495978266\n",
      "Current cost: 0.124312\n",
      "\n",
      "Current position:  -2.19552704692\n",
      "Current cost: 0.1113\n",
      "\n",
      "Current position:  -2.29567991942\n",
      "Current cost: 0.100693\n",
      "\n",
      "Current position:  -2.38716130704\n",
      "Current cost: 0.0918902\n",
      "\n",
      "Current position:  -2.47131827474\n",
      "Current cost: 0.0844734\n",
      "\n",
      "Current position:  -2.5492117703\n",
      "Current cost: 0.0781432\n",
      "\n",
      "Current position:  -2.62169122696\n",
      "Current cost: 0.0726798\n",
      "\n",
      "Current position:  -2.68944662064\n",
      "Current cost: 0.0679185\n",
      "\n",
      "Current position:  -2.75304558873\n",
      "Current cost: 0.0637335\n",
      "\n",
      "Current position:  -2.81296046451\n",
      "Current cost: 0.060027\n",
      "\n",
      "Current position:  -2.86958828941\n",
      "Current cost: 0.0567223\n",
      "\n",
      "Current position:  -2.92326584458\n",
      "Current cost: 0.0537578\n",
      "\n",
      "Current position:  -2.97428119928\n",
      "Current cost: 0.0510841\n",
      "\n",
      "Current position:  -3.02288257703\n",
      "Current cost: 0.0486608\n",
      "\n",
      "Current position:  -3.06928533688\n",
      "Current cost: 0.0464543\n",
      "\n",
      "Current position:  -3.11367747188\n",
      "Current cost: 0.0444372\n",
      "\n",
      "Current position:  -3.15622405708\n",
      "Current cost: 0.0425862\n",
      "\n",
      "Current position:  -3.19707079232\n",
      "Current cost: 0.0408818\n",
      "\n",
      "Current position:  -3.23634689674\n",
      "Current cost: 0.0393072\n",
      "\n",
      "Current position:  -3.27416750044\n",
      "Current cost: 0.0378484\n",
      "\n",
      "Current position:  -3.31063560769\n",
      "Current cost: 0.036493\n",
      "\n",
      "Current position:  -3.34584373608\n",
      "Current cost: 0.0352305\n",
      "\n",
      "Current position:  -3.37987526879\n",
      "Current cost: 0.0340517\n",
      "\n",
      "Current position:  -3.41280563921\n",
      "Current cost: 0.0329486\n",
      "\n",
      "Current position:  -3.44470328838\n",
      "Current cost: 0.0319142\n",
      "\n",
      "Current position:  -3.47563049942\n",
      "Current cost: 0.0309423\n",
      "\n",
      "Current position:  -3.50564412586\n",
      "Current cost: 0.0300274\n",
      "\n",
      "Current position:  -3.53479618952\n",
      "Current cost: 0.0291647\n",
      "\n",
      "Current position:  -3.56313441321\n",
      "Current cost: 0.0283498\n",
      "\n",
      "Current position:  -3.59070268087\n",
      "Current cost: 0.0275789\n",
      "\n",
      "Current position:  -3.61754143797\n",
      "Current cost: 0.0268486\n",
      "\n",
      "Current position:  -3.64368803985\n",
      "Current cost: 0.0261557\n",
      "\n",
      "Current position:  -3.66917705908\n",
      "Current cost: 0.0254974\n",
      "\n",
      "Current position:  -3.69404054992\n",
      "Current cost: 0.0248713\n",
      "\n",
      "Current position:  -3.71830828302\n",
      "Current cost: 0.024275\n",
      "\n",
      "Current position:  -3.74200797454\n",
      "Current cost: 0.0237065\n",
      "\n",
      "Current position:  -3.76516544633\n",
      "Current cost: 0.0231638\n",
      "\n",
      "Current position:  -3.78780481592\n",
      "Current cost: 0.0226453\n",
      "\n",
      "Current position:  -3.80994862132\n",
      "Current cost: 0.0221493\n",
      "\n",
      "Current position:  -3.83161797374\n",
      "Current cost: 0.0216745\n",
      "\n",
      "Current position:  -3.85283267125\n",
      "Current cost: 0.0212195\n",
      "\n",
      "Current position:  -3.87361130491\n",
      "Current cost: 0.0207832\n",
      "\n",
      "Current position:  -3.89397134073\n",
      "Current cost: 0.0203643\n",
      "\n",
      "Current position:  -3.91392922215\n",
      "Current cost: 0.0199619\n",
      "\n",
      "Current position:  -3.93350045569\n",
      "Current cost: 0.019575\n",
      "\n",
      "Current position:  -3.95269966125\n",
      "Current cost: 0.0192028\n",
      "\n",
      "Current position:  -3.97154065222\n",
      "Current cost: 0.0188444\n",
      "\n",
      "Current position:  -3.99003648572\n",
      "Current cost: 0.018499\n",
      "\n",
      "Current position:  -4.008199526\n",
      "Current cost: 0.0181661\n",
      "\n",
      "Current position:  -4.02604147792\n",
      "Current cost: 0.0178448\n",
      "\n",
      "Current position:  -4.04357345402\n",
      "Current cost: 0.0175347\n",
      "\n",
      "Current position:  -4.06080599129\n",
      "Current cost: 0.0172351\n",
      "\n",
      "Current position:  -4.07774910145\n",
      "Current cost: 0.0169456\n",
      "\n",
      "Current position:  -4.09441229701\n",
      "Current cost: 0.0166655\n",
      "\n",
      "Current position:  -4.11080464534\n",
      "Current cost: 0.0163946\n",
      "\n",
      "Current position:  -4.12693477795\n",
      "Current cost: 0.0161322\n",
      "\n",
      "Current position:  -4.14281090908\n",
      "Current cost: 0.0158782\n",
      "\n",
      "Current position:  -4.15844089165\n",
      "Current cost: 0.0156319\n",
      "\n",
      "Current position:  -4.17383220512\n",
      "Current cost: 0.0153932\n",
      "\n",
      "Current position:  -4.18899200112\n",
      "Current cost: 0.0151616\n",
      "\n",
      "Current position:  -4.20392712113\n",
      "Current cost: 0.0149368\n",
      "\n",
      "Current position:  -4.21864410024\n",
      "Current cost: 0.0147186\n",
      "\n",
      "Current position:  -4.23314919323\n",
      "Current cost: 0.0145066\n",
      "\n",
      "Current position:  -4.24744839594\n",
      "Current cost: 0.0143007\n",
      "\n",
      "Current position:  -4.26154744625\n",
      "Current cost: 0.0141005\n",
      "\n",
      "Current position:  -4.27545185108\n",
      "Current cost: 0.0139058\n",
      "\n",
      "Current position:  -4.2891668994\n",
      "Current cost: 0.0137163\n",
      "\n",
      "Current position:  -4.30269765388\n",
      "Current cost: 0.013532\n",
      "\n",
      "Current position:  -4.31604898907\n",
      "Current cost: 0.0133525\n",
      "\n",
      "Current position:  -4.32922558114\n",
      "Current cost: 0.0131777\n",
      "\n",
      "Current position:  -4.34223193582\n",
      "Current cost: 0.0130075\n",
      "\n",
      "Current position:  -4.35507238097\n",
      "Current cost: 0.0128415\n",
      "\n",
      "Current position:  -4.36775107495\n",
      "Current cost: 0.0126797\n",
      "\n",
      "Current position:  -4.38027203642\n",
      "Current cost: 0.012522\n",
      "\n",
      "Current position:  -4.39263912942\n",
      "Current cost: 0.012368\n",
      "\n",
      "Current position:  -4.4048560746\n",
      "Current cost: 0.0122179\n",
      "\n",
      "Current position:  -4.41692646407\n",
      "Current cost: 0.0120713\n",
      "\n",
      "Current position:  -4.4288537642\n",
      "Current cost: 0.0119282\n",
      "\n",
      "Current position:  -4.44064131193\n",
      "Current cost: 0.0117884\n",
      "\n",
      "Current position:  -4.45229234081\n",
      "Current cost: 0.0116518\n",
      "\n",
      "Current position:  -4.46380996425\n",
      "Current cost: 0.0115184\n",
      "Optimised_position:  -4.47519719694\n",
      "Final_cost:  0.0115184\n"
     ]
    },
    {
     "data": {
      "image/png": "[encoded data removed]",
      "text/plain": [
       "<matplotlib.figure.Figure at 0x7f3b6d146350>"
      ]
     },
     "metadata": {},
     "output_type": "display_data"
    },
    {
     "data": {
      "image/png": "[encoded data removed]",
      "text/plain": [
       "<matplotlib.figure.Figure at 0x7f3b6d249850>"
      ]
     },
     "metadata": {},
     "output_type": "display_data"
    }
   ],
   "source": [
    "# Now run the simulation on this curve:\n",
    "# run the simulation n times from start position 1000:\n",
    "last_pos, last_cost, x_vals, y_vals = simulate(y, x, 10, \n",
    "                                               modified_newton_raphson, no_of_iterations=100, feed_back=True)\n",
    "\n",
    "plt.figure().suptitle(\"Simulation: Positions Plot\")\n",
    "plt.plot(x_vals);\n",
    "\n",
    "plt.figure().suptitle(\"Simulation: Cost Plot\")\n",
    "plt.plot(y_vals);\n",
    "\n",
    "# print the final values:\n",
    "print(\"Optimised_position: \", last_pos)\n",
    "print(\"Final_cost: \", last_cost)"
   ]
  },
  {
   "cell_type": "markdown",
   "metadata": {},
   "source": [
    "# Well, The results of this optimization technique are very good on the Synthetic functions. Let's find out in subsequent Techinques how this fares on some of the typical DL datasets. "
   ]
  }
 ],
 "metadata": {
  "kernelspec": {
   "display_name": "Python 2",
   "language": "python",
   "name": "python2"
  },
  "language_info": {
   "codemirror_mode": {
    "name": "ipython",
    "version": 2
   },
   "file_extension": ".py",
   "mimetype": "text/x-python",
   "name": "python",
   "nbconvert_exporter": "python",
   "pygments_lexer": "ipython2",
   "version": "2.7.13"
  }
 },
 "nbformat": 4,
 "nbformat_minor": 2
}
