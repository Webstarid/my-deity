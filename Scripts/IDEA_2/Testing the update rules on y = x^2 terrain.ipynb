{
 "cells": [
  {
   "cell_type": "code",
   "execution_count": 165,
   "metadata": {
    "collapsed": true
   },
   "outputs": [],
   "source": [
    "import numpy as np\n",
    "import tensorflow as tf # only these two packages required\n",
    "import matplotlib.pyplot as plt\n",
    "%matplotlib inline"
   ]
  },
  {
   "cell_type": "code",
   "execution_count": 166,
   "metadata": {
    "collapsed": true
   },
   "outputs": [],
   "source": [
    "tf.reset_default_graph()"
   ]
  },
  {
   "cell_type": "code",
   "execution_count": 167,
   "metadata": {
    "collapsed": true
   },
   "outputs": [],
   "source": [
    "x = tf.placeholder(tf.float32)\n",
    "y = tf.square(x)"
   ]
  },
  {
   "cell_type": "code",
   "execution_count": 168,
   "metadata": {},
   "outputs": [
    {
     "data": {
      "text/plain": [
       "<tf.Tensor 'Square:0' shape=<unknown> dtype=float32>"
      ]
     },
     "execution_count": 168,
     "metadata": {},
     "output_type": "execute_result"
    }
   ],
   "source": [
    "y"
   ]
  },
  {
   "cell_type": "code",
   "execution_count": 169,
   "metadata": {
    "collapsed": true
   },
   "outputs": [],
   "source": [
    "sess = tf.InteractiveSession()"
   ]
  },
  {
   "cell_type": "code",
   "execution_count": 170,
   "metadata": {},
   "outputs": [
    {
     "data": {
      "text/plain": [
       "array([  1.,   4.,   9.,  16.,  25.], dtype=float32)"
      ]
     },
     "execution_count": 170,
     "metadata": {},
     "output_type": "execute_result"
    }
   ],
   "source": [
    "y.eval(feed_dict={x: [1, 2, 3, 4, 5]})"
   ]
  },
  {
   "cell_type": "code",
   "execution_count": 171,
   "metadata": {},
   "outputs": [],
   "source": [
    "# define the gradients of y with respect to x\n",
    "dy_dx = tf.squeeze(tf.stack(tf.gradients(y, x)))"
   ]
  },
  {
   "cell_type": "code",
   "execution_count": 172,
   "metadata": {},
   "outputs": [
    {
     "data": {
      "text/plain": [
       "<tf.Tensor 'Squeeze:0' shape=<unknown> dtype=float32>"
      ]
     },
     "execution_count": 172,
     "metadata": {},
     "output_type": "execute_result"
    }
   ],
   "source": [
    "dy_dx"
   ]
  },
  {
   "cell_type": "code",
   "execution_count": 173,
   "metadata": {},
   "outputs": [
    {
     "data": {
      "text/plain": [
       "8.0"
      ]
     },
     "execution_count": 173,
     "metadata": {},
     "output_type": "execute_result"
    }
   ],
   "source": [
    "dy_dx.eval(feed_dict={x: 4})"
   ]
  },
  {
   "cell_type": "code",
   "execution_count": 174,
   "metadata": {},
   "outputs": [
    {
     "data": {
      "text/plain": [
       "array([  2.,   4.,   6.,   8.,  10.], dtype=float32)"
      ]
     },
     "execution_count": 174,
     "metadata": {},
     "output_type": "execute_result"
    }
   ],
   "source": [
    "dy_dx.eval(feed_dict={x: [1, 2, 3, 4, 5]})"
   ]
  },
  {
   "cell_type": "code",
   "execution_count": 182,
   "metadata": {
    "collapsed": true
   },
   "outputs": [],
   "source": [
    "g = 9.8; mu = 5.4"
   ]
  },
  {
   "cell_type": "code",
   "execution_count": 183,
   "metadata": {
    "collapsed": true
   },
   "outputs": [],
   "source": [
    "acceleration = (g * (dy_dx + (-tf.sign(dy_dx) * mu))) / tf.sqrt(1 + tf.square(dy_dx))"
   ]
  },
  {
   "cell_type": "code",
   "execution_count": 184,
   "metadata": {},
   "outputs": [
    {
     "data": {
      "text/plain": [
       "9.5352812"
      ]
     },
     "execution_count": 184,
     "metadata": {},
     "output_type": "execute_result"
    }
   ],
   "source": [
    "acceleration.eval(feed_dict={x: 100})"
   ]
  },
  {
   "cell_type": "markdown",
   "metadata": {},
   "source": [
    "# Define the simulation of these values"
   ]
  },
  {
   "cell_type": "code",
   "execution_count": 185,
   "metadata": {
    "collapsed": true
   },
   "outputs": [],
   "source": [
    "start_position = 300"
   ]
  },
  {
   "cell_type": "code",
   "execution_count": 202,
   "metadata": {
    "scrolled": true
   },
   "outputs": [
    {
     "name": "stdout",
     "output_type": "stream",
     "text": [
      "X = 300 V = 0\n",
      "obtained_acceleration = 9.71179\n",
      "\n",
      "X = 285.432320595 V = 9.71178627014\n",
      "obtained_acceleration = 9.70728\n",
      "\n",
      "X = 261.159608364 V = 19.4190702438\n",
      "obtained_acceleration = 9.69866\n",
      "\n",
      "X = 227.192542553 V = 29.1177339554\n",
      "obtained_acceleration = 9.68351\n",
      "\n",
      "X = 183.549540997 V = 38.8012456894\n",
      "obtained_acceleration = 9.65581\n",
      "\n",
      "X = 130.264585495 V = 48.4570522308\n",
      "obtained_acceleration = 9.5968\n",
      "\n",
      "X = 67.4123263359 V = 58.0538568497\n",
      "obtained_acceleration = 9.40723\n",
      "\n",
      "X = -4.75237751007 V = 67.4610881805\n",
      "obtained_acceleration = -4.20903\n",
      "\n",
      "X = -65.8999218941 V = 63.2520589828\n",
      "obtained_acceleration = -9.39821\n",
      "\n",
      "X = -115.054665089 V = 53.8538484573\n",
      "obtained_acceleration = -9.56993\n",
      "\n",
      "X = -154.55361557 V = 44.2839164734\n",
      "obtained_acceleration = -9.62875\n",
      "\n",
      "X = -184.394411564 V = 34.655169487\n",
      "obtained_acceleration = -9.65647\n",
      "\n",
      "X = -204.564878464 V = 24.9987010956\n",
      "obtained_acceleration = -9.67062\n",
      "\n",
      "X = -215.05764389 V = 15.3280773163\n",
      "obtained_acceleration = -9.67694\n",
      "\n",
      "X = -215.870315552 V = 5.65114021301\n",
      "obtained_acceleration = -9.6774\n",
      "\n",
      "X = -207.005354881 V = -4.02626037598\n",
      "obtained_acceleration = -9.67215\n",
      "\n",
      "X = -188.470871449 V = -13.6984090805\n",
      "obtained_acceleration = -9.65957\n",
      "\n",
      "X = -160.283103466 V = -23.3579816818\n",
      "obtained_acceleration = -9.63487\n",
      "\n",
      "X = -122.47281599 V = -32.992852211\n",
      "obtained_acceleration = -9.58387\n",
      "\n",
      "X = -75.1041545868 V = -42.5767250061\n",
      "obtained_acceleration = -9.44748\n",
      "\n",
      "X = -18.3562078476 V = -52.0242061615\n",
      "obtained_acceleration = -8.35543\n",
      "\n",
      "X = 46.2011384964 V = -60.3796329498\n",
      "obtained_acceleration = 9.22675\n",
      "\n",
      "X = 92.7406516075 V = -51.1528863907\n",
      "obtained_acceleration = 9.51455\n",
      "\n",
      "X = 129.621712685 V = -41.6383361816\n",
      "obtained_acceleration = 9.5958\n",
      "\n",
      "X = 156.866353989 V = -32.0425395966\n",
      "obtained_acceleration = 9.63127\n",
      "\n",
      "X = 174.461983681 V = -22.4112663269\n",
      "obtained_acceleration = 9.64829\n",
      "\n",
      "X = 182.400808334 V = -12.7629718781\n",
      "obtained_acceleration = 9.6549\n",
      "\n",
      "X = 180.681432247 V = -3.10807323456\n",
      "obtained_acceleration = 9.65352\n",
      "\n",
      "X = 169.309228897 V = 6.54544448853\n",
      "obtained_acceleration = 9.64368\n",
      "\n",
      "X = 148.298270702 V = 16.1891202927\n",
      "obtained_acceleration = 9.62152\n",
      "\n",
      "X = 117.676867485 V = 25.8106422424\n",
      "obtained_acceleration = 9.57506\n",
      "\n",
      "X = 77.503633976 V = 35.3857030869\n",
      "obtained_acceleration = 9.4584\n",
      "\n",
      "X = 27.9303297997 V = 44.8441038132\n",
      "obtained_acceleration = 8.85122\n",
      "\n",
      "X = -30.1906113625 V = 53.6953287125\n",
      "obtained_acceleration = -8.92235\n",
      "\n",
      "X = -70.5024223328 V = 44.772983551\n",
      "obtained_acceleration = -9.42446\n",
      "\n",
      "X = -101.138720989 V = 35.3485269547\n",
      "obtained_acceleration = -9.53826\n",
      "\n",
      "X = -122.179852962 V = 25.8102636337\n",
      "obtained_acceleration = -9.58335\n",
      "\n",
      "X = -133.615085602 V = 16.2269096375\n",
      "obtained_acceleration = -9.6019\n",
      "\n",
      "X = -135.439142227 V = 6.62500762939\n",
      "obtained_acceleration = -9.60457\n",
      "\n",
      "X = -127.657294273 V = -2.9795627594\n",
      "obtained_acceleration = -9.59265\n",
      "\n",
      "X = -110.288751602 V = -12.5722160339\n",
      "obtained_acceleration = -9.55999\n",
      "\n",
      "X = -83.3765563965 V = -22.1322021484\n",
      "obtained_acceleration = -9.48247\n",
      "\n",
      "X = -47.0206427574 V = -31.6146764755\n",
      "obtained_acceleration = -9.23675\n",
      "\n",
      "X = -1.55084753036 V = -40.8514223099\n",
      "obtained_acceleration = 6.91132\n",
      "\n",
      "X = 28.9335944653 V = -33.9401021004\n",
      "obtained_acceleration = 8.88416\n",
      "\n",
      "X = 49.5474493504 V = -25.0559372902\n",
      "obtained_acceleration = 9.26549\n",
      "\n",
      "X = 60.7051451206 V = -15.7904429436\n",
      "obtained_acceleration = 9.3638\n",
      "\n",
      "X = 62.4498808384 V = -6.42663812637\n",
      "obtained_acceleration = 9.376\n",
      "\n",
      "X = 54.8125197887 V = 2.94936132431\n",
      "obtained_acceleration = 9.31688\n",
      "\n",
      "X = 37.8878438473 V = 12.2662377357\n",
      "obtained_acceleration = 9.10083\n",
      "\n",
      "X = 11.9703595638 V = 21.3670687675\n",
      "obtained_acceleration = 7.58293\n",
      "\n",
      "X = -20.77110219 V = 28.9499974251\n",
      "obtained_acceleration = -8.52365\n",
      "\n",
      "X = -36.9356315136 V = 20.4263520241\n",
      "obtained_acceleration = -9.08279\n",
      "\n",
      "X = -43.7378036976 V = 11.343565464\n",
      "obtained_acceleration = -9.19443\n",
      "\n",
      "X = -41.2897236347 V = 2.14913511276\n",
      "obtained_acceleration = -9.15849\n",
      "\n",
      "X = -29.7011220455 V = -7.00935602188\n",
      "obtained_acceleration = -8.90786\n",
      "\n",
      "X = -9.32997202873 V = -15.9172186852\n",
      "obtained_acceleration = -6.954\n",
      "\n",
      "X = 17.0182466507 V = -22.8712186813\n",
      "obtained_acceleration = 8.24164\n",
      "\n",
      "X = 27.5270023346 V = -14.629576683\n",
      "obtained_acceleration = 8.83731\n",
      "\n",
      "X = 28.9006214142 V = -5.79227161407\n",
      "obtained_acceleration = 8.88312\n",
      "\n",
      "X = 21.3682136536 V = 3.09084796906\n",
      "obtained_acceleration = 8.55937\n",
      "\n",
      "X = 5.43831348419 V = 11.6502161026\n",
      "obtained_acceleration = 4.9138\n",
      "\n",
      "X = -13.5825972557 V = 16.5640125275\n",
      "obtained_acceleration = -7.8466\n",
      "\n",
      "X = -18.3767025471 V = 8.7174077034\n",
      "obtained_acceleration = -8.35704\n",
      "\n",
      "X = -14.5585496426 V = 0.360367298126\n",
      "obtained_acceleration = -7.97781\n",
      "\n",
      "X = -2.9522049427 V = -7.61744070053\n",
      "obtained_acceleration = -0.825452\n",
      "\n",
      "X = 5.90341416001 V = -8.44289296865\n",
      "obtained_acceleration = 5.29888\n",
      "\n",
      "X = 6.39799270034 V = -3.1440166831\n",
      "obtained_acceleration = 5.64711\n",
      "\n",
      "X = 1.07134583592 V = 2.50309234858\n",
      "obtained_acceleration = -13.5\n",
      "\n",
      "X = 18.8183235824 V = -10.9969543815\n",
      "obtained_acceleration = 8.39096\n",
      "\n",
      "X = 17.2288354933 V = -2.60599273443\n",
      "obtained_acceleration = 8.26073\n",
      "\n",
      "X = 7.44374069571 V = 5.65473228693\n",
      "obtained_acceleration = 6.23129\n",
      "\n",
      "X = -7.55793353915 V = 11.8860269189\n",
      "obtained_acceleration = -6.2853\n",
      "\n",
      "X = -10.016005069 V = 5.60072332621\n",
      "obtained_acceleration = -7.14933\n",
      "\n",
      "X = -4.89273962379 V = -1.54860252142\n",
      "obtained_acceleration = -4.36923\n",
      "\n",
      "X = 3.20971044898 V = -5.91783422232\n",
      "obtained_acceleration = 1.53772\n",
      "\n",
      "X = 6.82096526027 V = -4.38011461496\n",
      "obtained_acceleration = 5.90494\n",
      "\n",
      "X = 2.343670398 V = 1.52482503653\n",
      "obtained_acceleration = -1.45719\n",
      "\n",
      "X = 3.00463220477 V = 0.0676338076591\n",
      "obtained_acceleration = 0.980119\n",
      "\n",
      "X = 1.46681928635 V = 1.04775321484\n",
      "obtained_acceleration = -7.79841\n",
      "\n",
      "X = 12.1166852713 V = -6.750659585\n",
      "obtained_acceleration = 7.60976\n",
      "\n",
      "X = 7.45270729065 V = 0.859098792076\n",
      "obtained_acceleration = 6.2356\n",
      "\n",
      "X = -2.75978434086 V = 7.09469401836\n",
      "obtained_acceleration = -0.208893\n",
      "\n",
      "X = -9.54113872349 V = 6.88580092788\n",
      "obtained_acceleration = -7.01712\n",
      "\n",
      "X = -5.90126340091 V = -0.131316572428\n",
      "obtained_acceleration = -5.29723\n",
      "\n",
      "X = 2.17590497434 V = -5.42855110765\n",
      "obtained_acceleration = -2.3005\n",
      "\n",
      "X = 11.0552091748 V = -7.72905316949\n",
      "obtained_acceleration = 7.39899\n",
      "\n",
      "X = 7.68577067554 V = -0.330058723688\n",
      "obtained_acceleration = 6.34386\n",
      "\n",
      "X = -1.49996654689 V = 6.01380524039\n",
      "obtained_acceleration = 7.43803\n",
      "\n",
      "X = -18.670823589 V = 13.4518397748\n",
      "obtained_acceleration = -8.37981\n",
      "\n",
      "X = -19.5529450029 V = 5.07202753425\n",
      "obtained_acceleration = -8.44399\n",
      "\n",
      "X = -11.9589864761 V = -3.37196317315\n",
      "obtained_acceleration = -7.58082\n",
      "\n",
      "X = 2.78419966996 V = -10.9527784884\n",
      "obtained_acceleration = 0.291705\n",
      "\n",
      "X = 13.2994210422 V = -10.6610737443\n",
      "obtained_acceleration = 7.80493\n",
      "\n",
      "X = 12.2531051934 V = -2.85614734888\n",
      "obtained_acceleration = 7.63419\n",
      "\n",
      "X = 3.65796026587 V = 4.77804750204\n",
      "obtained_acceleration = 2.54282\n",
      "\n",
      "X = -4.93431040645 V = 7.32086294889\n",
      "obtained_acceleration = -4.41494\n",
      "\n",
      "X = -5.63276353478 V = 2.90592306852\n",
      "obtained_acceleration = -5.0825\n",
      "\n",
      "X = -0.914938062429 V = -2.17657595873\n",
      "obtained_acceleration = 16.7781\n",
      "\n",
      "X = -23.9054820836 V = 14.6015040278\n",
      "obtained_acceleration = -8.69124\n",
      "\n"
     ]
    }
   ],
   "source": [
    "position = start_position; velocity = 0 # initial velocity is 0\n",
    "y_values = [position]\n",
    "\n",
    "for _ in range(100):\n",
    "    print \"X = \" + str(position) + \" V = \" + str(velocity)\n",
    "    a = acceleration.eval(feed_dict={x: position})\n",
    "    print \"obtained_acceleration = \" + str(a) + \"\\n\"\n",
    "    \n",
    "    # now update the velocity and the position\n",
    "    velocity = velocity + a\n",
    "    position = position - (velocity + (a / 2))\n",
    "    \n",
    "    y_values.append(position)"
   ]
  },
  {
   "cell_type": "code",
   "execution_count": 204,
   "metadata": {},
   "outputs": [
    {
     "data": {
      "text/plain": [
       "[<matplotlib.lines.Line2D at 0x7ff288abc4d0>]"
      ]
     },
     "execution_count": 204,
     "metadata": {},
     "output_type": "execute_result"
    },
    {
     "data": {
      "image/png": "[encoded data removed]",
      "text/plain": [
       "<matplotlib.figure.Figure at 0x7ff288ca8450>"
      ]
     },
     "metadata": {},
     "output_type": "display_data"
    }
   ],
   "source": [
    "plt.plot(y_values)"
   ]
  },
  {
   "cell_type": "code",
   "execution_count": 214,
   "metadata": {
    "scrolled": true
   },
   "outputs": [
    {
     "data": {
      "text/plain": [
       "-25.470125645399094"
      ]
     },
     "execution_count": 214,
     "metadata": {},
     "output_type": "execute_result"
    }
   ],
   "source": [
    "position"
   ]
  }
 ],
 "metadata": {
  "kernelspec": {
   "display_name": "Python 2",
   "language": "python",
   "name": "python2"
  },
  "language_info": {
   "codemirror_mode": {
    "name": "ipython",
    "version": 2
   },
   "file_extension": ".py",
   "mimetype": "text/x-python",
   "name": "python",
   "nbconvert_exporter": "python",
   "pygments_lexer": "ipython2",
   "version": "2.7.13"
  }
 },
 "nbformat": 4,
 "nbformat_minor": 2
}
