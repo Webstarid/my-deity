{
 "cells": [
  {
   "cell_type": "code",
   "execution_count": 1,
   "metadata": {
    "collapsed": true
   },
   "outputs": [],
   "source": [
    "import numpy as np\n",
    "import tensorflow as tf # only these two packages required\n",
    "import matplotlib.pyplot as plt\n",
    "%matplotlib inline"
   ]
  },
  {
   "cell_type": "code",
   "execution_count": 44,
   "metadata": {
    "collapsed": true
   },
   "outputs": [],
   "source": [
    "tf.reset_default_graph()"
   ]
  },
  {
   "cell_type": "code",
   "execution_count": 45,
   "metadata": {
    "collapsed": true
   },
   "outputs": [],
   "source": [
    "x = tf.placeholder(tf.float32)\n",
    "y = tf.square(x)"
   ]
  },
  {
   "cell_type": "code",
   "execution_count": 46,
   "metadata": {
    "collapsed": false
   },
   "outputs": [
    {
     "data": {
      "text/plain": [
       "<tf.Tensor 'Square:0' shape=<unknown> dtype=float32>"
      ]
     },
     "execution_count": 46,
     "metadata": {},
     "output_type": "execute_result"
    }
   ],
   "source": [
    "y"
   ]
  },
  {
   "cell_type": "code",
   "execution_count": 47,
   "metadata": {
    "collapsed": true
   },
   "outputs": [],
   "source": [
    "sess = tf.InteractiveSession()"
   ]
  },
  {
   "cell_type": "code",
   "execution_count": 48,
   "metadata": {
    "collapsed": false
   },
   "outputs": [
    {
     "data": {
      "text/plain": [
       "array([  1.,   4.,   9.,  16.,  25.], dtype=float32)"
      ]
     },
     "execution_count": 48,
     "metadata": {},
     "output_type": "execute_result"
    }
   ],
   "source": [
    "y.eval(feed_dict={x: [1, 2, 3, 4, 5]})"
   ]
  },
  {
   "cell_type": "code",
   "execution_count": 49,
   "metadata": {
    "collapsed": true
   },
   "outputs": [],
   "source": [
    "# define the gradients of y with respect to x\n",
    "dy_dx = tf.squeeze(tf.stack(tf.gradients(y, x)))"
   ]
  },
  {
   "cell_type": "code",
   "execution_count": 50,
   "metadata": {
    "collapsed": false
   },
   "outputs": [
    {
     "data": {
      "text/plain": [
       "<tf.Tensor 'Squeeze:0' shape=<unknown> dtype=float32>"
      ]
     },
     "execution_count": 50,
     "metadata": {},
     "output_type": "execute_result"
    }
   ],
   "source": [
    "dy_dx"
   ]
  },
  {
   "cell_type": "code",
   "execution_count": 51,
   "metadata": {
    "collapsed": false
   },
   "outputs": [
    {
     "data": {
      "text/plain": [
       "8.0"
      ]
     },
     "execution_count": 51,
     "metadata": {},
     "output_type": "execute_result"
    }
   ],
   "source": [
    "dy_dx.eval(feed_dict={x: 4})"
   ]
  },
  {
   "cell_type": "code",
   "execution_count": 52,
   "metadata": {
    "collapsed": false
   },
   "outputs": [
    {
     "data": {
      "text/plain": [
       "array([  2.,   4.,   6.,   8.,  10.], dtype=float32)"
      ]
     },
     "execution_count": 52,
     "metadata": {},
     "output_type": "execute_result"
    }
   ],
   "source": [
    "dy_dx.eval(feed_dict={x: [1, 2, 3, 4, 5]})"
   ]
  },
  {
   "cell_type": "code",
   "execution_count": 53,
   "metadata": {
    "collapsed": true
   },
   "outputs": [],
   "source": [
    "g = 9.8; mu = 0.5"
   ]
  },
  {
   "cell_type": "code",
   "execution_count": 54,
   "metadata": {
    "collapsed": true
   },
   "outputs": [],
   "source": [
    "acceleration = (g * (dy_dx + (-tf.sign(dy_dx) * mu))) / tf.sqrt(1 + tf.square(dy_dx))"
   ]
  },
  {
   "cell_type": "code",
   "execution_count": 55,
   "metadata": {
    "collapsed": false
   },
   "outputs": [
    {
     "data": {
      "text/plain": [
       "9.7753782"
      ]
     },
     "execution_count": 55,
     "metadata": {},
     "output_type": "execute_result"
    }
   ],
   "source": [
    "acceleration.eval(feed_dict={x: 100})"
   ]
  },
  {
   "cell_type": "markdown",
   "metadata": {},
   "source": [
    "# Define the simulation of these values"
   ]
  },
  {
   "cell_type": "code",
   "execution_count": 56,
   "metadata": {
    "collapsed": true
   },
   "outputs": [],
   "source": [
    "start_position = 100"
   ]
  },
  {
   "cell_type": "code",
   "execution_count": 76,
   "metadata": {
    "collapsed": false,
    "scrolled": true
   },
   "outputs": [
    {
     "name": "stdout",
     "output_type": "stream",
     "text": [
      "X = 100 V = 0\n",
      "obtained_acceleration = 9.77538\n",
      "obtained_dt = 1 obtained_dx = 200.0\n",
      "\n",
      "X = 85.3369326591 V = 9.77537822723\n",
      "obtained_acceleration = 9.77112\n",
      "obtained_dt = 1 obtained_dx = 170.674\n",
      "\n",
      "X = 60.9048700333 V = 19.5465011597\n",
      "obtained_acceleration = 9.75944\n",
      "obtained_dt = 1 obtained_dx = 121.81\n",
      "\n",
      "X = 26.7192025185 V = 29.3059453964\n",
      "obtained_acceleration = 9.70661\n",
      "obtained_dt = 1 obtained_dx = 53.4384\n",
      "\n",
      "X = -17.1466531754 V = 39.0125522614\n",
      "obtained_acceleration = -9.65301\n",
      "obtained_dt = 1 obtained_dx = -34.2933\n",
      "\n",
      "X = -41.6796870232 V = 29.3595399857\n",
      "obtained_acceleration = -9.74052\n",
      "obtained_dt = 1 obtained_dx = -83.3594\n",
      "\n",
      "X = -56.4284491539 V = 19.6190214157\n",
      "obtained_acceleration = -9.7562\n",
      "obtained_dt = 1 obtained_dx = -112.857\n",
      "\n",
      "X = -61.4131708145 V = 9.86282157898\n",
      "obtained_acceleration = -9.75978\n",
      "obtained_dt = 1 obtained_dx = -122.826\n",
      "\n",
      "X = -56.6363182068 V = 0.103038787842\n",
      "obtained_acceleration = -9.75636\n",
      "obtained_dt = 1 obtained_dx = -113.273\n",
      "\n",
      "X = -42.1048154831 V = -9.65332221985\n",
      "obtained_acceleration = -9.74113\n",
      "obtained_dt = 1 obtained_dx = -84.2096\n",
      "\n",
      "X = -17.8398041725 V = -19.3944482803\n",
      "obtained_acceleration = -9.65887\n",
      "obtained_dt = 1 obtained_dx = -35.6796\n",
      "\n",
      "X = 16.0429544449 V = -29.0533218384\n",
      "obtained_acceleration = 9.6426\n",
      "obtained_dt = 1 obtained_dx = 32.0859\n",
      "\n",
      "X = 30.632370472 V = -19.4107179642\n",
      "obtained_acceleration = 9.71873\n",
      "obtained_dt = 1 obtained_dx = 61.2647\n",
      "\n",
      "X = 35.4650006294 V = -9.6919927597\n",
      "obtained_acceleration = 9.72995\n",
      "obtained_dt = 1 obtained_dx = 70.93\n",
      "\n",
      "X = 30.5620670319 V = 0.0379581451416\n",
      "obtained_acceleration = 9.71853\n",
      "obtained_dt = 1 obtained_dx = 61.1241\n",
      "\n",
      "X = 15.9463071823 V = 9.75649261475\n",
      "obtained_acceleration = 9.64162\n",
      "obtained_dt = 1 obtained_dx = 31.8926\n",
      "\n",
      "X = -8.27261638641 V = 19.3981132507\n",
      "obtained_acceleration = -9.48653\n",
      "obtained_dt = 1 obtained_dx = -16.5452\n",
      "\n",
      "X = -13.4409341812 V = 9.91158294678\n",
      "obtained_acceleration = -9.61107\n",
      "obtained_dt = 1 obtained_dx = -26.8819\n",
      "\n",
      "X = -8.93590545654 V = 0.300508499146\n",
      "obtained_acceleration = -9.51095\n",
      "obtained_dt = 1 obtained_dx = -17.8718\n",
      "\n",
      "X = 5.03000831604 V = -9.21043968201\n",
      "obtained_acceleration = 9.26725\n",
      "obtained_dt = 1 obtained_dx = 10.06\n",
      "\n",
      "X = 0.339571475983 V = 0.0568113327026\n",
      "obtained_acceleration = 1.45233\n",
      "obtained_dt = 1.47244405188 obtained_dx = 0.679143\n",
      "\n",
      "X = -4.46726151252 V = 2.19528827451\n",
      "obtained_acceleration = -9.19416\n",
      "obtained_dt = 1 obtained_dx = -8.93452\n",
      "\n",
      "X = 7.12868518307 V = -6.99886837222\n",
      "obtained_acceleration = 9.43314\n",
      "obtained_dt = 1 obtained_dx = 14.2574\n",
      "\n",
      "X = -0.0221618682986 V = 2.4342752435\n",
      "obtained_acceleration = 4.46125\n",
      "obtained_dt = 22.5612756094 obtained_dx = -0.0443237\n",
      "\n",
      "X = -3461.17923812 V = 103.085697635\n",
      "obtained_acceleration = -9.79929\n",
      "obtained_dt = 1 obtained_dx = -6922.36\n",
      "\n"
     ]
    }
   ],
   "source": [
    "position = start_position; velocity = 0 # initial velocity is 0\n",
    "y_values = [position]\n",
    "\n",
    "for _ in range(25):\n",
    "    print \"X = \" + str(position) + \" V = \" + str(velocity)\n",
    "    dx, a = sess.run((dy_dx, acceleration), feed_dict={x: position})\n",
    "    dt = 1 / min(1, np.abs(dx))\n",
    "    print \"obtained_acceleration = \" + str(a)\n",
    "    print \"obtained_dt = \" + str(dt) + \" obtained_dx = \" + str(dx) + \"\\n\"\n",
    "    \n",
    "    # now update the velocity and the position\n",
    "    velocity = velocity + (a * dt)\n",
    "    position = position - ((velocity * dt) + ((a / 2) * (dt * dt)))\n",
    "    \n",
    "    y_values.append(position)"
   ]
  },
  {
   "cell_type": "code",
   "execution_count": 77,
   "metadata": {
    "collapsed": false,
    "scrolled": true
   },
   "outputs": [
    {
     "data": {
      "text/plain": [
       "[<matplotlib.lines.Line2D at 0x7f19244b6d90>]"
      ]
     },
     "execution_count": 77,
     "metadata": {},
     "output_type": "execute_result"
    },
    {
     "data": {
      "image/png": "[encoded data removed]",
      "text/plain": [
       "<matplotlib.figure.Figure at 0x7f192452b590>"
      ]
     },
     "metadata": {},
     "output_type": "display_data"
    }
   ],
   "source": [
    "plt.plot(y_values)"
   ]
  },
  {
   "cell_type": "code",
   "execution_count": 41,
   "metadata": {
    "collapsed": false,
    "scrolled": true
   },
   "outputs": [
    {
     "data": {
      "text/plain": [
       "4.4206496179103851"
      ]
     },
     "execution_count": 41,
     "metadata": {},
     "output_type": "execute_result"
    }
   ],
   "source": [
    "position"
   ]
  }
 ],
 "metadata": {
  "kernelspec": {
   "display_name": "Python [Root]",
   "language": "python",
   "name": "Python [Root]"
  },
  "language_info": {
   "codemirror_mode": {
    "name": "ipython",
    "version": 2
   },
   "file_extension": ".py",
   "mimetype": "text/x-python",
   "name": "python",
   "nbconvert_exporter": "python",
   "pygments_lexer": "ipython2",
   "version": "2.7.12"
  }
 },
 "nbformat": 4,
 "nbformat_minor": 2
}
