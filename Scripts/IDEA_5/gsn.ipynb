{
 "cells": [
  {
   "cell_type": "markdown",
   "metadata": {},
   "source": [
    "# GSN: Generative Symbiotic Network"
   ]
  },
  {
   "cell_type": "code",
   "execution_count": 1,
   "metadata": {},
   "outputs": [
    {
     "name": "stderr",
     "output_type": "stream",
     "text": [
      "/home/animesh/Programming/Envs/deep_learning/lib/python3.5/site-packages/h5py/__init__.py:36: FutureWarning: Conversion of the second argument of issubdtype from `float` to `np.floating` is deprecated. In future, it will be treated as `np.float64 == np.dtype(float).type`.\n",
      "  from ._conv import register_converters as _register_converters\n"
     ]
    }
   ],
   "source": [
    "# packages used for machine learning\n",
    "import tensorflow as tf\n",
    "\n",
    "# packages used for processing: \n",
    "import matplotlib.pyplot as plt # for visualization\n",
    "import numpy as np\n",
    "\n",
    "# for operating system related stuff\n",
    "import os\n",
    "import sys # for memory usage of objects\n",
    "from subprocess import check_output\n",
    "\n",
    "# import scipy image resize module\n",
    "from scipy.misc import imresize\n",
    "\n",
    "# to plot the images inline\n",
    "%matplotlib inline"
   ]
  },
  {
   "cell_type": "code",
   "execution_count": 2,
   "metadata": {},
   "outputs": [],
   "source": [
    "# Input data files are available in the \"../Data/\" directory.\n",
    "\n",
    "def exec_command(cmd):\n",
    "    '''\n",
    "        function to execute a shell command and see it's \n",
    "        output in the python console\n",
    "        @params\n",
    "        cmd = the command to be executed along with the arguments\n",
    "              ex: ['ls', '../input']\n",
    "    '''\n",
    "    print(check_output(cmd).decode(\"utf8\"))"
   ]
  },
  {
   "cell_type": "code",
   "execution_count": 3,
   "metadata": {
    "scrolled": true
   },
   "outputs": [
    {
     "name": "stdout",
     "output_type": "stream",
     "text": [
      "Data\n",
      "Error_analysis\n",
      "LICENSE\n",
      "Literature_survey\n",
      "Models\n",
      "README.md\n",
      "Res\n",
      "Scripts\n",
      "Writeup_for_publication\n",
      "\n"
     ]
    }
   ],
   "source": [
    "# check the structure of the project directory\n",
    "exec_command(['ls', '../..'])"
   ]
  },
  {
   "cell_type": "code",
   "execution_count": 55,
   "metadata": {},
   "outputs": [],
   "source": [
    "''' Set the constants for the script '''\n",
    "\n",
    "# various paths of the files\n",
    "idea = \"IDEA_5\"\n",
    "base_path = '.'\n",
    "base_model_path = './Models'\n",
    "graph_viz_path = \"./graph_viz\"\n",
    "\n",
    "# constant values:\n",
    "num_classes = 10\n",
    "seed_value = 3\n",
    "ndf = 64; ngf = ndf\n",
    "class_lr = 2e-4\n",
    "gen_lr = 2e-4\n",
    "\n",
    "summary_checkpoint = 3\n",
    "\n",
    "batch_size = 32\n",
    "loss_threshold = 1e-12"
   ]
  },
  {
   "cell_type": "code",
   "execution_count": 5,
   "metadata": {},
   "outputs": [],
   "source": [
    "np.random.seed(seed_value)\n",
    "tf.set_random_seed(3)"
   ]
  },
  {
   "cell_type": "code",
   "execution_count": 6,
   "metadata": {},
   "outputs": [
    {
     "name": "stdout",
     "output_type": "stream",
     "text": [
      "graph_viz\n",
      "gsn.ipynb\n",
      "Models\n",
      "\n"
     ]
    }
   ],
   "source": [
    "# check the contents inside the data folder\n",
    "exec_command(['ls', base_path])"
   ]
  },
  {
   "cell_type": "code",
   "execution_count": 7,
   "metadata": {},
   "outputs": [],
   "source": [
    "(x_train, y_train), (x_test, y_test) = tf.keras.datasets.cifar10.load_data()\n",
    "# range normalize the data:\n",
    "x_train = x_train / 255; x_test = x_test / 255"
   ]
  },
  {
   "cell_type": "code",
   "execution_count": 8,
   "metadata": {},
   "outputs": [
    {
     "name": "stdout",
     "output_type": "stream",
     "text": [
      "Training_data shapes: (50000, 32, 32, 3) (10000, 32, 32, 3)\n",
      "Test_data shapes: (10000, 32, 32, 3) (10000, 1)\n"
     ]
    }
   ],
   "source": [
    "# print the shape information of the collected data\n",
    "print(\"Training_data shapes:\", x_train.shape, x_test.shape)\n",
    "print(\"Test_data shapes:\", x_test.shape, y_test.shape)"
   ]
  },
  {
   "cell_type": "markdown",
   "metadata": {},
   "source": [
    "resize all the images to 64 x 64 size"
   ]
  },
  {
   "cell_type": "code",
   "execution_count": 9,
   "metadata": {},
   "outputs": [
    {
     "data": {
      "image/png": "[encoded data removed]",
      "text/plain": [
       "<Figure size 432x288 with 1 Axes>"
      ]
     },
     "metadata": {},
     "output_type": "display_data"
    }
   ],
   "source": [
    "\"\"\" Run the cell again to see different output\"\"\"\n",
    "# show a random image:\n",
    "random_image_number = np.random.randint(len(x_train))\n",
    "random_image = x_train[random_image_number]\n",
    "label = y_train[random_image_number]\n",
    "plt.figure().suptitle(\"Class: \"+str(label[0]))\n",
    "plt.imshow(random_image);"
   ]
  },
  {
   "cell_type": "markdown",
   "metadata": {},
   "source": [
    "print a small slice of the data"
   ]
  },
  {
   "cell_type": "code",
   "execution_count": 10,
   "metadata": {},
   "outputs": [
    {
     "name": "stdout",
     "output_type": "stream",
     "text": [
      "[[0.01960784 0.01960784 0.01568627 0.01568627 0.01960784]\n",
      " [0.01568627 0.01568627 0.01176471 0.01568627 0.01176471]\n",
      " [0.00392157 0.02745098 0.03137255 0.03529412 0.06666667]\n",
      " [0.14901961 0.26666667 0.28627451 0.29019608 0.23921569]\n",
      " [0.34901961 0.42745098 0.44313725 0.43137255 0.3372549 ]]\n"
     ]
    }
   ],
   "source": [
    "print(x_train[33, :5, :5, 1])"
   ]
  },
  {
   "cell_type": "markdown",
   "metadata": {},
   "source": [
    "randomly shuffle the test dataset to separate out a small fraction (2000 images) for validation"
   ]
  },
  {
   "cell_type": "code",
   "execution_count": 11,
   "metadata": {},
   "outputs": [],
   "source": [
    "# function to perform synchronous random shuffling of the training data\n",
    "def synch_random_shuffle_non_np(X, Y):\n",
    "    '''\n",
    "        ** This function takes in the parameters that are non numpy compliant dtypes such as list, tuple, etc.\n",
    "        Although this function works on numpy arrays as well, this is not as performant enough\n",
    "        @param\n",
    "        X, Y => The data to be shuffled\n",
    "        @return => The shuffled data\n",
    "    '''\n",
    "    combined = list(zip(X, Y))\n",
    "\n",
    "    # shuffle the combined list in place\n",
    "    np.random.shuffle(combined)\n",
    "\n",
    "    # extract the data back from the combined list\n",
    "    X[:], Y[:] = zip(*combined)\n",
    "\n",
    "    # return the shuffled data:\n",
    "    return X, Y"
   ]
  },
  {
   "cell_type": "code",
   "execution_count": 12,
   "metadata": {},
   "outputs": [],
   "source": [
    "x_test, y_test = synch_random_shuffle_non_np(x_test, y_test)"
   ]
  },
  {
   "cell_type": "code",
   "execution_count": 13,
   "metadata": {},
   "outputs": [
    {
     "name": "stdout",
     "output_type": "stream",
     "text": [
      "Test_data shapes: (10000, 32, 32, 3) (10000, 1)\n"
     ]
    }
   ],
   "source": [
    "# ensure the shapes are intact \n",
    "print(\"Test_data shapes:\", x_test.shape, y_test.shape)"
   ]
  },
  {
   "cell_type": "code",
   "execution_count": 14,
   "metadata": {},
   "outputs": [],
   "source": [
    "# function to split the data into train - dev sets:\n",
    "def split_train_dev(X, Y, train_percentage):\n",
    "    '''\n",
    "        function to split the given data into two small datasets (train - dev)\n",
    "        @param\n",
    "        X, Y => the data to be split\n",
    "        (** Make sure the train dimension is the first one)\n",
    "        train_percentage => the percentage which should be in the training set.\n",
    "        (**this should be in 100% not decimal)\n",
    "        @return => train_X, train_Y, test_X, test_Y\n",
    "    '''\n",
    "    m_examples = len(X)\n",
    "    assert train_percentage < 100, \"Train percentage cannot be greater than 100! NOOB!\"\n",
    "    partition_point = int((m_examples * (float(train_percentage) / 100)) + 0.5) # 0.5 is added for rounding\n",
    "\n",
    "    # construct the train_X, train_Y, test_X, test_Y sets:\n",
    "    train_X = X[: partition_point]; train_Y = Y[: partition_point]\n",
    "    test_X  = X[partition_point: ]; test_Y  = Y[partition_point: ]\n",
    "\n",
    "    assert len(train_X) + len(test_X) == m_examples, \"Something wrong in X splitting\"\n",
    "    assert len(train_Y) + len(test_Y) == m_examples, \"Something wrong in Y splitting\"\n",
    "\n",
    "    # return the constructed sets\n",
    "    return train_X, train_Y, test_X, test_Y"
   ]
  },
  {
   "cell_type": "code",
   "execution_count": 15,
   "metadata": {},
   "outputs": [],
   "source": [
    "x_test, y_test, x_valid, y_valid = split_train_dev(x_test, y_test, train_percentage=80)"
   ]
  },
  {
   "cell_type": "code",
   "execution_count": 16,
   "metadata": {},
   "outputs": [
    {
     "name": "stdout",
     "output_type": "stream",
     "text": [
      "Test (training) data shapes: (8000, 32, 32, 3) (8000, 1)\n",
      "Validation data shapes: (2000, 32, 32, 3) (2000, 1)\n"
     ]
    }
   ],
   "source": [
    "print(\"Test (training) data shapes:\", x_test.shape, y_test.shape)\n",
    "print(\"Validation data shapes:\", x_valid.shape, y_valid.shape)"
   ]
  },
  {
   "cell_type": "markdown",
   "metadata": {},
   "source": [
    "Alright! it is quite good till now..."
   ]
  },
  {
   "cell_type": "markdown",
   "metadata": {},
   "source": [
    "### Let's define the network now ... "
   ]
  },
  {
   "cell_type": "code",
   "execution_count": 32,
   "metadata": {},
   "outputs": [],
   "source": [
    "tf.reset_default_graph()"
   ]
  },
  {
   "cell_type": "code",
   "execution_count": 33,
   "metadata": {},
   "outputs": [],
   "source": [
    "# The classifier network:\n",
    "def classifier_network(x, batch_norm_mode, variable_reuse=False):\n",
    "    \"\"\" define the network computations pipeline for the input.\n",
    "        @args\n",
    "            x: input to the network computations\n",
    "            batch_norm_mode: tensor for notifying the batch_norm mode\n",
    "        @return\n",
    "            None\n",
    "            (adds the ops to the current graph in scope)\n",
    "    \"\"\"\n",
    "\n",
    "    with tf.variable_scope(\"Classifier_Network\", reuse=variable_reuse):\n",
    "        # block 1\n",
    "        x = tf.layers.conv2d(x, filters=ndf, kernel_size=4, strides=2, padding=\"same\", use_bias=False,\n",
    "                            name=\"conv_1\")\n",
    "        x = tf.nn.leaky_relu(x, alpha=0.2)\n",
    "\n",
    "        # block 2\n",
    "        x = tf.layers.conv2d(x, filters=ndf*2, kernel_size=4, strides=2, padding=\"same\", use_bias=False,\n",
    "                            name=\"conv_2\")\n",
    "        x = tf.layers.batch_normalization(x, training=batch_norm_mode,\n",
    "                                         name=\"bn_1\")\n",
    "        x = tf.nn.leaky_relu(x, alpha=0.2)\n",
    "\n",
    "        # block 3\n",
    "        x = tf.layers.conv2d(x, filters=ndf*4, kernel_size=4, strides=2, padding=\"same\", use_bias=False,\n",
    "                            name=\"conv_3\")\n",
    "        x = tf.layers.batch_normalization(x, training=batch_norm_mode,\n",
    "                                         name=\"bn_2\")\n",
    "        x = tf.nn.leaky_relu(x, alpha=0.2)\n",
    "\n",
    "        # final block\n",
    "        x = tf.layers.conv2d(x, filters=ndf*8, kernel_size=4, strides=1, padding=\"valid\", use_bias=False,\n",
    "                            name=\"conv_4\")\n",
    "        x = tf.squeeze(x, axis=(1, 2))\n",
    "    \n",
    "    return x"
   ]
  },
  {
   "cell_type": "markdown",
   "metadata": {},
   "source": [
    "Define the inputs to the graph:"
   ]
  },
  {
   "cell_type": "code",
   "execution_count": 34,
   "metadata": {},
   "outputs": [],
   "source": [
    "with tf.name_scope(\"Inputs\"):\n",
    "    x_input = tf.placeholder(tf.float32, shape=(None, 32, 32, 3), name=\"input_x\")    \n",
    "    tf.summary.image(\"Input_Images\", x_input)    \n",
    "    bn_train_mode = tf.placeholder(tf.bool, shape=(), name=\"batch_norm_mode\")\n",
    "    y_label = tf.placeholder(tf.int32, shape=(None, 1), name=\"input_labels\")"
   ]
  },
  {
   "cell_type": "markdown",
   "metadata": {},
   "source": [
    "Define the one hot encoder for the input labels"
   ]
  },
  {
   "cell_type": "code",
   "execution_count": 35,
   "metadata": {},
   "outputs": [
    {
     "name": "stdout",
     "output_type": "stream",
     "text": [
      "Encoded_Labels:  (?, 1, 10)\n"
     ]
    }
   ],
   "source": [
    "with tf.variable_scope(\"One_Hot_Encoder\"):\n",
    "    y_encoded = tf.one_hot(y_label, depth=num_classes, name=\"one_hot_encode\")\n",
    "    \n",
    "print(\"Encoded_Labels: \", y_encoded.shape)"
   ]
  },
  {
   "cell_type": "markdown",
   "metadata": {},
   "source": [
    "Define the classifer output:"
   ]
  },
  {
   "cell_type": "code",
   "execution_count": 36,
   "metadata": {},
   "outputs": [
    {
     "name": "stdout",
     "output_type": "stream",
     "text": [
      "Classifier_Network_Output_shape:  (?, 512)\n"
     ]
    }
   ],
   "source": [
    "clas_op = classifier_network(x_input, bn_train_mode)\n",
    "print(\"Classifier_Network_Output_shape: \", clas_op.shape)"
   ]
  },
  {
   "cell_type": "code",
   "execution_count": 37,
   "metadata": {},
   "outputs": [
    {
     "name": "stdout",
     "output_type": "stream",
     "text": [
      "Classifier_Network/conv_1/kernel:0 (4, 4, 3, 64)\n",
      "Classifier_Network/conv_2/kernel:0 (4, 4, 64, 128)\n",
      "Classifier_Network/bn_1/gamma:0 (128,)\n",
      "Classifier_Network/bn_1/beta:0 (128,)\n",
      "Classifier_Network/conv_3/kernel:0 (4, 4, 128, 256)\n",
      "Classifier_Network/bn_2/gamma:0 (256,)\n",
      "Classifier_Network/bn_2/beta:0 (256,)\n",
      "Classifier_Network/conv_4/kernel:0 (4, 4, 256, 512)\n"
     ]
    }
   ],
   "source": [
    "classifier_variables = tf.get_collection(tf.GraphKeys.TRAINABLE_VARIABLES, scope=\"Classifier_Network\")\n",
    "for var in classifier_variables:\n",
    "    tf.summary.histogram(var.name.split(':')[0], var)\n",
    "    print(var.name, var.shape)"
   ]
  },
  {
   "cell_type": "code",
   "execution_count": 38,
   "metadata": {},
   "outputs": [],
   "source": [
    "# classifier connection dense layer:\n",
    "def dense_classifier(x, variable_reuse=False):\n",
    "    with tf.variable_scope(\"Dense_Classifier\", reuse=variable_reuse):\n",
    "        raw_preds = tf.layers.dense(x, activation=tf.nn.relu,\n",
    "                                    units=num_classes, name=\"final_classification_layer\")\n",
    "\n",
    "        predictions = tf.nn.softmax(raw_preds)\n",
    "    \n",
    "    return raw_preds, predictions"
   ]
  },
  {
   "cell_type": "code",
   "execution_count": 39,
   "metadata": {},
   "outputs": [],
   "source": [
    "raw_preds, predictions = dense_classifier(clas_op)"
   ]
  },
  {
   "cell_type": "code",
   "execution_count": 40,
   "metadata": {},
   "outputs": [
    {
     "name": "stdout",
     "output_type": "stream",
     "text": [
      "Dense_Classifier/final_classification_layer/kernel:0 (512, 10)\n",
      "Dense_Classifier/final_classification_layer/bias:0 (10,)\n"
     ]
    }
   ],
   "source": [
    "fdc_variables = tf.get_collection(tf.GraphKeys.TRAINABLE_VARIABLES, scope=\"Dense_Classifier\")\n",
    "for var in fdc_variables:\n",
    "    tf.summary.histogram(var.name.split(':')[0], var)\n",
    "    print(var.name, var.shape)"
   ]
  },
  {
   "cell_type": "code",
   "execution_count": 41,
   "metadata": {},
   "outputs": [],
   "source": [
    "# The generator network\n",
    "def generator_network(x, batch_norm_mode):\n",
    "    \"\"\" define the network computations pipeline for the input.\n",
    "        @args\n",
    "            x: input to the network computations\n",
    "            batch_norm_mode: tensor for notifying the batch_norm mode\n",
    "        @return\n",
    "            None\n",
    "            (adds the ops to the current graph in scope)\n",
    "    \"\"\"\n",
    "\n",
    "    with tf.variable_scope(\"Generator_Network\"):\n",
    "        # block 1\n",
    "        x = tf.layers.conv2d_transpose(x, filters=ndf*4, kernel_size=4, strides=2, padding=\"valid\", use_bias=False,\n",
    "                            name=\"conv_1_transpose\")\n",
    "        x = tf.layers.batch_normalization(x, training=batch_norm_mode, name=\"bn_1\")\n",
    "        x = tf.nn.relu(x)\n",
    "        \n",
    "        # block 2\n",
    "        x = tf.layers.conv2d_transpose(x, filters=ndf*2, kernel_size=4, strides=2, padding=\"same\", use_bias=False,\n",
    "                            name=\"conv_2_transpose\")\n",
    "        x = tf.layers.batch_normalization(x, training=batch_norm_mode, name=\"bn_2\")\n",
    "        x = tf.nn.relu(x)\n",
    "        \n",
    "        # block 3\n",
    "        x = tf.layers.conv2d_transpose(x, filters=ndf, kernel_size=4, strides=2, padding=\"same\", use_bias=False,\n",
    "                            name=\"conv_3_transpose\")\n",
    "        x = tf.layers.batch_normalization(x, training=batch_norm_mode, name=\"bn_3\")\n",
    "        x = tf.nn.relu(x)\n",
    "\n",
    "        # final block \n",
    "        x = tf.layers.conv2d_transpose(x, filters=3, kernel_size=4, strides=2, padding=\"same\", use_bias=False,\n",
    "                            name=\"conv_4_transpose\")\n",
    "        x = tf.nn.sigmoid(x)\n",
    "    \n",
    "    return x"
   ]
  },
  {
   "cell_type": "code",
   "execution_count": 42,
   "metadata": {},
   "outputs": [],
   "source": [
    "with tf.variable_scope(\"Pipe\"):\n",
    "    bt_size = tf.shape(clas_op)[0]\n",
    "    noise = tf.random_normal(shape=(bt_size, 128), name=\"random_noise\")\n",
    "    generator_in = tf.concat([clas_op, noise], axis=-1, name=\"conditional_output_with_noise\")\n",
    "    generator_in = tf.expand_dims(tf.expand_dims(generator_in, axis=1, name=\"expand_dim_1\"), \n",
    "                                  axis=1, name=\"expand_dim_2\")"
   ]
  },
  {
   "cell_type": "code",
   "execution_count": 43,
   "metadata": {},
   "outputs": [
    {
     "name": "stdout",
     "output_type": "stream",
     "text": [
      "Generator_Network_input_shape: Tensor(\"Pipe/expand_dim_2:0\", shape=(?, 1, 1, 640), dtype=float32)\n"
     ]
    }
   ],
   "source": [
    "print(\"Generator_Network_input_shape:\", generator_in)"
   ]
  },
  {
   "cell_type": "code",
   "execution_count": 44,
   "metadata": {},
   "outputs": [
    {
     "name": "stdout",
     "output_type": "stream",
     "text": [
      "Generator_Network_output_shape: (?, 32, 32, 3)\n"
     ]
    }
   ],
   "source": [
    "generator_out = generator_network(generator_in, bn_train_mode)\n",
    "tf.summary.image(\"Generated_Images\", generator_out)\n",
    "print(\"Generator_Network_output_shape:\", generator_out.shape)"
   ]
  },
  {
   "cell_type": "code",
   "execution_count": 45,
   "metadata": {},
   "outputs": [
    {
     "name": "stdout",
     "output_type": "stream",
     "text": [
      "Generator_Network/conv_1_transpose/kernel:0 (4, 4, 256, 640)\n",
      "Generator_Network/bn_1/gamma:0 (256,)\n",
      "Generator_Network/bn_1/beta:0 (256,)\n",
      "Generator_Network/conv_2_transpose/kernel:0 (4, 4, 128, 256)\n",
      "Generator_Network/bn_2/gamma:0 (128,)\n",
      "Generator_Network/bn_2/beta:0 (128,)\n",
      "Generator_Network/conv_3_transpose/kernel:0 (4, 4, 64, 128)\n",
      "Generator_Network/bn_3/gamma:0 (64,)\n",
      "Generator_Network/bn_3/beta:0 (64,)\n",
      "Generator_Network/conv_4_transpose/kernel:0 (4, 4, 3, 64)\n"
     ]
    }
   ],
   "source": [
    "generator_variables = tf.get_collection(tf.GraphKeys.TRAINABLE_VARIABLES, scope=\"Generator_Network\")\n",
    "for var in generator_variables:\n",
    "    tf.summary.histogram(var.name.split(':')[0], var)\n",
    "    print(var.name, var.shape)"
   ]
  },
  {
   "cell_type": "code",
   "execution_count": 46,
   "metadata": {},
   "outputs": [
    {
     "name": "stdout",
     "output_type": "stream",
     "text": [
      "Predictions_output: (?, 10)\n"
     ]
    }
   ],
   "source": [
    "print(\"Predictions_output:\", predictions.shape)"
   ]
  },
  {
   "cell_type": "code",
   "execution_count": 47,
   "metadata": {},
   "outputs": [],
   "source": [
    "with tf.name_scope(\"Losses\"):\n",
    "    with tf.name_scope(\"classifier_loss\"):\n",
    "        class_loss = tf.reduce_sum(tf.nn.softmax_cross_entropy_with_logits_v2(logits=raw_preds, labels=y_encoded))\n",
    "    \n",
    "        tf.summary.scalar(\"classifier_loss\", class_loss)\n",
    "    \n",
    "    with tf.name_scope(\"generator_loss\"):\n",
    "        gen_loss = tf.reduce_sum(tf.nn.softmax_cross_entropy_with_logits_v2(\n",
    "            logits=dense_classifier(\n",
    "                        classifier_network(generator_out, bn_train_mode, variable_reuse=True),\n",
    "                        variable_reuse=True\n",
    "                   )[0],\n",
    "            labels=y_encoded))\n",
    "        \n",
    "        tf.summary.scalar(\"generator_loss\", gen_loss)"
   ]
  },
  {
   "cell_type": "code",
   "execution_count": 48,
   "metadata": {},
   "outputs": [],
   "source": [
    "with tf.name_scope(\"Accuracy\"):\n",
    "    correct_vals = tf.cast(tf.equal(tf.argmax(predictions, axis=-1, output_type=tf.int32), y_label), tf.float32)\n",
    "    accuracy = tf.reduce_mean(correct_vals, name=\"accuracy\")\n",
    "    tf.summary.scalar(\"Accuracy\", accuracy)"
   ]
  },
  {
   "cell_type": "code",
   "execution_count": 49,
   "metadata": {},
   "outputs": [],
   "source": [
    "with tf.name_scope(\"Optimizers\"):\n",
    "    with tf.name_scope(\"classifier_optimizer\"):\n",
    "        classifier_optimizer = tf.train.AdamOptimizer(learning_rate=class_lr).minimize(class_loss, \n",
    "                                                    var_list=classifier_variables + fdc_variables, name=\"clas_op\")\n",
    "    \n",
    "    with tf.name_scope(\"generator_optimizer\"):\n",
    "        generator_optimizer = tf.train.AdamOptimizer(learning_rate=gen_lr).minimize(gen_loss,\n",
    "                                                    var_list=generator_variables, name=\"gen_op\")"
   ]
  },
  {
   "cell_type": "code",
   "execution_count": 50,
   "metadata": {},
   "outputs": [],
   "source": [
    "with tf.name_scope(\"Errands\"):\n",
    "    init = tf.global_variables_initializer()\n",
    "    all_summaries = tf.summary.merge_all()"
   ]
  },
  {
   "cell_type": "markdown",
   "metadata": {},
   "source": [
    "### Before starting the training, check the graph in Tensorboard"
   ]
  },
  {
   "cell_type": "markdown",
   "metadata": {},
   "source": [
    "run the following cell. This generates an events file in the `./graphviz/` directory. Run tensorboard inside that directory to visualize the graph structure prior to running the training session"
   ]
  },
  {
   "cell_type": "code",
   "execution_count": 51,
   "metadata": {},
   "outputs": [],
   "source": [
    "# save the graph to check the structure\n",
    "tensorboard_writer = tf.summary.FileWriter(logdir=graph_viz_path, \n",
    "                                           graph=tf.get_default_graph(), filename_suffix=\".bot\")\n",
    "\n",
    "# delete this writer. I will create another one while training the network\n",
    "del tensorboard_writer"
   ]
  },
  {
   "cell_type": "markdown",
   "metadata": {},
   "source": [
    "### Now, I can run the training of the network "
   ]
  },
  {
   "cell_type": "code",
   "execution_count": 52,
   "metadata": {},
   "outputs": [],
   "source": [
    "model_name = \"Model_2\""
   ]
  },
  {
   "cell_type": "code",
   "execution_count": 53,
   "metadata": {},
   "outputs": [
    {
     "name": "stdout",
     "output_type": "stream",
     "text": [
      "Model save path:  ./Models/Model_2\n"
     ]
    }
   ],
   "source": [
    "model_save_path = os.path.join(base_model_path, model_name)\n",
    "print(\"Model save path: \", model_save_path)"
   ]
  },
  {
   "cell_type": "code",
   "execution_count": 54,
   "metadata": {},
   "outputs": [
    {
     "name": "stdout",
     "output_type": "stream",
     "text": [
      "total training exaples: 8000\n"
     ]
    }
   ],
   "source": [
    "total_train_samples = len(x_test)\n",
    "print(\"total training exaples:\", total_train_samples)"
   ]
  },
  {
   "cell_type": "code",
   "execution_count": null,
   "metadata": {
    "scrolled": true
   },
   "outputs": [],
   "source": [
    "\"\"\" Training cell for the network \"\"\"\n",
    "\n",
    "with tf.Session() as sess:\n",
    "    # create a tensorboard writer\n",
    "    tensorboard_writer = tf.summary.FileWriter(logdir=model_save_path, graph=sess.graph, filename_suffix=\".bot\")\n",
    "    \n",
    "    # create a saver\n",
    "    saver = tf.train.Saver(max_to_keep=2)\n",
    "    \n",
    "    # restore the session if the checkpoint exists:\n",
    "    if(os.path.isfile(os.path.join(model_save_path, \"checkpoint\"))):\n",
    "        saver.restore(sess, tf.train.latest_checkpoint(model_save_path))\n",
    "    \n",
    "    else: # initialize all the variables:\n",
    "        sess.run(init)\n",
    "        \n",
    "    loss_delta = float('inf'); prev_loss = 0\n",
    "    \n",
    "    global_step = 0\n",
    "    epoch = 0\n",
    "    # start the training loop ... \n",
    "    while loss_delta >= loss_threshold:\n",
    "        # run the training\n",
    "        no_of_batches = int(np.ceil(total_train_samples / batch_size))\n",
    "        gen_x, gen_y = None, None # start with empty lists\n",
    "        \n",
    "        cls_loss = []; cls_accuracy = []\n",
    "        gen_loss = [];\n",
    "        \n",
    "        for bat_no in range(no_of_batches):\n",
    "            # extract the data for training\n",
    "            start = bat_no * batch_size; end = start + batch_size\n",
    "            \n",
    "            batch_x = x_test[start: end]; batch_y = y_test[start: end]\n",
    "            \n",
    "            # append the generated data\n",
    "            if gen_x is not None and gen_y is not None:\n",
    "                app_batch_x = np.concatenate([batch_x, gen_x], axis=0)\n",
    "                app_batch_y = np.concatenate([batch_y, gen_y], axis=0)\n",
    "            else:\n",
    "                app_batch_x = batch_x\n",
    "                app_batch_y = batch_y\n",
    "        \n",
    "            #==================================================================\n",
    "            # Classifier training\n",
    "            #==================================================================\n",
    "            # run the classification training step\n",
    "            _, cls_ls, cls_acc = sess.run([classifier_optimizer, class_loss, accuracy],\n",
    "                                      feed_dict={\n",
    "                                          x_input: app_batch_x,\n",
    "                                          y_label: app_batch_y,\n",
    "                                          bn_train_mode: True\n",
    "                                      })\n",
    "            \n",
    "            #==================================================================\n",
    "            # Generator training\n",
    "            #==================================================================\n",
    "            # run the generator training step\n",
    "            _, gen_ls, gen_imgs = sess.run([generator_optimizer, \n",
    "                                                           gen_loss, generator_out],\n",
    "                                                      feed_dict={\n",
    "                                                          x_input: batch_x,\n",
    "                                                          y_label: batch_y,\n",
    "                                                          bn_train_mode: True\n",
    "                                                      })\n",
    "            \n",
    "            # fill the gen_x and gen_y batches:\n",
    "            idx = np.random.randint(batch_size, size=int(batch_size / 2))\n",
    "            gen_x = gen_imgs[idx]; gen_y = batch_y[idx]\n",
    "            \n",
    "            cls_loss.append(cls_ls); cls_accuracy.append(cls_acc)\n",
    "            gen_loss.append(gen_ls)\n",
    "        \n",
    "            if bat_no == 0 or (bat_no + 1) % summary_checkpoint == 0:\n",
    "                # this includes all the summaries\n",
    "                sums = sess.run(all_summaries, feed_dict={\n",
    "                                                    x_input: batch_x,\n",
    "                                                    y_label: batch_y,\n",
    "                                                    bn_train_mode: True\n",
    "                                                })\n",
    "                tensorboard_writer.add_summary(sums, global_step=global_step)\n",
    "                \n",
    "            global_step += 1\n",
    "        \n",
    "        current_loss = np.mean(cls_loss)\n",
    "        loss_delta = np.abs(current_loss - prev_loss)\n",
    "        prev_loss = current_loss\n",
    "        \n",
    "        # print all the summary\n",
    "        print(\"Classification_Loss: %.3f Classification_Accuracy: %.3f\" %(current_loss, np.mean(cls_accuracy)))\n",
    "        print(\"Generation_Loss: %.3f\" %(np.mean(gen_loss)))\n",
    "        \n",
    "        epoch += 1\n",
    "        \n",
    "        if epoch == 1 or epoch % summary_checkpoint == 0:\n",
    "            graph_save_status = (epoch == 1)\n",
    "            saver.save(sess, save_path=os.path.join(model_save_path, model_name), \n",
    "                       global_step=epoch, write_meta_graph=graph_save_status)"
   ]
  },
  {
   "cell_type": "markdown",
   "metadata": {},
   "source": [
    "# Assess the results now ...."
   ]
  }
 ],
 "metadata": {
  "kernelspec": {
   "display_name": "Python 3",
   "language": "python",
   "name": "python3"
  },
  "language_info": {
   "codemirror_mode": {
    "name": "ipython",
    "version": 3
   },
   "file_extension": ".py",
   "mimetype": "text/x-python",
   "name": "python",
   "nbconvert_exporter": "python",
   "pygments_lexer": "ipython3",
   "version": "3.5.2"
  }
 },
 "nbformat": 4,
 "nbformat_minor": 2
}
